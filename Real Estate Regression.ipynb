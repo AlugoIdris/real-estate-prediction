{
 "cells": [
  {
   "cell_type": "code",
   "execution_count": 621,
   "id": "d0d378d8",
   "metadata": {},
   "outputs": [],
   "source": [
    "# Importing needed libraries\n",
    "import pandas as pd\n",
    "import numpy as np\n",
    "from matplotlib import pyplot as plt\n",
    "import seaborn as sns\n",
    "# %matplotlib inline\n",
    "import plotly.express as px\n",
    "from sklearn.linear_model import LinearRegression\n",
    "from sklearn.metrics import mean_squared_error, r2_score, make_scorer\n",
    "from sklearn.model_selection import train_test_split\n",
    "from sklearn.linear_model import Lasso\n",
    "from sklearn.tree import DecisionTreeRegressor\n",
    "from sklearn.tree import export_text\n",
    "from sklearn.ensemble import RandomForestRegressor\n",
    "from sklearn.ensemble import GradientBoostingRegressor\n",
    "from sklearn.model_selection import GridSearchCV, RandomizedSearchCV\n",
    "from sklearn.preprocessing import StandardScaler\n",
    "from sklearn.pipeline import Pipeline\n",
    "from sklearn.compose import ColumnTransformer\n",
    "import joblib\n",
    "import warnings\n",
    "warnings.filterwarnings('ignore')"
   ]
  },
  {
   "cell_type": "code",
   "execution_count": 622,
   "id": "f1c6a490",
   "metadata": {},
   "outputs": [
    {
     "data": {
      "text/html": [
       "<div>\n",
       "<style scoped>\n",
       "    .dataframe tbody tr th:only-of-type {\n",
       "        vertical-align: middle;\n",
       "    }\n",
       "\n",
       "    .dataframe tbody tr th {\n",
       "        vertical-align: top;\n",
       "    }\n",
       "\n",
       "    .dataframe thead th {\n",
       "        text-align: right;\n",
       "    }\n",
       "</style>\n",
       "<table border=\"1\" class=\"dataframe\">\n",
       "  <thead>\n",
       "    <tr style=\"text-align: right;\">\n",
       "      <th></th>\n",
       "      <th>transaction_date</th>\n",
       "      <th>house_age</th>\n",
       "      <th>transit_distance</th>\n",
       "      <th>local_convenience_stores</th>\n",
       "      <th>latitude</th>\n",
       "      <th>longitude</th>\n",
       "      <th>price_per_unit</th>\n",
       "    </tr>\n",
       "  </thead>\n",
       "  <tbody>\n",
       "    <tr>\n",
       "      <th>0</th>\n",
       "      <td>2012.917</td>\n",
       "      <td>32.0</td>\n",
       "      <td>84.87882</td>\n",
       "      <td>10</td>\n",
       "      <td>24.98298</td>\n",
       "      <td>121.54024</td>\n",
       "      <td>37.9</td>\n",
       "    </tr>\n",
       "    <tr>\n",
       "      <th>1</th>\n",
       "      <td>2012.917</td>\n",
       "      <td>19.5</td>\n",
       "      <td>306.59470</td>\n",
       "      <td>9</td>\n",
       "      <td>24.98034</td>\n",
       "      <td>121.53951</td>\n",
       "      <td>42.2</td>\n",
       "    </tr>\n",
       "    <tr>\n",
       "      <th>2</th>\n",
       "      <td>2013.583</td>\n",
       "      <td>13.3</td>\n",
       "      <td>561.98450</td>\n",
       "      <td>5</td>\n",
       "      <td>24.98746</td>\n",
       "      <td>121.54391</td>\n",
       "      <td>47.3</td>\n",
       "    </tr>\n",
       "    <tr>\n",
       "      <th>3</th>\n",
       "      <td>2013.500</td>\n",
       "      <td>13.3</td>\n",
       "      <td>561.98450</td>\n",
       "      <td>5</td>\n",
       "      <td>24.98746</td>\n",
       "      <td>121.54391</td>\n",
       "      <td>54.8</td>\n",
       "    </tr>\n",
       "    <tr>\n",
       "      <th>4</th>\n",
       "      <td>2012.833</td>\n",
       "      <td>5.0</td>\n",
       "      <td>390.56840</td>\n",
       "      <td>5</td>\n",
       "      <td>24.97937</td>\n",
       "      <td>121.54245</td>\n",
       "      <td>43.1</td>\n",
       "    </tr>\n",
       "  </tbody>\n",
       "</table>\n",
       "</div>"
      ],
      "text/plain": [
       "   transaction_date  house_age  transit_distance  local_convenience_stores  \\\n",
       "0          2012.917       32.0          84.87882                        10   \n",
       "1          2012.917       19.5         306.59470                         9   \n",
       "2          2013.583       13.3         561.98450                         5   \n",
       "3          2013.500       13.3         561.98450                         5   \n",
       "4          2012.833        5.0         390.56840                         5   \n",
       "\n",
       "   latitude  longitude  price_per_unit  \n",
       "0  24.98298  121.54024            37.9  \n",
       "1  24.98034  121.53951            42.2  \n",
       "2  24.98746  121.54391            47.3  \n",
       "3  24.98746  121.54391            54.8  \n",
       "4  24.97937  121.54245            43.1  "
      ]
     },
     "execution_count": 622,
     "metadata": {},
     "output_type": "execute_result"
    }
   ],
   "source": [
    "# Importing and loading data\n",
    "\n",
    "data = pd.read_csv(\"C:/Users/Idris/OneDrive/Documents/Azure DS/real_estate.csv\")\n",
    "data.head()"
   ]
  },
  {
   "cell_type": "code",
   "execution_count": 623,
   "id": "aa1205bd",
   "metadata": {},
   "outputs": [
    {
     "name": "stdout",
     "output_type": "stream",
     "text": [
      "<class 'pandas.core.frame.DataFrame'>\n",
      "RangeIndex: 414 entries, 0 to 413\n",
      "Data columns (total 7 columns):\n",
      " #   Column                    Non-Null Count  Dtype  \n",
      "---  ------                    --------------  -----  \n",
      " 0   transaction_date          414 non-null    float64\n",
      " 1   house_age                 414 non-null    float64\n",
      " 2   transit_distance          414 non-null    float64\n",
      " 3   local_convenience_stores  414 non-null    int64  \n",
      " 4   latitude                  414 non-null    float64\n",
      " 5   longitude                 414 non-null    float64\n",
      " 6   price_per_unit            414 non-null    float64\n",
      "dtypes: float64(6), int64(1)\n",
      "memory usage: 22.8 KB\n"
     ]
    }
   ],
   "source": [
    "data.info()"
   ]
  },
  {
   "cell_type": "code",
   "execution_count": 624,
   "id": "a0280da7",
   "metadata": {},
   "outputs": [
    {
     "data": {
      "text/plain": [
       "(414, 7)"
      ]
     },
     "execution_count": 624,
     "metadata": {},
     "output_type": "execute_result"
    }
   ],
   "source": [
    "data.shape"
   ]
  },
  {
   "cell_type": "code",
   "execution_count": 625,
   "id": "cc483acb",
   "metadata": {},
   "outputs": [
    {
     "data": {
      "text/html": [
       "<div>\n",
       "<style scoped>\n",
       "    .dataframe tbody tr th:only-of-type {\n",
       "        vertical-align: middle;\n",
       "    }\n",
       "\n",
       "    .dataframe tbody tr th {\n",
       "        vertical-align: top;\n",
       "    }\n",
       "\n",
       "    .dataframe thead th {\n",
       "        text-align: right;\n",
       "    }\n",
       "</style>\n",
       "<table border=\"1\" class=\"dataframe\">\n",
       "  <thead>\n",
       "    <tr style=\"text-align: right;\">\n",
       "      <th></th>\n",
       "      <th>transaction_date</th>\n",
       "      <th>house_age</th>\n",
       "      <th>transit_distance</th>\n",
       "      <th>local_convenience_stores</th>\n",
       "      <th>latitude</th>\n",
       "      <th>longitude</th>\n",
       "      <th>price_per_unit</th>\n",
       "    </tr>\n",
       "  </thead>\n",
       "  <tbody>\n",
       "    <tr>\n",
       "      <th>count</th>\n",
       "      <td>414.000000</td>\n",
       "      <td>414.000000</td>\n",
       "      <td>414.000000</td>\n",
       "      <td>414.000000</td>\n",
       "      <td>414.000000</td>\n",
       "      <td>414.000000</td>\n",
       "      <td>414.000000</td>\n",
       "    </tr>\n",
       "    <tr>\n",
       "      <th>mean</th>\n",
       "      <td>2013.148971</td>\n",
       "      <td>17.712560</td>\n",
       "      <td>1083.885689</td>\n",
       "      <td>4.094203</td>\n",
       "      <td>24.969030</td>\n",
       "      <td>121.533361</td>\n",
       "      <td>37.980193</td>\n",
       "    </tr>\n",
       "    <tr>\n",
       "      <th>std</th>\n",
       "      <td>0.281967</td>\n",
       "      <td>11.392485</td>\n",
       "      <td>1262.109595</td>\n",
       "      <td>2.945562</td>\n",
       "      <td>0.012410</td>\n",
       "      <td>0.015347</td>\n",
       "      <td>13.606488</td>\n",
       "    </tr>\n",
       "    <tr>\n",
       "      <th>min</th>\n",
       "      <td>2012.667000</td>\n",
       "      <td>0.000000</td>\n",
       "      <td>23.382840</td>\n",
       "      <td>0.000000</td>\n",
       "      <td>24.932070</td>\n",
       "      <td>121.473530</td>\n",
       "      <td>7.600000</td>\n",
       "    </tr>\n",
       "    <tr>\n",
       "      <th>25%</th>\n",
       "      <td>2012.917000</td>\n",
       "      <td>9.025000</td>\n",
       "      <td>289.324800</td>\n",
       "      <td>1.000000</td>\n",
       "      <td>24.963000</td>\n",
       "      <td>121.528085</td>\n",
       "      <td>27.700000</td>\n",
       "    </tr>\n",
       "    <tr>\n",
       "      <th>50%</th>\n",
       "      <td>2013.167000</td>\n",
       "      <td>16.100000</td>\n",
       "      <td>492.231300</td>\n",
       "      <td>4.000000</td>\n",
       "      <td>24.971100</td>\n",
       "      <td>121.538630</td>\n",
       "      <td>38.450000</td>\n",
       "    </tr>\n",
       "    <tr>\n",
       "      <th>75%</th>\n",
       "      <td>2013.417000</td>\n",
       "      <td>28.150000</td>\n",
       "      <td>1454.279000</td>\n",
       "      <td>6.000000</td>\n",
       "      <td>24.977455</td>\n",
       "      <td>121.543305</td>\n",
       "      <td>46.600000</td>\n",
       "    </tr>\n",
       "    <tr>\n",
       "      <th>max</th>\n",
       "      <td>2013.583000</td>\n",
       "      <td>43.800000</td>\n",
       "      <td>6488.021000</td>\n",
       "      <td>10.000000</td>\n",
       "      <td>25.014590</td>\n",
       "      <td>121.566270</td>\n",
       "      <td>117.500000</td>\n",
       "    </tr>\n",
       "  </tbody>\n",
       "</table>\n",
       "</div>"
      ],
      "text/plain": [
       "       transaction_date   house_age  transit_distance  \\\n",
       "count        414.000000  414.000000        414.000000   \n",
       "mean        2013.148971   17.712560       1083.885689   \n",
       "std            0.281967   11.392485       1262.109595   \n",
       "min         2012.667000    0.000000         23.382840   \n",
       "25%         2012.917000    9.025000        289.324800   \n",
       "50%         2013.167000   16.100000        492.231300   \n",
       "75%         2013.417000   28.150000       1454.279000   \n",
       "max         2013.583000   43.800000       6488.021000   \n",
       "\n",
       "       local_convenience_stores    latitude   longitude  price_per_unit  \n",
       "count                414.000000  414.000000  414.000000      414.000000  \n",
       "mean                   4.094203   24.969030  121.533361       37.980193  \n",
       "std                    2.945562    0.012410    0.015347       13.606488  \n",
       "min                    0.000000   24.932070  121.473530        7.600000  \n",
       "25%                    1.000000   24.963000  121.528085       27.700000  \n",
       "50%                    4.000000   24.971100  121.538630       38.450000  \n",
       "75%                    6.000000   24.977455  121.543305       46.600000  \n",
       "max                   10.000000   25.014590  121.566270      117.500000  "
      ]
     },
     "execution_count": 625,
     "metadata": {},
     "output_type": "execute_result"
    }
   ],
   "source": [
    "data.describe()"
   ]
  },
  {
   "cell_type": "code",
   "execution_count": 626,
   "id": "2504c03c",
   "metadata": {},
   "outputs": [
    {
     "data": {
      "text/plain": [
       "transaction_date            0\n",
       "house_age                   0\n",
       "transit_distance            0\n",
       "local_convenience_stores    0\n",
       "latitude                    0\n",
       "longitude                   0\n",
       "price_per_unit              0\n",
       "dtype: int64"
      ]
     },
     "execution_count": 626,
     "metadata": {},
     "output_type": "execute_result"
    }
   ],
   "source": [
    "data.isnull().sum()"
   ]
  },
  {
   "cell_type": "markdown",
   "id": "d57b0f64",
   "metadata": {},
   "source": [
    "Lets Identify the Numerical and Categorical Variables"
   ]
  },
  {
   "cell_type": "code",
   "execution_count": 627,
   "id": "1186994e",
   "metadata": {},
   "outputs": [
    {
     "data": {
      "text/plain": [
       "Index(['house_age', 'transit_distance', 'local_convenience_stores', 'latitude',\n",
       "       'longitude', 'price_per_unit'],\n",
       "      dtype='object')"
      ]
     },
     "execution_count": 627,
     "metadata": {},
     "output_type": "execute_result"
    }
   ],
   "source": [
    "# numerical columns\n",
    "num_col = data.select_dtypes(\"number\").drop(\"transaction_date\", axis = 1).columns\n",
    "num_col"
   ]
  },
  {
   "cell_type": "code",
   "execution_count": 628,
   "id": "154c4909",
   "metadata": {},
   "outputs": [
    {
     "data": {
      "text/plain": [
       "Index([], dtype='object')"
      ]
     },
     "execution_count": 628,
     "metadata": {},
     "output_type": "execute_result"
    }
   ],
   "source": [
    "# categorical columns\n",
    "cat_col = data.select_dtypes(\"object\").columns\n",
    "cat_col"
   ]
  },
  {
   "cell_type": "markdown",
   "id": "e11f9bf7",
   "metadata": {},
   "source": [
    "Lets take care of the transaction date column"
   ]
  },
  {
   "cell_type": "code",
   "execution_count": 629,
   "id": "a38ff9c4",
   "metadata": {},
   "outputs": [
    {
     "data": {
      "text/html": [
       "<div>\n",
       "<style scoped>\n",
       "    .dataframe tbody tr th:only-of-type {\n",
       "        vertical-align: middle;\n",
       "    }\n",
       "\n",
       "    .dataframe tbody tr th {\n",
       "        vertical-align: top;\n",
       "    }\n",
       "\n",
       "    .dataframe thead th {\n",
       "        text-align: right;\n",
       "    }\n",
       "</style>\n",
       "<table border=\"1\" class=\"dataframe\">\n",
       "  <thead>\n",
       "    <tr style=\"text-align: right;\">\n",
       "      <th></th>\n",
       "      <th>transaction_date</th>\n",
       "      <th>house_age</th>\n",
       "      <th>transit_distance</th>\n",
       "      <th>local_convenience_stores</th>\n",
       "      <th>latitude</th>\n",
       "      <th>longitude</th>\n",
       "      <th>price_per_unit</th>\n",
       "      <th>Year</th>\n",
       "      <th>Month</th>\n",
       "    </tr>\n",
       "  </thead>\n",
       "  <tbody>\n",
       "    <tr>\n",
       "      <th>0</th>\n",
       "      <td>2012.917</td>\n",
       "      <td>32.0</td>\n",
       "      <td>84.87882</td>\n",
       "      <td>10</td>\n",
       "      <td>24.98298</td>\n",
       "      <td>121.54024</td>\n",
       "      <td>37.9</td>\n",
       "      <td>2012</td>\n",
       "      <td>10</td>\n",
       "    </tr>\n",
       "    <tr>\n",
       "      <th>1</th>\n",
       "      <td>2012.917</td>\n",
       "      <td>19.5</td>\n",
       "      <td>306.59470</td>\n",
       "      <td>9</td>\n",
       "      <td>24.98034</td>\n",
       "      <td>121.53951</td>\n",
       "      <td>42.2</td>\n",
       "      <td>2012</td>\n",
       "      <td>10</td>\n",
       "    </tr>\n",
       "    <tr>\n",
       "      <th>2</th>\n",
       "      <td>2013.583</td>\n",
       "      <td>13.3</td>\n",
       "      <td>561.98450</td>\n",
       "      <td>5</td>\n",
       "      <td>24.98746</td>\n",
       "      <td>121.54391</td>\n",
       "      <td>47.3</td>\n",
       "      <td>2013</td>\n",
       "      <td>6</td>\n",
       "    </tr>\n",
       "    <tr>\n",
       "      <th>3</th>\n",
       "      <td>2013.500</td>\n",
       "      <td>13.3</td>\n",
       "      <td>561.98450</td>\n",
       "      <td>5</td>\n",
       "      <td>24.98746</td>\n",
       "      <td>121.54391</td>\n",
       "      <td>54.8</td>\n",
       "      <td>2013</td>\n",
       "      <td>6</td>\n",
       "    </tr>\n",
       "    <tr>\n",
       "      <th>4</th>\n",
       "      <td>2012.833</td>\n",
       "      <td>5.0</td>\n",
       "      <td>390.56840</td>\n",
       "      <td>5</td>\n",
       "      <td>24.97937</td>\n",
       "      <td>121.54245</td>\n",
       "      <td>43.1</td>\n",
       "      <td>2012</td>\n",
       "      <td>9</td>\n",
       "    </tr>\n",
       "  </tbody>\n",
       "</table>\n",
       "</div>"
      ],
      "text/plain": [
       "   transaction_date  house_age  transit_distance  local_convenience_stores  \\\n",
       "0          2012.917       32.0          84.87882                        10   \n",
       "1          2012.917       19.5         306.59470                         9   \n",
       "2          2013.583       13.3         561.98450                         5   \n",
       "3          2013.500       13.3         561.98450                         5   \n",
       "4          2012.833        5.0         390.56840                         5   \n",
       "\n",
       "   latitude  longitude  price_per_unit  Year  Month  \n",
       "0  24.98298  121.54024            37.9  2012     10  \n",
       "1  24.98034  121.53951            42.2  2012     10  \n",
       "2  24.98746  121.54391            47.3  2013      6  \n",
       "3  24.98746  121.54391            54.8  2013      6  \n",
       "4  24.97937  121.54245            43.1  2012      9  "
      ]
     },
     "execution_count": 629,
     "metadata": {},
     "output_type": "execute_result"
    }
   ],
   "source": [
    "data[\"Year\"] = data[\"transaction_date\"].astype(str).str.split(\".\", expand = True)[0]\n",
    "data[\"Month\"] = data[\"transaction_date\"].astype(str).str.split(\".\", \n",
    "                                                               expand = True)[1].astype(str).str[0].astype(int) + 1\n",
    "\n",
    "data.head()"
   ]
  },
  {
   "cell_type": "markdown",
   "id": "65c26f8d",
   "metadata": {},
   "source": [
    "Lets Convert Month Number to Month Name"
   ]
  },
  {
   "cell_type": "code",
   "execution_count": 630,
   "id": "75310254",
   "metadata": {},
   "outputs": [
    {
     "data": {
      "text/html": [
       "<div>\n",
       "<style scoped>\n",
       "    .dataframe tbody tr th:only-of-type {\n",
       "        vertical-align: middle;\n",
       "    }\n",
       "\n",
       "    .dataframe tbody tr th {\n",
       "        vertical-align: top;\n",
       "    }\n",
       "\n",
       "    .dataframe thead th {\n",
       "        text-align: right;\n",
       "    }\n",
       "</style>\n",
       "<table border=\"1\" class=\"dataframe\">\n",
       "  <thead>\n",
       "    <tr style=\"text-align: right;\">\n",
       "      <th></th>\n",
       "      <th>transaction_date</th>\n",
       "      <th>house_age</th>\n",
       "      <th>transit_distance</th>\n",
       "      <th>local_convenience_stores</th>\n",
       "      <th>latitude</th>\n",
       "      <th>longitude</th>\n",
       "      <th>price_per_unit</th>\n",
       "      <th>Year</th>\n",
       "      <th>Month</th>\n",
       "      <th>MonthName</th>\n",
       "    </tr>\n",
       "  </thead>\n",
       "  <tbody>\n",
       "    <tr>\n",
       "      <th>0</th>\n",
       "      <td>2012.917</td>\n",
       "      <td>32.0</td>\n",
       "      <td>84.87882</td>\n",
       "      <td>10</td>\n",
       "      <td>24.98298</td>\n",
       "      <td>121.54024</td>\n",
       "      <td>37.9</td>\n",
       "      <td>2012</td>\n",
       "      <td>10</td>\n",
       "      <td>October</td>\n",
       "    </tr>\n",
       "    <tr>\n",
       "      <th>1</th>\n",
       "      <td>2012.917</td>\n",
       "      <td>19.5</td>\n",
       "      <td>306.59470</td>\n",
       "      <td>9</td>\n",
       "      <td>24.98034</td>\n",
       "      <td>121.53951</td>\n",
       "      <td>42.2</td>\n",
       "      <td>2012</td>\n",
       "      <td>10</td>\n",
       "      <td>October</td>\n",
       "    </tr>\n",
       "    <tr>\n",
       "      <th>2</th>\n",
       "      <td>2013.583</td>\n",
       "      <td>13.3</td>\n",
       "      <td>561.98450</td>\n",
       "      <td>5</td>\n",
       "      <td>24.98746</td>\n",
       "      <td>121.54391</td>\n",
       "      <td>47.3</td>\n",
       "      <td>2013</td>\n",
       "      <td>6</td>\n",
       "      <td>June</td>\n",
       "    </tr>\n",
       "    <tr>\n",
       "      <th>3</th>\n",
       "      <td>2013.500</td>\n",
       "      <td>13.3</td>\n",
       "      <td>561.98450</td>\n",
       "      <td>5</td>\n",
       "      <td>24.98746</td>\n",
       "      <td>121.54391</td>\n",
       "      <td>54.8</td>\n",
       "      <td>2013</td>\n",
       "      <td>6</td>\n",
       "      <td>June</td>\n",
       "    </tr>\n",
       "    <tr>\n",
       "      <th>4</th>\n",
       "      <td>2012.833</td>\n",
       "      <td>5.0</td>\n",
       "      <td>390.56840</td>\n",
       "      <td>5</td>\n",
       "      <td>24.97937</td>\n",
       "      <td>121.54245</td>\n",
       "      <td>43.1</td>\n",
       "      <td>2012</td>\n",
       "      <td>9</td>\n",
       "      <td>September</td>\n",
       "    </tr>\n",
       "    <tr>\n",
       "      <th>...</th>\n",
       "      <td>...</td>\n",
       "      <td>...</td>\n",
       "      <td>...</td>\n",
       "      <td>...</td>\n",
       "      <td>...</td>\n",
       "      <td>...</td>\n",
       "      <td>...</td>\n",
       "      <td>...</td>\n",
       "      <td>...</td>\n",
       "      <td>...</td>\n",
       "    </tr>\n",
       "    <tr>\n",
       "      <th>409</th>\n",
       "      <td>2013.000</td>\n",
       "      <td>13.7</td>\n",
       "      <td>4082.01500</td>\n",
       "      <td>0</td>\n",
       "      <td>24.94155</td>\n",
       "      <td>121.50381</td>\n",
       "      <td>15.4</td>\n",
       "      <td>2013</td>\n",
       "      <td>1</td>\n",
       "      <td>January</td>\n",
       "    </tr>\n",
       "    <tr>\n",
       "      <th>410</th>\n",
       "      <td>2012.667</td>\n",
       "      <td>5.6</td>\n",
       "      <td>90.45606</td>\n",
       "      <td>9</td>\n",
       "      <td>24.97433</td>\n",
       "      <td>121.54310</td>\n",
       "      <td>50.0</td>\n",
       "      <td>2012</td>\n",
       "      <td>7</td>\n",
       "      <td>July</td>\n",
       "    </tr>\n",
       "    <tr>\n",
       "      <th>411</th>\n",
       "      <td>2013.250</td>\n",
       "      <td>18.8</td>\n",
       "      <td>390.96960</td>\n",
       "      <td>7</td>\n",
       "      <td>24.97923</td>\n",
       "      <td>121.53986</td>\n",
       "      <td>40.6</td>\n",
       "      <td>2013</td>\n",
       "      <td>3</td>\n",
       "      <td>March</td>\n",
       "    </tr>\n",
       "    <tr>\n",
       "      <th>412</th>\n",
       "      <td>2013.000</td>\n",
       "      <td>8.1</td>\n",
       "      <td>104.81010</td>\n",
       "      <td>5</td>\n",
       "      <td>24.96674</td>\n",
       "      <td>121.54067</td>\n",
       "      <td>52.5</td>\n",
       "      <td>2013</td>\n",
       "      <td>1</td>\n",
       "      <td>January</td>\n",
       "    </tr>\n",
       "    <tr>\n",
       "      <th>413</th>\n",
       "      <td>2013.500</td>\n",
       "      <td>6.5</td>\n",
       "      <td>90.45606</td>\n",
       "      <td>9</td>\n",
       "      <td>24.97433</td>\n",
       "      <td>121.54310</td>\n",
       "      <td>63.9</td>\n",
       "      <td>2013</td>\n",
       "      <td>6</td>\n",
       "      <td>June</td>\n",
       "    </tr>\n",
       "  </tbody>\n",
       "</table>\n",
       "<p>414 rows × 10 columns</p>\n",
       "</div>"
      ],
      "text/plain": [
       "     transaction_date  house_age  transit_distance  local_convenience_stores  \\\n",
       "0            2012.917       32.0          84.87882                        10   \n",
       "1            2012.917       19.5         306.59470                         9   \n",
       "2            2013.583       13.3         561.98450                         5   \n",
       "3            2013.500       13.3         561.98450                         5   \n",
       "4            2012.833        5.0         390.56840                         5   \n",
       "..                ...        ...               ...                       ...   \n",
       "409          2013.000       13.7        4082.01500                         0   \n",
       "410          2012.667        5.6          90.45606                         9   \n",
       "411          2013.250       18.8         390.96960                         7   \n",
       "412          2013.000        8.1         104.81010                         5   \n",
       "413          2013.500        6.5          90.45606                         9   \n",
       "\n",
       "     latitude  longitude  price_per_unit  Year  Month  MonthName  \n",
       "0    24.98298  121.54024            37.9  2012     10    October  \n",
       "1    24.98034  121.53951            42.2  2012     10    October  \n",
       "2    24.98746  121.54391            47.3  2013      6       June  \n",
       "3    24.98746  121.54391            54.8  2013      6       June  \n",
       "4    24.97937  121.54245            43.1  2012      9  September  \n",
       "..        ...        ...             ...   ...    ...        ...  \n",
       "409  24.94155  121.50381            15.4  2013      1    January  \n",
       "410  24.97433  121.54310            50.0  2012      7       July  \n",
       "411  24.97923  121.53986            40.6  2013      3      March  \n",
       "412  24.96674  121.54067            52.5  2013      1    January  \n",
       "413  24.97433  121.54310            63.9  2013      6       June  \n",
       "\n",
       "[414 rows x 10 columns]"
      ]
     },
     "execution_count": 630,
     "metadata": {},
     "output_type": "execute_result"
    }
   ],
   "source": [
    "import calendar\n",
    "data[\"MonthName\"] = data[\"Month\"].apply(lambda row: calendar.month_name[row])\n",
    "data"
   ]
  },
  {
   "cell_type": "markdown",
   "id": "147fc598",
   "metadata": {},
   "source": [
    "Lets Concatenate Year and Month Name and drop the created columns"
   ]
  },
  {
   "cell_type": "code",
   "execution_count": 631,
   "id": "535a17a4",
   "metadata": {},
   "outputs": [
    {
     "data": {
      "text/html": [
       "<div>\n",
       "<style scoped>\n",
       "    .dataframe tbody tr th:only-of-type {\n",
       "        vertical-align: middle;\n",
       "    }\n",
       "\n",
       "    .dataframe tbody tr th {\n",
       "        vertical-align: top;\n",
       "    }\n",
       "\n",
       "    .dataframe thead th {\n",
       "        text-align: right;\n",
       "    }\n",
       "</style>\n",
       "<table border=\"1\" class=\"dataframe\">\n",
       "  <thead>\n",
       "    <tr style=\"text-align: right;\">\n",
       "      <th></th>\n",
       "      <th>house_age</th>\n",
       "      <th>transit_distance</th>\n",
       "      <th>local_convenience_stores</th>\n",
       "      <th>latitude</th>\n",
       "      <th>longitude</th>\n",
       "      <th>price_per_unit</th>\n",
       "      <th>transactionDate</th>\n",
       "    </tr>\n",
       "  </thead>\n",
       "  <tbody>\n",
       "    <tr>\n",
       "      <th>0</th>\n",
       "      <td>32.0</td>\n",
       "      <td>84.87882</td>\n",
       "      <td>10</td>\n",
       "      <td>24.98298</td>\n",
       "      <td>121.54024</td>\n",
       "      <td>37.9</td>\n",
       "      <td>2012 October</td>\n",
       "    </tr>\n",
       "    <tr>\n",
       "      <th>1</th>\n",
       "      <td>19.5</td>\n",
       "      <td>306.59470</td>\n",
       "      <td>9</td>\n",
       "      <td>24.98034</td>\n",
       "      <td>121.53951</td>\n",
       "      <td>42.2</td>\n",
       "      <td>2012 October</td>\n",
       "    </tr>\n",
       "    <tr>\n",
       "      <th>2</th>\n",
       "      <td>13.3</td>\n",
       "      <td>561.98450</td>\n",
       "      <td>5</td>\n",
       "      <td>24.98746</td>\n",
       "      <td>121.54391</td>\n",
       "      <td>47.3</td>\n",
       "      <td>2013 June</td>\n",
       "    </tr>\n",
       "    <tr>\n",
       "      <th>3</th>\n",
       "      <td>13.3</td>\n",
       "      <td>561.98450</td>\n",
       "      <td>5</td>\n",
       "      <td>24.98746</td>\n",
       "      <td>121.54391</td>\n",
       "      <td>54.8</td>\n",
       "      <td>2013 June</td>\n",
       "    </tr>\n",
       "    <tr>\n",
       "      <th>4</th>\n",
       "      <td>5.0</td>\n",
       "      <td>390.56840</td>\n",
       "      <td>5</td>\n",
       "      <td>24.97937</td>\n",
       "      <td>121.54245</td>\n",
       "      <td>43.1</td>\n",
       "      <td>2012 September</td>\n",
       "    </tr>\n",
       "  </tbody>\n",
       "</table>\n",
       "</div>"
      ],
      "text/plain": [
       "   house_age  transit_distance  local_convenience_stores  latitude  longitude  \\\n",
       "0       32.0          84.87882                        10  24.98298  121.54024   \n",
       "1       19.5         306.59470                         9  24.98034  121.53951   \n",
       "2       13.3         561.98450                         5  24.98746  121.54391   \n",
       "3       13.3         561.98450                         5  24.98746  121.54391   \n",
       "4        5.0         390.56840                         5  24.97937  121.54245   \n",
       "\n",
       "   price_per_unit transactionDate  \n",
       "0            37.9    2012 October  \n",
       "1            42.2    2012 October  \n",
       "2            47.3       2013 June  \n",
       "3            54.8       2013 June  \n",
       "4            43.1  2012 September  "
      ]
     },
     "execution_count": 631,
     "metadata": {},
     "output_type": "execute_result"
    }
   ],
   "source": [
    "data[\"transactionDate\"] = data[\"Year\"] + \" \" + data[\"MonthName\"]\n",
    "data = data.drop([\"Year\", \"Month\", \"MonthName\", \"transaction_date\"], axis = 1)\n",
    "data.head()"
   ]
  },
  {
   "cell_type": "markdown",
   "id": "3080b082",
   "metadata": {},
   "source": [
    "Rearrange the columns"
   ]
  },
  {
   "cell_type": "code",
   "execution_count": 632,
   "id": "38b9cef3",
   "metadata": {},
   "outputs": [
    {
     "data": {
      "text/html": [
       "<div>\n",
       "<style scoped>\n",
       "    .dataframe tbody tr th:only-of-type {\n",
       "        vertical-align: middle;\n",
       "    }\n",
       "\n",
       "    .dataframe tbody tr th {\n",
       "        vertical-align: top;\n",
       "    }\n",
       "\n",
       "    .dataframe thead th {\n",
       "        text-align: right;\n",
       "    }\n",
       "</style>\n",
       "<table border=\"1\" class=\"dataframe\">\n",
       "  <thead>\n",
       "    <tr style=\"text-align: right;\">\n",
       "      <th></th>\n",
       "      <th>transactionDate</th>\n",
       "      <th>house_age</th>\n",
       "      <th>transit_distance</th>\n",
       "      <th>local_convenience_stores</th>\n",
       "      <th>latitude</th>\n",
       "      <th>longitude</th>\n",
       "      <th>price_per_unit</th>\n",
       "    </tr>\n",
       "  </thead>\n",
       "  <tbody>\n",
       "    <tr>\n",
       "      <th>0</th>\n",
       "      <td>2012 October</td>\n",
       "      <td>32.0</td>\n",
       "      <td>84.87882</td>\n",
       "      <td>10</td>\n",
       "      <td>24.98298</td>\n",
       "      <td>121.54024</td>\n",
       "      <td>37.9</td>\n",
       "    </tr>\n",
       "    <tr>\n",
       "      <th>1</th>\n",
       "      <td>2012 October</td>\n",
       "      <td>19.5</td>\n",
       "      <td>306.59470</td>\n",
       "      <td>9</td>\n",
       "      <td>24.98034</td>\n",
       "      <td>121.53951</td>\n",
       "      <td>42.2</td>\n",
       "    </tr>\n",
       "    <tr>\n",
       "      <th>2</th>\n",
       "      <td>2013 June</td>\n",
       "      <td>13.3</td>\n",
       "      <td>561.98450</td>\n",
       "      <td>5</td>\n",
       "      <td>24.98746</td>\n",
       "      <td>121.54391</td>\n",
       "      <td>47.3</td>\n",
       "    </tr>\n",
       "    <tr>\n",
       "      <th>3</th>\n",
       "      <td>2013 June</td>\n",
       "      <td>13.3</td>\n",
       "      <td>561.98450</td>\n",
       "      <td>5</td>\n",
       "      <td>24.98746</td>\n",
       "      <td>121.54391</td>\n",
       "      <td>54.8</td>\n",
       "    </tr>\n",
       "    <tr>\n",
       "      <th>4</th>\n",
       "      <td>2012 September</td>\n",
       "      <td>5.0</td>\n",
       "      <td>390.56840</td>\n",
       "      <td>5</td>\n",
       "      <td>24.97937</td>\n",
       "      <td>121.54245</td>\n",
       "      <td>43.1</td>\n",
       "    </tr>\n",
       "  </tbody>\n",
       "</table>\n",
       "</div>"
      ],
      "text/plain": [
       "  transactionDate  house_age  transit_distance  local_convenience_stores  \\\n",
       "0    2012 October       32.0          84.87882                        10   \n",
       "1    2012 October       19.5         306.59470                         9   \n",
       "2       2013 June       13.3         561.98450                         5   \n",
       "3       2013 June       13.3         561.98450                         5   \n",
       "4  2012 September        5.0         390.56840                         5   \n",
       "\n",
       "   latitude  longitude  price_per_unit  \n",
       "0  24.98298  121.54024            37.9  \n",
       "1  24.98034  121.53951            42.2  \n",
       "2  24.98746  121.54391            47.3  \n",
       "3  24.98746  121.54391            54.8  \n",
       "4  24.97937  121.54245            43.1  "
      ]
     },
     "execution_count": 632,
     "metadata": {},
     "output_type": "execute_result"
    }
   ],
   "source": [
    "# data = data[[c for c in data if c not in [\"transactionDate\", \"transit_distance\"]] + [\"transactionDate\", \"transit_distance\"]]\n",
    "# data\n",
    "\n",
    "first_column = data.pop(\"transactionDate\")\n",
    "data.insert(0, 'transactionDate', first_column)\n",
    "data.head()"
   ]
  },
  {
   "cell_type": "markdown",
   "id": "7eda22a4",
   "metadata": {},
   "source": [
    "Lets Check the distribution of the Numerical Variables"
   ]
  },
  {
   "cell_type": "code",
   "execution_count": 633,
   "id": "a2a2c4bd",
   "metadata": {},
   "outputs": [
    {
     "data": {
      "image/png": "[encoded data removed]",
      "text/plain": [
       "<Figure size 900x600 with 1 Axes>"
      ]
     },
     "metadata": {},
     "output_type": "display_data"
    },
    {
     "data": {
      "image/png": "[encoded data removed]",
      "text/plain": [
       "<Figure size 900x600 with 1 Axes>"
      ]
     },
     "metadata": {},
     "output_type": "display_data"
    },
    {
     "data": {
      "image/png": "[encoded data removed]",
      "text/plain": [
       "<Figure size 900x600 with 1 Axes>"
      ]
     },
     "metadata": {},
     "output_type": "display_data"
    },
    {
     "data": {
      "image/png": "[encoded data removed]",
      "text/plain": [
       "<Figure size 900x600 with 1 Axes>"
      ]
     },
     "metadata": {},
     "output_type": "display_data"
    },
    {
     "data": {
      "image/png": "[encoded data removed]",
      "text/plain": [
       "<Figure size 900x600 with 1 Axes>"
      ]
     },
     "metadata": {},
     "output_type": "display_data"
    },
    {
     "data": {
      "image/png": "[encoded data removed]",
      "text/plain": [
       "<Figure size 900x600 with 1 Axes>"
      ]
     },
     "metadata": {},
     "output_type": "display_data"
    }
   ],
   "source": [
    "# Plot a histogram for each numeric feature\n",
    "for col in num_col:\n",
    "    fig = plt.figure(figsize=(9, 6))\n",
    "    ax = fig.gca()\n",
    "    feature = data[col]\n",
    "    feature.hist(bins=100, ax = ax)\n",
    "    ax.axvline(feature.mean(), color='magenta', linestyle='dashed', linewidth=2)\n",
    "    ax.axvline(feature.median(), color='cyan', linestyle='dashed', linewidth=2)\n",
    "    ax.set_title(col)\n",
    "plt.show()"
   ]
  },
  {
   "cell_type": "markdown",
   "id": "df4c9b41",
   "metadata": {},
   "source": [
    "We can notice a SKEW in price per unit as well as transit distance. Lets investigate properly"
   ]
  },
  {
   "cell_type": "code",
   "execution_count": 634,
   "id": "0cf3a03b",
   "metadata": {},
   "outputs": [],
   "source": [
    "def show_distribution(var):\n",
    "\n",
    "    # Get statistics\n",
    "    min_val = data[var].min()\n",
    "    max_val = data[var].max()\n",
    "    mean_val = data[var].mean()\n",
    "    med_val = data[var].median()\n",
    "    mod_val = data[var].mode()[0]\n",
    "\n",
    "\n",
    "    print(\"Minimum: {:.2f}\\nMaximum: {:.2f}\\nMean: {:.2f}\\nMedian: {:.2f}\\nMode: {:.2f}\\n\".format(\n",
    "    min_val, max_val, mean_val, med_val, mod_val))\n",
    "\n",
    "    # Create a figure for 2 subplots (2 rows, 1 column)\n",
    "    fig, ax = plt.subplots(2, 1, figsize = (9,12))\n",
    "\n",
    "    # plot an histogram\n",
    "    ax[0].hist(data[var])\n",
    "    ax[0].set_ylabel('Frequency')\n",
    "    ax[0].set_xlabel(var)\n",
    "\n",
    "    # Add lines for the statistics\n",
    "    ax[0].axvline(x=min_val, color = 'gray', linestyle='dashed', linewidth = 2)\n",
    "    ax[0].axvline(x=mean_val, color = 'cyan', linestyle='dashed', linewidth = 2)\n",
    "    ax[0].axvline(x=med_val, color = 'red', linestyle='dashed', linewidth = 2)\n",
    "    ax[0].axvline(x=mod_val, color = 'yellow', linestyle='dashed', linewidth = 2)\n",
    "    ax[0].axvline(x=max_val, color = 'gray', linestyle='dashed', linewidth = 2)\n",
    "\n",
    " \n",
    "\n",
    "    # Add a title to the Figure\n",
    "    fig.suptitle('Data Distribution of ' + var)\n",
    "    \n",
    "    # create boxplot\n",
    "    ax[1].boxplot(data[var], vert = False)\n",
    "    ax[1].set_xlabel(var)\n",
    "\n",
    "    \n",
    "    # Show the figure\n",
    "    fig.show()"
   ]
  },
  {
   "cell_type": "code",
   "execution_count": 635,
   "id": "3198fbea",
   "metadata": {},
   "outputs": [
    {
     "name": "stdout",
     "output_type": "stream",
     "text": [
      "Distribution of price_per_unit\n",
      "\n",
      "Minimum: 7.60\n",
      "Maximum: 117.50\n",
      "Mean: 37.98\n",
      "Median: 38.45\n",
      "Mode: 24.70\n",
      "\n",
      "Distribution of transit_distance\n",
      "\n",
      "Minimum: 23.38\n",
      "Maximum: 6488.02\n",
      "Mean: 1083.89\n",
      "Median: 492.23\n",
      "Mode: 289.32\n",
      "\n"
     ]
    },
    {
     "data": {
      "image/png": "[encoded data removed]",
      "text/plain": [
       "<Figure size 900x1200 with 2 Axes>"
      ]
     },
     "metadata": {},
     "output_type": "display_data"
    },
    {
     "data": {
      "image/png": "[encoded data removed]",
      "text/plain": [
       "<Figure size 900x1200 with 2 Axes>"
      ]
     },
     "metadata": {},
     "output_type": "display_data"
    }
   ],
   "source": [
    "for i in [\"price_per_unit\", \"transit_distance\"]:\n",
    "    print (\"Distribution of {}\\n\".format(i))\n",
    "    show_distribution(i)"
   ]
  },
  {
   "cell_type": "code",
   "execution_count": 636,
   "id": "780ae2b8",
   "metadata": {},
   "outputs": [
    {
     "name": "stdout",
     "output_type": "stream",
     "text": [
      "Quantiles for: price_per_unit\n",
      "1th Quantile: 12.8\n",
      "5th Quantile: 16.490000000000002\n",
      "10th Quantile: 21.02\n",
      "25th Quantile: 27.7\n",
      "75th Quantile: 46.6\n",
      "90th Quantile: 54.94\n",
      "95th Quantile: 59.17499999999998\n",
      "99th Quantile: 70.88300000000001\n",
      "\n",
      "\n",
      "Quantiles for: transit_distance\n",
      "1th Quantile: 56.47425\n",
      "5th Quantile: 90.45606\n",
      "10th Quantile: 157.6052\n",
      "25th Quantile: 289.3248\n",
      "75th Quantile: 1454.279\n",
      "90th Quantile: 2697.6626999999994\n",
      "95th Quantile: 4082.015\n",
      "99th Quantile: 5394.220430000004\n",
      "\n",
      "\n"
     ]
    }
   ],
   "source": [
    "def what_quantiles(var):\n",
    "    quantiles = [1, 5, 10, 25, 75, 90, 95, 99]\n",
    "    for i in quantiles:\n",
    "        n_quantile = data[var].quantile(i/100)\n",
    "        print(\"{}th Quantile: {}\".format(i, n_quantile))\n",
    "    \n",
    "\n",
    "for i in [\"price_per_unit\", \"transit_distance\"]:\n",
    "    print(\"Quantiles for: {}\".format(i))\n",
    "    what_quantiles(i)\n",
    "    print(\"\\n\")"
   ]
  },
  {
   "cell_type": "markdown",
   "id": "3efb1d31",
   "metadata": {},
   "source": [
    "Now that we saw the quantiles, lets take off the outliers for \"transit_distance\""
   ]
  },
  {
   "cell_type": "code",
   "execution_count": 637,
   "id": "205d58be",
   "metadata": {},
   "outputs": [
    {
     "data": {
      "text/plain": [
       "(404, 7)"
      ]
     },
     "execution_count": 637,
     "metadata": {},
     "output_type": "execute_result"
    }
   ],
   "source": [
    "# low, high = df[\"surface_covered_in_m2\"].quantile([0.1, 0.9])\n",
    "ppu_q99 = data[\"price_per_unit\"].quantile(0.99)\n",
    "td_q99 = data[\"transit_distance\"].quantile(0.99)\n",
    "\n",
    "data = data[(data[\"price_per_unit\"] < ppu_q99) & (data[\"transit_distance\"] < td_q99)]\n",
    "data.shape"
   ]
  },
  {
   "cell_type": "code",
   "execution_count": 638,
   "id": "0e282219",
   "metadata": {
    "scrolled": true
   },
   "outputs": [
    {
     "name": "stdout",
     "output_type": "stream",
     "text": [
      "Minimum: 23.38\n",
      "Maximum: 4605.75\n",
      "Mean: 1032.60\n",
      "Median: 492.23\n",
      "Mode: 289.32\n",
      "\n"
     ]
    },
    {
     "data": {
      "image/png": "[encoded data removed]",
      "text/plain": [
       "<Figure size 900x1200 with 2 Axes>"
      ]
     },
     "metadata": {},
     "output_type": "display_data"
    }
   ],
   "source": [
    "show_distribution(\"transit_distance\")"
   ]
  },
  {
   "cell_type": "code",
   "execution_count": 639,
   "id": "18c15d81",
   "metadata": {
    "scrolled": true
   },
   "outputs": [
    {
     "name": "stdout",
     "output_type": "stream",
     "text": [
      "Minimum: 7.60\n",
      "Maximum: 70.10\n",
      "Mean: 37.70\n",
      "Median: 38.45\n",
      "Mode: 24.70\n",
      "\n"
     ]
    },
    {
     "data": {
      "image/png": "[encoded data removed]",
      "text/plain": [
       "<Figure size 900x1200 with 2 Axes>"
      ]
     },
     "metadata": {},
     "output_type": "display_data"
    }
   ],
   "source": [
    "show_distribution(\"price_per_unit\")"
   ]
  },
  {
   "cell_type": "markdown",
   "id": "7b1efabb",
   "metadata": {},
   "source": [
    "Now that we cleaned our data, lets take a final look at distribution"
   ]
  },
  {
   "cell_type": "code",
   "execution_count": 640,
   "id": "439014af",
   "metadata": {},
   "outputs": [
    {
     "data": {
      "text/html": [
       "<div>\n",
       "<style scoped>\n",
       "    .dataframe tbody tr th:only-of-type {\n",
       "        vertical-align: middle;\n",
       "    }\n",
       "\n",
       "    .dataframe tbody tr th {\n",
       "        vertical-align: top;\n",
       "    }\n",
       "\n",
       "    .dataframe thead th {\n",
       "        text-align: right;\n",
       "    }\n",
       "</style>\n",
       "<table border=\"1\" class=\"dataframe\">\n",
       "  <thead>\n",
       "    <tr style=\"text-align: right;\">\n",
       "      <th></th>\n",
       "      <th>house_age</th>\n",
       "      <th>transit_distance</th>\n",
       "      <th>local_convenience_stores</th>\n",
       "      <th>latitude</th>\n",
       "      <th>longitude</th>\n",
       "      <th>price_per_unit</th>\n",
       "    </tr>\n",
       "  </thead>\n",
       "  <tbody>\n",
       "    <tr>\n",
       "      <th>count</th>\n",
       "      <td>404.000000</td>\n",
       "      <td>404.000000</td>\n",
       "      <td>404.000000</td>\n",
       "      <td>404.000000</td>\n",
       "      <td>404.000000</td>\n",
       "      <td>404.000000</td>\n",
       "    </tr>\n",
       "    <tr>\n",
       "      <th>mean</th>\n",
       "      <td>17.624010</td>\n",
       "      <td>1032.600310</td>\n",
       "      <td>4.106436</td>\n",
       "      <td>24.969161</td>\n",
       "      <td>121.533940</td>\n",
       "      <td>37.700000</td>\n",
       "    </tr>\n",
       "    <tr>\n",
       "      <th>std</th>\n",
       "      <td>11.323341</td>\n",
       "      <td>1146.323406</td>\n",
       "      <td>2.934531</td>\n",
       "      <td>0.012383</td>\n",
       "      <td>0.014268</td>\n",
       "      <td>12.385315</td>\n",
       "    </tr>\n",
       "    <tr>\n",
       "      <th>min</th>\n",
       "      <td>0.000000</td>\n",
       "      <td>23.382840</td>\n",
       "      <td>0.000000</td>\n",
       "      <td>24.932070</td>\n",
       "      <td>121.495070</td>\n",
       "      <td>7.600000</td>\n",
       "    </tr>\n",
       "    <tr>\n",
       "      <th>25%</th>\n",
       "      <td>8.975000</td>\n",
       "      <td>289.324800</td>\n",
       "      <td>1.000000</td>\n",
       "      <td>24.963050</td>\n",
       "      <td>121.529728</td>\n",
       "      <td>28.000000</td>\n",
       "    </tr>\n",
       "    <tr>\n",
       "      <th>50%</th>\n",
       "      <td>16.050000</td>\n",
       "      <td>492.231300</td>\n",
       "      <td>4.000000</td>\n",
       "      <td>24.971100</td>\n",
       "      <td>121.538675</td>\n",
       "      <td>38.450000</td>\n",
       "    </tr>\n",
       "    <tr>\n",
       "      <th>75%</th>\n",
       "      <td>27.525000</td>\n",
       "      <td>1440.755750</td>\n",
       "      <td>6.000000</td>\n",
       "      <td>24.978200</td>\n",
       "      <td>121.543352</td>\n",
       "      <td>46.250000</td>\n",
       "    </tr>\n",
       "    <tr>\n",
       "      <th>max</th>\n",
       "      <td>43.800000</td>\n",
       "      <td>4605.749000</td>\n",
       "      <td>10.000000</td>\n",
       "      <td>25.014590</td>\n",
       "      <td>121.566270</td>\n",
       "      <td>70.100000</td>\n",
       "    </tr>\n",
       "  </tbody>\n",
       "</table>\n",
       "</div>"
      ],
      "text/plain": [
       "        house_age  transit_distance  local_convenience_stores    latitude  \\\n",
       "count  404.000000        404.000000                404.000000  404.000000   \n",
       "mean    17.624010       1032.600310                  4.106436   24.969161   \n",
       "std     11.323341       1146.323406                  2.934531    0.012383   \n",
       "min      0.000000         23.382840                  0.000000   24.932070   \n",
       "25%      8.975000        289.324800                  1.000000   24.963050   \n",
       "50%     16.050000        492.231300                  4.000000   24.971100   \n",
       "75%     27.525000       1440.755750                  6.000000   24.978200   \n",
       "max     43.800000       4605.749000                 10.000000   25.014590   \n",
       "\n",
       "        longitude  price_per_unit  \n",
       "count  404.000000      404.000000  \n",
       "mean   121.533940       37.700000  \n",
       "std      0.014268       12.385315  \n",
       "min    121.495070        7.600000  \n",
       "25%    121.529728       28.000000  \n",
       "50%    121.538675       38.450000  \n",
       "75%    121.543352       46.250000  \n",
       "max    121.566270       70.100000  "
      ]
     },
     "execution_count": 640,
     "metadata": {},
     "output_type": "execute_result"
    }
   ],
   "source": [
    "data.describe()"
   ]
  },
  {
   "cell_type": "markdown",
   "id": "84818239",
   "metadata": {},
   "source": [
    "Lets see how the features correalate with the label \"Price_per_unit\""
   ]
  },
  {
   "cell_type": "code",
   "execution_count": 641,
   "id": "fd8a610f",
   "metadata": {},
   "outputs": [
    {
     "data": {
      "text/html": [
       "<div>\n",
       "<style scoped>\n",
       "    .dataframe tbody tr th:only-of-type {\n",
       "        vertical-align: middle;\n",
       "    }\n",
       "\n",
       "    .dataframe tbody tr th {\n",
       "        vertical-align: top;\n",
       "    }\n",
       "\n",
       "    .dataframe thead th {\n",
       "        text-align: right;\n",
       "    }\n",
       "</style>\n",
       "<table border=\"1\" class=\"dataframe\">\n",
       "  <thead>\n",
       "    <tr style=\"text-align: right;\">\n",
       "      <th></th>\n",
       "      <th>house_age</th>\n",
       "      <th>transit_distance</th>\n",
       "      <th>local_convenience_stores</th>\n",
       "      <th>latitude</th>\n",
       "      <th>longitude</th>\n",
       "      <th>price_per_unit</th>\n",
       "    </tr>\n",
       "  </thead>\n",
       "  <tbody>\n",
       "    <tr>\n",
       "      <th>house_age</th>\n",
       "      <td>1.000000</td>\n",
       "      <td>-0.008656</td>\n",
       "      <td>0.050643</td>\n",
       "      <td>0.073767</td>\n",
       "      <td>-0.020644</td>\n",
       "      <td>-0.218132</td>\n",
       "    </tr>\n",
       "    <tr>\n",
       "      <th>transit_distance</th>\n",
       "      <td>-0.008656</td>\n",
       "      <td>1.000000</td>\n",
       "      <td>-0.619271</td>\n",
       "      <td>-0.590060</td>\n",
       "      <td>-0.767681</td>\n",
       "      <td>-0.702315</td>\n",
       "    </tr>\n",
       "    <tr>\n",
       "      <th>local_convenience_stores</th>\n",
       "      <td>0.050643</td>\n",
       "      <td>-0.619271</td>\n",
       "      <td>1.000000</td>\n",
       "      <td>0.435652</td>\n",
       "      <td>0.439314</td>\n",
       "      <td>0.601984</td>\n",
       "    </tr>\n",
       "    <tr>\n",
       "      <th>latitude</th>\n",
       "      <td>0.073767</td>\n",
       "      <td>-0.590060</td>\n",
       "      <td>0.435652</td>\n",
       "      <td>1.000000</td>\n",
       "      <td>0.388549</td>\n",
       "      <td>0.562233</td>\n",
       "    </tr>\n",
       "    <tr>\n",
       "      <th>longitude</th>\n",
       "      <td>-0.020644</td>\n",
       "      <td>-0.767681</td>\n",
       "      <td>0.439314</td>\n",
       "      <td>0.388549</td>\n",
       "      <td>1.000000</td>\n",
       "      <td>0.529423</td>\n",
       "    </tr>\n",
       "    <tr>\n",
       "      <th>price_per_unit</th>\n",
       "      <td>-0.218132</td>\n",
       "      <td>-0.702315</td>\n",
       "      <td>0.601984</td>\n",
       "      <td>0.562233</td>\n",
       "      <td>0.529423</td>\n",
       "      <td>1.000000</td>\n",
       "    </tr>\n",
       "  </tbody>\n",
       "</table>\n",
       "</div>"
      ],
      "text/plain": [
       "                          house_age  transit_distance  \\\n",
       "house_age                  1.000000         -0.008656   \n",
       "transit_distance          -0.008656          1.000000   \n",
       "local_convenience_stores   0.050643         -0.619271   \n",
       "latitude                   0.073767         -0.590060   \n",
       "longitude                 -0.020644         -0.767681   \n",
       "price_per_unit            -0.218132         -0.702315   \n",
       "\n",
       "                          local_convenience_stores  latitude  longitude  \\\n",
       "house_age                                 0.050643  0.073767  -0.020644   \n",
       "transit_distance                         -0.619271 -0.590060  -0.767681   \n",
       "local_convenience_stores                  1.000000  0.435652   0.439314   \n",
       "latitude                                  0.435652  1.000000   0.388549   \n",
       "longitude                                 0.439314  0.388549   1.000000   \n",
       "price_per_unit                            0.601984  0.562233   0.529423   \n",
       "\n",
       "                          price_per_unit  \n",
       "house_age                      -0.218132  \n",
       "transit_distance               -0.702315  \n",
       "local_convenience_stores        0.601984  \n",
       "latitude                        0.562233  \n",
       "longitude                       0.529423  \n",
       "price_per_unit                  1.000000  "
      ]
     },
     "execution_count": 641,
     "metadata": {},
     "output_type": "execute_result"
    }
   ],
   "source": [
    "data.corr()"
   ]
  },
  {
   "cell_type": "code",
   "execution_count": 642,
   "id": "b3cdd799",
   "metadata": {},
   "outputs": [
    {
     "data": {
      "text/plain": [
       "<AxesSubplot:>"
      ]
     },
     "execution_count": 642,
     "metadata": {},
     "output_type": "execute_result"
    },
    {
     "data": {
      "image/png": "[encoded data removed]",
      "text/plain": [
       "<Figure size 640x480 with 2 Axes>"
      ]
     },
     "metadata": {},
     "output_type": "display_data"
    }
   ],
   "source": [
    "sns.heatmap(data.corr())"
   ]
  },
  {
   "cell_type": "markdown",
   "id": "807bcf8c",
   "metadata": {},
   "source": [
    "We can see that \"local_convenience_stores\", \"latitude\", \"longitude\" and \"transit_distance\" both have high correlation with the price_per_unit which means they are important features. Lets visualize the correlation of these features and the price per unit "
   ]
  },
  {
   "cell_type": "markdown",
   "id": "cdb9a2e3",
   "metadata": {},
   "source": [
    "## Price and Location"
   ]
  },
  {
   "cell_type": "markdown",
   "id": "17140b23",
   "metadata": {},
   "source": [
    "Lets Visualize price and the locationn (longitude and latitude) features"
   ]
  },
  {
   "cell_type": "code",
   "execution_count": 643,
   "id": "87e42ec6",
   "metadata": {},
   "outputs": [
    {
     "data": {
      "application/vnd.plotly.v1+json": {
       "config": {
        "plotlyServerURL": "https://plot.ly"
       },
       "data": [
        {
         "customdata": [
          [
           37.9
          ],
          [
           42.2
          ],
          [
           47.3
          ],
          [
           54.8
          ],
          [
           43.1
          ],
          [
           32.1
          ],
          [
           40.3
          ],
          [
           46.7
          ],
          [
           22.1
          ],
          [
           41.4
          ],
          [
           58.1
          ],
          [
           39.3
          ],
          [
           23.8
          ],
          [
           34.3
          ],
          [
           50.5
          ],
          [
           70.1
          ],
          [
           37.4
          ],
          [
           42.3
          ],
          [
           47.7
          ],
          [
           29.3
          ],
          [
           51.6
          ],
          [
           24.6
          ],
          [
           47.9
          ],
          [
           38.8
          ],
          [
           27
          ],
          [
           56.2
          ],
          [
           33.6
          ],
          [
           47
          ],
          [
           57.1
          ],
          [
           22.1
          ],
          [
           25
          ],
          [
           34.2
          ],
          [
           49.3
          ],
          [
           55.1
          ],
          [
           27.3
          ],
          [
           22.9
          ],
          [
           25.3
          ],
          [
           47.7
          ],
          [
           46.2
          ],
          [
           15.9
          ],
          [
           18.2
          ],
          [
           34.7
          ],
          [
           34.1
          ],
          [
           53.9
          ],
          [
           38.3
          ],
          [
           42
          ],
          [
           61.5
          ],
          [
           13.4
          ],
          [
           13.2
          ],
          [
           44.2
          ],
          [
           20.7
          ],
          [
           27
          ],
          [
           38.9
          ],
          [
           51.7
          ],
          [
           13.7
          ],
          [
           41.9
          ],
          [
           53.5
          ],
          [
           22.6
          ],
          [
           42.4
          ],
          [
           21.3
          ],
          [
           63.2
          ],
          [
           27.7
          ],
          [
           55
          ],
          [
           25.3
          ],
          [
           44.3
          ],
          [
           50.7
          ],
          [
           56.8
          ],
          [
           36.2
          ],
          [
           42
          ],
          [
           59
          ],
          [
           40.8
          ],
          [
           36.3
          ],
          [
           20
          ],
          [
           54.4
          ],
          [
           29.5
          ],
          [
           36.8
          ],
          [
           25.6
          ],
          [
           29.8
          ],
          [
           26.5
          ],
          [
           40.3
          ],
          [
           36.8
          ],
          [
           48.1
          ],
          [
           17.7
          ],
          [
           43.7
          ],
          [
           50.8
          ],
          [
           27
          ],
          [
           18.3
          ],
          [
           48
          ],
          [
           25.3
          ],
          [
           45.4
          ],
          [
           43.2
          ],
          [
           21.8
          ],
          [
           16.1
          ],
          [
           41
          ],
          [
           51.8
          ],
          [
           59.5
          ],
          [
           34.6
          ],
          [
           51
          ],
          [
           62.2
          ],
          [
           38.2
          ],
          [
           32.9
          ],
          [
           54.4
          ],
          [
           45.7
          ],
          [
           30.5
          ],
          [
           47.1
          ],
          [
           26.6
          ],
          [
           34.1
          ],
          [
           28.4
          ],
          [
           51.6
          ],
          [
           39.4
          ],
          [
           23.1
          ],
          [
           7.6
          ],
          [
           53.3
          ],
          [
           46.4
          ],
          [
           13
          ],
          [
           30.6
          ],
          [
           59.6
          ],
          [
           31.3
          ],
          [
           48
          ],
          [
           32.5
          ],
          [
           45.5
          ],
          [
           57.4
          ],
          [
           48.6
          ],
          [
           62.9
          ],
          [
           55
          ],
          [
           60.7
          ],
          [
           41
          ],
          [
           37.5
          ],
          [
           30.7
          ],
          [
           37.5
          ],
          [
           39.5
          ],
          [
           42.2
          ],
          [
           20.8
          ],
          [
           46.8
          ],
          [
           47.4
          ],
          [
           43.5
          ],
          [
           42.5
          ],
          [
           51.4
          ],
          [
           28.9
          ],
          [
           37.5
          ],
          [
           40.1
          ],
          [
           28.4
          ],
          [
           45.5
          ],
          [
           52.2
          ],
          [
           43.2
          ],
          [
           45.1
          ],
          [
           39.7
          ],
          [
           48.5
          ],
          [
           44.7
          ],
          [
           28.9
          ],
          [
           40.9
          ],
          [
           20.7
          ],
          [
           15.6
          ],
          [
           18.3
          ],
          [
           35.6
          ],
          [
           39.4
          ],
          [
           37.4
          ],
          [
           57.8
          ],
          [
           39.6
          ],
          [
           11.6
          ],
          [
           55.5
          ],
          [
           55.2
          ],
          [
           30.6
          ],
          [
           43.4
          ],
          [
           37.4
          ],
          [
           23.5
          ],
          [
           14.4
          ],
          [
           58.8
          ],
          [
           58.1
          ],
          [
           35.1
          ],
          [
           45.2
          ],
          [
           36.5
          ],
          [
           19.2
          ],
          [
           42
          ],
          [
           36.7
          ],
          [
           42.6
          ],
          [
           15.5
          ],
          [
           55.9
          ],
          [
           23.6
          ],
          [
           18.8
          ],
          [
           21.8
          ],
          [
           21.5
          ],
          [
           25.7
          ],
          [
           22
          ],
          [
           44.3
          ],
          [
           20.5
          ],
          [
           42.3
          ],
          [
           37.8
          ],
          [
           42.7
          ],
          [
           49.3
          ],
          [
           29.3
          ],
          [
           34.6
          ],
          [
           36.6
          ],
          [
           48.2
          ],
          [
           39.1
          ],
          [
           31.6
          ],
          [
           25.5
          ],
          [
           45.9
          ],
          [
           31.5
          ],
          [
           46.1
          ],
          [
           26.6
          ],
          [
           21.4
          ],
          [
           44
          ],
          [
           34.2
          ],
          [
           26.2
          ],
          [
           40.9
          ],
          [
           52.2
          ],
          [
           43.5
          ],
          [
           31.1
          ],
          [
           58
          ],
          [
           20.9
          ],
          [
           48.1
          ],
          [
           39.7
          ],
          [
           40.8
          ],
          [
           43.8
          ],
          [
           40.2
          ],
          [
           38.5
          ],
          [
           48.5
          ],
          [
           42.3
          ],
          [
           46
          ],
          [
           49
          ],
          [
           12.8
          ],
          [
           40.2
          ],
          [
           46.6
          ],
          [
           19
          ],
          [
           33.4
          ],
          [
           14.7
          ],
          [
           17.4
          ],
          [
           32.4
          ],
          [
           23.9
          ],
          [
           39.3
          ],
          [
           61.9
          ],
          [
           39
          ],
          [
           40.6
          ],
          [
           29.7
          ],
          [
           28.8
          ],
          [
           41.4
          ],
          [
           33.4
          ],
          [
           48.2
          ],
          [
           21.7
          ],
          [
           40.8
          ],
          [
           40.6
          ],
          [
           23.1
          ],
          [
           22.3
          ],
          [
           30
          ],
          [
           13.8
          ],
          [
           52.7
          ],
          [
           25.9
          ],
          [
           51.8
          ],
          [
           26.5
          ],
          [
           43.9
          ],
          [
           63.3
          ],
          [
           28.8
          ],
          [
           30.7
          ],
          [
           24.4
          ],
          [
           53
          ],
          [
           31.7
          ],
          [
           40.6
          ],
          [
           38.1
          ],
          [
           23.7
          ],
          [
           41.1
          ],
          [
           40.1
          ],
          [
           23
          ],
          [
           26.5
          ],
          [
           40.5
          ],
          [
           29.3
          ],
          [
           41
          ],
          [
           49.7
          ],
          [
           34
          ],
          [
           27.7
          ],
          [
           44
          ],
          [
           31.1
          ],
          [
           45.4
          ],
          [
           44.8
          ],
          [
           25.6
          ],
          [
           23.5
          ],
          [
           34.4
          ],
          [
           55.3
          ],
          [
           56.3
          ],
          [
           32.9
          ],
          [
           51
          ],
          [
           44.5
          ],
          [
           37
          ],
          [
           54.4
          ],
          [
           24.5
          ],
          [
           42.5
          ],
          [
           38.1
          ],
          [
           21.8
          ],
          [
           34.1
          ],
          [
           28.5
          ],
          [
           16.7
          ],
          [
           46.1
          ],
          [
           36.9
          ],
          [
           35.7
          ],
          [
           23.2
          ],
          [
           38.4
          ],
          [
           29.4
          ],
          [
           55
          ],
          [
           50.2
          ],
          [
           24.7
          ],
          [
           53
          ],
          [
           19.1
          ],
          [
           24.7
          ],
          [
           42.2
          ],
          [
           42.8
          ],
          [
           41.6
          ],
          [
           27.3
          ],
          [
           42
          ],
          [
           37.5
          ],
          [
           49.8
          ],
          [
           26.9
          ],
          [
           18.6
          ],
          [
           37.7
          ],
          [
           33.1
          ],
          [
           42.5
          ],
          [
           31.3
          ],
          [
           38.1
          ],
          [
           62.1
          ],
          [
           36.7
          ],
          [
           23.6
          ],
          [
           19.2
          ],
          [
           12.8
          ],
          [
           15.6
          ],
          [
           39.6
          ],
          [
           38.4
          ],
          [
           22.8
          ],
          [
           36.5
          ],
          [
           35.6
          ],
          [
           30.9
          ],
          [
           36.3
          ],
          [
           50.4
          ],
          [
           42.9
          ],
          [
           37
          ],
          [
           53.5
          ],
          [
           46.6
          ],
          [
           41.2
          ],
          [
           37.9
          ],
          [
           30.8
          ],
          [
           53.7
          ],
          [
           47
          ],
          [
           42.3
          ],
          [
           28.6
          ],
          [
           25.7
          ],
          [
           31.3
          ],
          [
           30.1
          ],
          [
           60.7
          ],
          [
           45.3
          ],
          [
           44.9
          ],
          [
           45.1
          ],
          [
           24.7
          ],
          [
           47.1
          ],
          [
           63.3
          ],
          [
           40
          ],
          [
           48
          ],
          [
           33.1
          ],
          [
           29.5
          ],
          [
           24.8
          ],
          [
           20.9
          ],
          [
           43.1
          ],
          [
           22.8
          ],
          [
           42.1
          ],
          [
           51.7
          ],
          [
           41.5
          ],
          [
           52.2
          ],
          [
           49.5
          ],
          [
           23.8
          ],
          [
           30.5
          ],
          [
           56.8
          ],
          [
           37.4
          ],
          [
           69.7
          ],
          [
           53.3
          ],
          [
           47.3
          ],
          [
           29.3
          ],
          [
           40.3
          ],
          [
           12.9
          ],
          [
           46.6
          ],
          [
           55.3
          ],
          [
           25.6
          ],
          [
           27.3
          ],
          [
           67.7
          ],
          [
           38.6
          ],
          [
           31.3
          ],
          [
           35.3
          ],
          [
           40.3
          ],
          [
           24.7
          ],
          [
           42.5
          ],
          [
           31.9
          ],
          [
           32.2
          ],
          [
           23
          ],
          [
           37.3
          ],
          [
           35.5
          ],
          [
           27.7
          ],
          [
           28.5
          ],
          [
           39.7
          ],
          [
           41.2
          ],
          [
           37.2
          ],
          [
           40.5
          ],
          [
           22.3
          ],
          [
           28.1
          ],
          [
           15.4
          ],
          [
           50
          ],
          [
           40.6
          ],
          [
           52.5
          ],
          [
           63.9
          ]
         ],
         "hovertemplate": "latitude=%{lat}<br>longitude=%{lon}<br>price_per_unit=%{marker.color}<extra></extra>",
         "lat": [
          24.98298,
          24.98034,
          24.98746,
          24.98746,
          24.97937,
          24.96305,
          24.97933,
          24.98042,
          24.96731,
          24.97349,
          24.97433,
          24.96515,
          24.96108,
          24.99156,
          24.9824,
          24.97744,
          24.97544,
          24.9675,
          24.96772,
          24.96314,
          24.97528,
          24.95204,
          24.97528,
          24.97353,
          24.97542,
          24.98085,
          24.95593,
          24.97419,
          24.97563,
          24.94826,
          24.98281,
          24.97349,
          24.97841,
          24.98419,
          25.01459,
          24.96386,
          24.95204,
          24.97201,
          24.98203,
          24.94155,
          24.94297,
          24.96305,
          24.98748,
          24.97445,
          24.97015,
          24.9703,
          24.97563,
          24.94684,
          24.94925,
          24.974,
          24.95402,
          24.97419,
          24.96515,
          24.98203,
          24.94968,
          24.97254,
          24.95744,
          24.94925,
          24.95776,
          24.96365,
          24.97585,
          24.96303,
          24.97445,
          24.96305,
          24.97635,
          24.96571,
          24.96674,
          24.97964,
          24.98746,
          24.97433,
          24.97563,
          24.97587,
          24.94155,
          24.98343,
          24.95204,
          24.97723,
          24.96322,
          24.97598,
          24.95182,
          24.97445,
          24.96427,
          24.96725,
          24.96056,
          24.96735,
          24.96853,
          24.9512,
          24.94297,
          24.98573,
          24.94783,
          24.9748,
          24.98569,
          24.96108,
          24.9492,
          24.9663,
          24.96674,
          24.97433,
          24.97746,
          24.98203,
          24.97433,
          24.98872,
          24.97371,
          24.96571,
          24.95618,
          24.96398,
          24.97707,
          24.95204,
          24.9726,
          24.96299,
          24.96674,
          24.97701,
          24.96044,
          24.96172,
          24.98155,
          24.98092,
          24.93885,
          24.96622,
          24.98203,
          24.96515,
          24.96515,
          24.98199,
          24.9711,
          24.97528,
          24.96571,
          24.97838,
          24.98085,
          24.96674,
          24.98086,
          24.98092,
          24.96299,
          24.97433,
          24.9866,
          24.96604,
          24.96357,
          24.97937,
          24.96495,
          24.97843,
          24.96515,
          24.98203,
          24.97213,
          24.97017,
          24.96515,
          24.95204,
          24.97563,
          24.9711,
          24.97017,
          24.93293,
          24.97349,
          24.96719,
          24.98118,
          24.95204,
          24.95418,
          24.94297,
          24.94155,
          24.94883,
          24.97886,
          24.97937,
          24.97886,
          24.95836,
          24.97723,
          24.94297,
          24.96674,
          24.9711,
          24.97694,
          24.97408,
          24.96299,
          24.95468,
          24.94741,
          24.98085,
          24.97433,
          24.98326,
          24.9805,
          24.97005,
          24.94867,
          24.97697,
          24.99176,
          24.97493,
          24.94898,
          24.98489,
          24.96299,
          24.94155,
          24.95495,
          24.97285,
          24.96322,
          24.95464,
          24.97707,
          24.94297,
          24.97945,
          24.97371,
          24.9675,
          24.98246,
          24.93363,
          24.95425,
          24.981,
          24.96881,
          24.96628,
          24.96945,
          24.96305,
          24.98746,
          24.97559,
          24.98203,
          24.95182,
          24.97289,
          24.98343,
          24.97503,
          24.95204,
          24.97347,
          24.97937,
          24.9748,
          24.98672,
          24.97433,
          24.96731,
          24.972,
          24.97153,
          24.97838,
          24.96515,
          24.98102,
          24.98569,
          24.98123,
          24.98569,
          24.97814,
          24.96571,
          24.94155,
          24.98059,
          25.00115,
          24.9489,
          24.96299,
          24.94235,
          24.95032,
          24.98016,
          24.96007,
          24.96606,
          24.98322,
          24.97668,
          24.97668,
          24.96334,
          24.96412,
          24.96606,
          24.96357,
          24.98236,
          24.97213,
          24.97258,
          24.96412,
          24.96211,
          24.96357,
          24.97429,
          24.9496,
          24.97433,
          24.96464,
          24.98254,
          24.97519,
          24.97501,
          24.97744,
          24.96334,
          24.97073,
          24.95885,
          24.98203,
          24.96299,
          24.96968,
          24.97886,
          24.96731,
          24.97433,
          24.97937,
          24.96334,
          24.96945,
          24.96515,
          24.97371,
          24.97305,
          24.96772,
          24.95425,
          24.96322,
          24.95618,
          24.97026,
          24.96581,
          24.98118,
          24.9512,
          24.98674,
          24.96735,
          24.97509,
          24.97433,
          24.95425,
          24.97841,
          24.98203,
          24.97217,
          24.95744,
          24.95674,
          24.96735,
          24.9796,
          24.96299,
          24.99176,
          24.97003,
          24.94155,
          24.98178,
          24.96696,
          24.97229,
          24.95885,
          24.97161,
          24.96622,
          24.98203,
          24.97369,
          24.9546,
          24.98203,
          24.94883,
          24.95394,
          24.97425,
          24.96674,
          24.97201,
          24.9832,
          24.96606,
          24.97795,
          24.98343,
          24.95562,
          24.93885,
          24.98872,
          24.97388,
          24.97631,
          24.96412,
          24.97015,
          24.95744,
          24.97538,
          24.97003,
          24.93885,
          24.94935,
          24.94826,
          24.97577,
          24.96674,
          24.99006,
          24.96431,
          24.98407,
          24.96871,
          24.96867,
          24.98254,
          24.97281,
          24.97371,
          24.97433,
          24.98223,
          24.998,
          24.9711,
          24.96412,
          24.97585,
          24.96674,
          24.96515,
          24.96324,
          24.96143,
          24.96299,
          24.95204,
          24.98085,
          24.97417,
          24.96853,
          24.96571,
          24.95505,
          24.983,
          24.97345,
          24.98872,
          24.98182,
          24.97913,
          24.96182,
          24.95153,
          24.96464,
          24.97544,
          24.96322,
          24.98203,
          24.95591,
          24.96628,
          24.9748,
          24.97937,
          24.96165,
          24.96447,
          24.95836,
          24.97077,
          24.97744,
          24.98203,
          24.98298,
          24.93207,
          24.97845,
          24.94297,
          24.983,
          24.9711,
          24.96042,
          24.95957,
          24.96756,
          24.97151,
          24.95155,
          24.97927,
          24.98872,
          24.95544,
          24.974,
          24.97198,
          24.99156,
          24.96447,
          24.97371,
          24.97433,
          24.96305,
          24.97388,
          24.98353,
          24.98203,
          24.95663,
          24.97293,
          24.95505,
          24.9633,
          24.94155,
          24.97433,
          24.97923,
          24.96674,
          24.97433
         ],
         "legendgroup": "",
         "lon": [
          121.54024,
          121.53951,
          121.54391,
          121.54391,
          121.54245,
          121.51254,
          121.53642,
          121.54228,
          121.51486,
          121.53372,
          121.5431,
          121.53737,
          121.51046,
          121.53406,
          121.54619,
          121.54458,
          121.53119,
          121.54451,
          121.54102,
          121.51151,
          121.54541,
          121.54842,
          121.54541,
          121.53885,
          121.51726,
          121.54391,
          121.53913,
          121.53797,
          121.54694,
          121.49587,
          121.53408,
          121.53451,
          121.54281,
          121.54243,
          121.51816,
          121.51458,
          121.54842,
          121.54722,
          121.54348,
          121.50381,
          121.50342,
          121.53758,
          121.54301,
          121.54765,
          121.54494,
          121.54458,
          121.53715,
          121.49578,
          121.49542,
          121.53842,
          121.55282,
          121.5175,
          121.53737,
          121.54348,
          121.53009,
          121.54059,
          121.53711,
          121.49542,
          121.53438,
          121.51471,
          121.54516,
          121.51254,
          121.54765,
          121.54915,
          121.54329,
          121.54089,
          121.54067,
          121.53805,
          121.54391,
          121.5431,
          121.53715,
          121.53913,
          121.50381,
          121.53762,
          121.54842,
          121.53767,
          121.51237,
          121.53381,
          121.54887,
          121.54765,
          121.53964,
          121.54252,
          121.50831,
          121.54464,
          121.54413,
          121.549,
          121.50342,
          121.52758,
          121.50243,
          121.53059,
          121.5276,
          121.51046,
          121.53076,
          121.54026,
          121.54067,
          121.5431,
          121.53299,
          121.54348,
          121.5431,
          121.53411,
          121.52984,
          121.54089,
          121.53844,
          121.5425,
          121.54308,
          121.54842,
          121.53561,
          121.51284,
          121.54067,
          121.54224,
          121.51462,
          121.53812,
          121.54142,
          121.54739,
          121.50383,
          121.51709,
          121.54348,
          121.53737,
          121.53737,
          121.54464,
          121.5317,
          121.54541,
          121.54089,
          121.53477,
          121.54391,
          121.54039,
          121.54162,
          121.53653,
          121.51284,
          121.53863,
          121.54082,
          121.54211,
          121.54951,
          121.54245,
          121.54277,
          121.52406,
          121.53737,
          121.54348,
          121.51627,
          121.54647,
          121.53737,
          121.54842,
          121.54694,
          121.5317,
          121.54494,
          121.51203,
          121.54245,
          121.54269,
          121.53788,
          121.54842,
          121.53713,
          121.50342,
          121.50381,
          121.52954,
          121.53464,
          121.54245,
          121.53464,
          121.53756,
          121.53767,
          121.50342,
          121.54067,
          121.5317,
          121.55391,
          121.54011,
          121.5432,
          121.55481,
          121.49628,
          121.54391,
          121.5431,
          121.5446,
          121.53778,
          121.53758,
          121.49507,
          121.54262,
          121.53456,
          121.5273,
          121.49621,
          121.54121,
          121.51284,
          121.50381,
          121.56174,
          121.5173,
          121.51237,
          121.56627,
          121.54312,
          121.50342,
          121.53642,
          121.54951,
          121.54069,
          121.54477,
          121.51158,
          121.5399,
          121.54713,
          121.54089,
          121.54196,
          121.5449,
          121.54915,
          121.54391,
          121.53713,
          121.54348,
          121.54887,
          121.51728,
          121.53762,
          121.53692,
          121.54842,
          121.54271,
          121.54245,
          121.53059,
          121.52091,
          121.5431,
          121.51486,
          121.54477,
          121.53559,
          121.54119,
          121.53737,
          121.53655,
          121.5276,
          121.53743,
          121.5276,
          121.5417,
          121.54089,
          121.50381,
          121.53986,
          121.51776,
          121.53095,
          121.51284,
          121.50357,
          121.49587,
          121.53932,
          121.51361,
          121.54297,
          121.53765,
          121.52518,
          121.52518,
          121.54767,
          121.5167,
          121.54297,
          121.51329,
          121.53923,
          121.51627,
          121.54814,
          121.54273,
          121.54928,
          121.54951,
          121.53917,
          121.53018,
          121.5431,
          121.51623,
          121.54395,
          121.53151,
          121.5273,
          121.54458,
          121.54767,
          121.517,
          121.51359,
          121.54348,
          121.51284,
          121.54522,
          121.53464,
          121.51486,
          121.53863,
          121.54245,
          121.54767,
          121.5449,
          121.53737,
          121.52984,
          121.53994,
          121.54102,
          121.5399,
          121.51237,
          121.53844,
          121.51642,
          121.54086,
          121.53788,
          121.549,
          121.51844,
          121.54464,
          121.53644,
          121.5431,
          121.5399,
          121.5428,
          121.54348,
          121.53471,
          121.53711,
          121.534,
          121.54464,
          121.5414,
          121.51252,
          121.53456,
          121.5458,
          121.50381,
          121.54059,
          121.53992,
          121.53445,
          121.51359,
          121.53423,
          121.51668,
          121.54348,
          121.52979,
          121.56627,
          121.54348,
          121.52954,
          121.55174,
          121.53814,
          121.54067,
          121.54722,
          121.51812,
          121.54297,
          121.53451,
          121.53762,
          121.53872,
          121.50383,
          121.53411,
          121.52981,
          121.54436,
          121.5167,
          121.54494,
          121.53711,
          121.54971,
          121.51696,
          121.50383,
          121.53046,
          121.49587,
          121.53475,
          121.54067,
          121.5346,
          121.54063,
          121.51748,
          121.54651,
          121.54331,
          121.54395,
          121.53265,
          121.54951,
          121.5431,
          121.53597,
          121.5155,
          121.5317,
          121.5167,
          121.54516,
          121.54067,
          121.53737,
          121.51241,
          121.50827,
          121.51284,
          121.54842,
          121.54391,
          121.52999,
          121.54413,
          121.54089,
          121.55964,
          121.54022,
          121.54093,
          121.53408,
          121.54086,
          121.53666,
          121.51222,
          121.55254,
          121.51531,
          121.53119,
          121.51237,
          121.54348,
          121.53956,
          121.54196,
          121.53059,
          121.54245,
          121.55011,
          121.51649,
          121.53756,
          121.54634,
          121.54458,
          121.54348,
          121.53981,
          121.51597,
          121.53889,
          121.50342,
          121.54026,
          121.5317,
          121.51462,
          121.51353,
          121.5423,
          121.5435,
          121.55387,
          121.53874,
          121.53408,
          121.4963,
          121.53842,
          121.55063,
          121.53406,
          121.51649,
          121.52984,
          121.53863,
          121.51254,
          121.52981,
          121.53966,
          121.54348,
          121.53765,
          121.54026,
          121.55964,
          121.51243,
          121.50381,
          121.5431,
          121.53986,
          121.54067,
          121.5431
         ],
         "marker": {
          "color": [
           37.9,
           42.2,
           47.3,
           54.8,
           43.1,
           32.1,
           40.3,
           46.7,
           22.1,
           41.4,
           58.1,
           39.3,
           23.8,
           34.3,
           50.5,
           70.1,
           37.4,
           42.3,
           47.7,
           29.3,
           51.6,
           24.6,
           47.9,
           38.8,
           27,
           56.2,
           33.6,
           47,
           57.1,
           22.1,
           25,
           34.2,
           49.3,
           55.1,
           27.3,
           22.9,
           25.3,
           47.7,
           46.2,
           15.9,
           18.2,
           34.7,
           34.1,
           53.9,
           38.3,
           42,
           61.5,
           13.4,
           13.2,
           44.2,
           20.7,
           27,
           38.9,
           51.7,
           13.7,
           41.9,
           53.5,
           22.6,
           42.4,
           21.3,
           63.2,
           27.7,
           55,
           25.3,
           44.3,
           50.7,
           56.8,
           36.2,
           42,
           59,
           40.8,
           36.3,
           20,
           54.4,
           29.5,
           36.8,
           25.6,
           29.8,
           26.5,
           40.3,
           36.8,
           48.1,
           17.7,
           43.7,
           50.8,
           27,
           18.3,
           48,
           25.3,
           45.4,
           43.2,
           21.8,
           16.1,
           41,
           51.8,
           59.5,
           34.6,
           51,
           62.2,
           38.2,
           32.9,
           54.4,
           45.7,
           30.5,
           47.1,
           26.6,
           34.1,
           28.4,
           51.6,
           39.4,
           23.1,
           7.6,
           53.3,
           46.4,
           13,
           30.6,
           59.6,
           31.3,
           48,
           32.5,
           45.5,
           57.4,
           48.6,
           62.9,
           55,
           60.7,
           41,
           37.5,
           30.7,
           37.5,
           39.5,
           42.2,
           20.8,
           46.8,
           47.4,
           43.5,
           42.5,
           51.4,
           28.9,
           37.5,
           40.1,
           28.4,
           45.5,
           52.2,
           43.2,
           45.1,
           39.7,
           48.5,
           44.7,
           28.9,
           40.9,
           20.7,
           15.6,
           18.3,
           35.6,
           39.4,
           37.4,
           57.8,
           39.6,
           11.6,
           55.5,
           55.2,
           30.6,
           43.4,
           37.4,
           23.5,
           14.4,
           58.8,
           58.1,
           35.1,
           45.2,
           36.5,
           19.2,
           42,
           36.7,
           42.6,
           15.5,
           55.9,
           23.6,
           18.8,
           21.8,
           21.5,
           25.7,
           22,
           44.3,
           20.5,
           42.3,
           37.8,
           42.7,
           49.3,
           29.3,
           34.6,
           36.6,
           48.2,
           39.1,
           31.6,
           25.5,
           45.9,
           31.5,
           46.1,
           26.6,
           21.4,
           44,
           34.2,
           26.2,
           40.9,
           52.2,
           43.5,
           31.1,
           58,
           20.9,
           48.1,
           39.7,
           40.8,
           43.8,
           40.2,
           38.5,
           48.5,
           42.3,
           46,
           49,
           12.8,
           40.2,
           46.6,
           19,
           33.4,
           14.7,
           17.4,
           32.4,
           23.9,
           39.3,
           61.9,
           39,
           40.6,
           29.7,
           28.8,
           41.4,
           33.4,
           48.2,
           21.7,
           40.8,
           40.6,
           23.1,
           22.3,
           30,
           13.8,
           52.7,
           25.9,
           51.8,
           26.5,
           43.9,
           63.3,
           28.8,
           30.7,
           24.4,
           53,
           31.7,
           40.6,
           38.1,
           23.7,
           41.1,
           40.1,
           23,
           26.5,
           40.5,
           29.3,
           41,
           49.7,
           34,
           27.7,
           44,
           31.1,
           45.4,
           44.8,
           25.6,
           23.5,
           34.4,
           55.3,
           56.3,
           32.9,
           51,
           44.5,
           37,
           54.4,
           24.5,
           42.5,
           38.1,
           21.8,
           34.1,
           28.5,
           16.7,
           46.1,
           36.9,
           35.7,
           23.2,
           38.4,
           29.4,
           55,
           50.2,
           24.7,
           53,
           19.1,
           24.7,
           42.2,
           42.8,
           41.6,
           27.3,
           42,
           37.5,
           49.8,
           26.9,
           18.6,
           37.7,
           33.1,
           42.5,
           31.3,
           38.1,
           62.1,
           36.7,
           23.6,
           19.2,
           12.8,
           15.6,
           39.6,
           38.4,
           22.8,
           36.5,
           35.6,
           30.9,
           36.3,
           50.4,
           42.9,
           37,
           53.5,
           46.6,
           41.2,
           37.9,
           30.8,
           53.7,
           47,
           42.3,
           28.6,
           25.7,
           31.3,
           30.1,
           60.7,
           45.3,
           44.9,
           45.1,
           24.7,
           47.1,
           63.3,
           40,
           48,
           33.1,
           29.5,
           24.8,
           20.9,
           43.1,
           22.8,
           42.1,
           51.7,
           41.5,
           52.2,
           49.5,
           23.8,
           30.5,
           56.8,
           37.4,
           69.7,
           53.3,
           47.3,
           29.3,
           40.3,
           12.9,
           46.6,
           55.3,
           25.6,
           27.3,
           67.7,
           38.6,
           31.3,
           35.3,
           40.3,
           24.7,
           42.5,
           31.9,
           32.2,
           23,
           37.3,
           35.5,
           27.7,
           28.5,
           39.7,
           41.2,
           37.2,
           40.5,
           22.3,
           28.1,
           15.4,
           50,
           40.6,
           52.5,
           63.9
          ],
          "coloraxis": "coloraxis"
         },
         "mode": "markers",
         "name": "",
         "showlegend": false,
         "subplot": "mapbox",
         "type": "scattermapbox"
        }
       ],
       "layout": {
        "coloraxis": {
         "colorbar": {
          "title": {
           "text": "price_per_unit"
          }
         },
         "colorscale": [
          [
           0,
           "#0d0887"
          ],
          [
           0.1111111111111111,
           "#46039f"
          ],
          [
           0.2222222222222222,
           "#7201a8"
          ],
          [
           0.3333333333333333,
           "#9c179e"
          ],
          [
           0.4444444444444444,
           "#bd3786"
          ],
          [
           0.5555555555555556,
           "#d8576b"
          ],
          [
           0.6666666666666666,
           "#ed7953"
          ],
          [
           0.7777777777777778,
           "#fb9f3a"
          ],
          [
           0.8888888888888888,
           "#fdca26"
          ],
          [
           1,
           "#f0f921"
          ]
         ]
        },
        "height": 600,
        "legend": {
         "tracegroupgap": 0
        },
        "mapbox": {
         "center": {
          "lat": 24.969160792079194,
          "lon": 121.5339402227724
         },
         "domain": {
          "x": [
           0,
           1
          ],
          "y": [
           0,
           1
          ]
         },
         "style": "open-street-map",
         "zoom": 8
        },
        "margin": {
         "t": 60
        },
        "template": {
         "data": {
          "bar": [
           {
            "error_x": {
             "color": "#2a3f5f"
            },
            "error_y": {
             "color": "#2a3f5f"
            },
            "marker": {
             "line": {
              "color": "#E5ECF6",
              "width": 0.5
             },
             "pattern": {
              "fillmode": "overlay",
              "size": 10,
              "solidity": 0.2
             }
            },
            "type": "bar"
           }
          ],
          "barpolar": [
           {
            "marker": {
             "line": {
              "color": "#E5ECF6",
              "width": 0.5
             },
             "pattern": {
              "fillmode": "overlay",
              "size": 10,
              "solidity": 0.2
             }
            },
            "type": "barpolar"
           }
          ],
          "carpet": [
           {
            "aaxis": {
             "endlinecolor": "#2a3f5f",
             "gridcolor": "white",
             "linecolor": "white",
             "minorgridcolor": "white",
             "startlinecolor": "#2a3f5f"
            },
            "baxis": {
             "endlinecolor": "#2a3f5f",
             "gridcolor": "white",
             "linecolor": "white",
             "minorgridcolor": "white",
             "startlinecolor": "#2a3f5f"
            },
            "type": "carpet"
           }
          ],
          "choropleth": [
           {
            "colorbar": {
             "outlinewidth": 0,
             "ticks": ""
            },
            "type": "choropleth"
           }
          ],
          "contour": [
           {
            "colorbar": {
             "outlinewidth": 0,
             "ticks": ""
            },
            "colorscale": [
             [
              0,
              "#0d0887"
             ],
             [
              0.1111111111111111,
              "#46039f"
             ],
             [
              0.2222222222222222,
              "#7201a8"
             ],
             [
              0.3333333333333333,
              "#9c179e"
             ],
             [
              0.4444444444444444,
              "#bd3786"
             ],
             [
              0.5555555555555556,
              "#d8576b"
             ],
             [
              0.6666666666666666,
              "#ed7953"
             ],
             [
              0.7777777777777778,
              "#fb9f3a"
             ],
             [
              0.8888888888888888,
              "#fdca26"
             ],
             [
              1,
              "#f0f921"
             ]
            ],
            "type": "contour"
           }
          ],
          "contourcarpet": [
           {
            "colorbar": {
             "outlinewidth": 0,
             "ticks": ""
            },
            "type": "contourcarpet"
           }
          ],
          "heatmap": [
           {
            "colorbar": {
             "outlinewidth": 0,
             "ticks": ""
            },
            "colorscale": [
             [
              0,
              "#0d0887"
             ],
             [
              0.1111111111111111,
              "#46039f"
             ],
             [
              0.2222222222222222,
              "#7201a8"
             ],
             [
              0.3333333333333333,
              "#9c179e"
             ],
             [
              0.4444444444444444,
              "#bd3786"
             ],
             [
              0.5555555555555556,
              "#d8576b"
             ],
             [
              0.6666666666666666,
              "#ed7953"
             ],
             [
              0.7777777777777778,
              "#fb9f3a"
             ],
             [
              0.8888888888888888,
              "#fdca26"
             ],
             [
              1,
              "#f0f921"
             ]
            ],
            "type": "heatmap"
           }
          ],
          "heatmapgl": [
           {
            "colorbar": {
             "outlinewidth": 0,
             "ticks": ""
            },
            "colorscale": [
             [
              0,
              "#0d0887"
             ],
             [
              0.1111111111111111,
              "#46039f"
             ],
             [
              0.2222222222222222,
              "#7201a8"
             ],
             [
              0.3333333333333333,
              "#9c179e"
             ],
             [
              0.4444444444444444,
              "#bd3786"
             ],
             [
              0.5555555555555556,
              "#d8576b"
             ],
             [
              0.6666666666666666,
              "#ed7953"
             ],
             [
              0.7777777777777778,
              "#fb9f3a"
             ],
             [
              0.8888888888888888,
              "#fdca26"
             ],
             [
              1,
              "#f0f921"
             ]
            ],
            "type": "heatmapgl"
           }
          ],
          "histogram": [
           {
            "marker": {
             "pattern": {
              "fillmode": "overlay",
              "size": 10,
              "solidity": 0.2
             }
            },
            "type": "histogram"
           }
          ],
          "histogram2d": [
           {
            "colorbar": {
             "outlinewidth": 0,
             "ticks": ""
            },
            "colorscale": [
             [
              0,
              "#0d0887"
             ],
             [
              0.1111111111111111,
              "#46039f"
             ],
             [
              0.2222222222222222,
              "#7201a8"
             ],
             [
              0.3333333333333333,
              "#9c179e"
             ],
             [
              0.4444444444444444,
              "#bd3786"
             ],
             [
              0.5555555555555556,
              "#d8576b"
             ],
             [
              0.6666666666666666,
              "#ed7953"
             ],
             [
              0.7777777777777778,
              "#fb9f3a"
             ],
             [
              0.8888888888888888,
              "#fdca26"
             ],
             [
              1,
              "#f0f921"
             ]
            ],
            "type": "histogram2d"
           }
          ],
          "histogram2dcontour": [
           {
            "colorbar": {
             "outlinewidth": 0,
             "ticks": ""
            },
            "colorscale": [
             [
              0,
              "#0d0887"
             ],
             [
              0.1111111111111111,
              "#46039f"
             ],
             [
              0.2222222222222222,
              "#7201a8"
             ],
             [
              0.3333333333333333,
              "#9c179e"
             ],
             [
              0.4444444444444444,
              "#bd3786"
             ],
             [
              0.5555555555555556,
              "#d8576b"
             ],
             [
              0.6666666666666666,
              "#ed7953"
             ],
             [
              0.7777777777777778,
              "#fb9f3a"
             ],
             [
              0.8888888888888888,
              "#fdca26"
             ],
             [
              1,
              "#f0f921"
             ]
            ],
            "type": "histogram2dcontour"
           }
          ],
          "mesh3d": [
           {
            "colorbar": {
             "outlinewidth": 0,
             "ticks": ""
            },
            "type": "mesh3d"
           }
          ],
          "parcoords": [
           {
            "line": {
             "colorbar": {
              "outlinewidth": 0,
              "ticks": ""
             }
            },
            "type": "parcoords"
           }
          ],
          "pie": [
           {
            "automargin": true,
            "type": "pie"
           }
          ],
          "scatter": [
           {
            "fillpattern": {
             "fillmode": "overlay",
             "size": 10,
             "solidity": 0.2
            },
            "type": "scatter"
           }
          ],
          "scatter3d": [
           {
            "line": {
             "colorbar": {
              "outlinewidth": 0,
              "ticks": ""
             }
            },
            "marker": {
             "colorbar": {
              "outlinewidth": 0,
              "ticks": ""
             }
            },
            "type": "scatter3d"
           }
          ],
          "scattercarpet": [
           {
            "marker": {
             "colorbar": {
              "outlinewidth": 0,
              "ticks": ""
             }
            },
            "type": "scattercarpet"
           }
          ],
          "scattergeo": [
           {
            "marker": {
             "colorbar": {
              "outlinewidth": 0,
              "ticks": ""
             }
            },
            "type": "scattergeo"
           }
          ],
          "scattergl": [
           {
            "marker": {
             "colorbar": {
              "outlinewidth": 0,
              "ticks": ""
             }
            },
            "type": "scattergl"
           }
          ],
          "scattermapbox": [
           {
            "marker": {
             "colorbar": {
              "outlinewidth": 0,
              "ticks": ""
             }
            },
            "type": "scattermapbox"
           }
          ],
          "scatterpolar": [
           {
            "marker": {
             "colorbar": {
              "outlinewidth": 0,
              "ticks": ""
             }
            },
            "type": "scatterpolar"
           }
          ],
          "scatterpolargl": [
           {
            "marker": {
             "colorbar": {
              "outlinewidth": 0,
              "ticks": ""
             }
            },
            "type": "scatterpolargl"
           }
          ],
          "scatterternary": [
           {
            "marker": {
             "colorbar": {
              "outlinewidth": 0,
              "ticks": ""
             }
            },
            "type": "scatterternary"
           }
          ],
          "surface": [
           {
            "colorbar": {
             "outlinewidth": 0,
             "ticks": ""
            },
            "colorscale": [
             [
              0,
              "#0d0887"
             ],
             [
              0.1111111111111111,
              "#46039f"
             ],
             [
              0.2222222222222222,
              "#7201a8"
             ],
             [
              0.3333333333333333,
              "#9c179e"
             ],
             [
              0.4444444444444444,
              "#bd3786"
             ],
             [
              0.5555555555555556,
              "#d8576b"
             ],
             [
              0.6666666666666666,
              "#ed7953"
             ],
             [
              0.7777777777777778,
              "#fb9f3a"
             ],
             [
              0.8888888888888888,
              "#fdca26"
             ],
             [
              1,
              "#f0f921"
             ]
            ],
            "type": "surface"
           }
          ],
          "table": [
           {
            "cells": {
             "fill": {
              "color": "#EBF0F8"
             },
             "line": {
              "color": "white"
             }
            },
            "header": {
             "fill": {
              "color": "#C8D4E3"
             },
             "line": {
              "color": "white"
             }
            },
            "type": "table"
           }
          ]
         },
         "layout": {
          "annotationdefaults": {
           "arrowcolor": "#2a3f5f",
           "arrowhead": 0,
           "arrowwidth": 1
          },
          "autotypenumbers": "strict",
          "coloraxis": {
           "colorbar": {
            "outlinewidth": 0,
            "ticks": ""
           }
          },
          "colorscale": {
           "diverging": [
            [
             0,
             "#8e0152"
            ],
            [
             0.1,
             "#c51b7d"
            ],
            [
             0.2,
             "#de77ae"
            ],
            [
             0.3,
             "#f1b6da"
            ],
            [
             0.4,
             "#fde0ef"
            ],
            [
             0.5,
             "#f7f7f7"
            ],
            [
             0.6,
             "#e6f5d0"
            ],
            [
             0.7,
             "#b8e186"
            ],
            [
             0.8,
             "#7fbc41"
            ],
            [
             0.9,
             "#4d9221"
            ],
            [
             1,
             "#276419"
            ]
           ],
           "sequential": [
            [
             0,
             "#0d0887"
            ],
            [
             0.1111111111111111,
             "#46039f"
            ],
            [
             0.2222222222222222,
             "#7201a8"
            ],
            [
             0.3333333333333333,
             "#9c179e"
            ],
            [
             0.4444444444444444,
             "#bd3786"
            ],
            [
             0.5555555555555556,
             "#d8576b"
            ],
            [
             0.6666666666666666,
             "#ed7953"
            ],
            [
             0.7777777777777778,
             "#fb9f3a"
            ],
            [
             0.8888888888888888,
             "#fdca26"
            ],
            [
             1,
             "#f0f921"
            ]
           ],
           "sequentialminus": [
            [
             0,
             "#0d0887"
            ],
            [
             0.1111111111111111,
             "#46039f"
            ],
            [
             0.2222222222222222,
             "#7201a8"
            ],
            [
             0.3333333333333333,
             "#9c179e"
            ],
            [
             0.4444444444444444,
             "#bd3786"
            ],
            [
             0.5555555555555556,
             "#d8576b"
            ],
            [
             0.6666666666666666,
             "#ed7953"
            ],
            [
             0.7777777777777778,
             "#fb9f3a"
            ],
            [
             0.8888888888888888,
             "#fdca26"
            ],
            [
             1,
             "#f0f921"
            ]
           ]
          },
          "colorway": [
           "#636efa",
           "#EF553B",
           "#00cc96",
           "#ab63fa",
           "#FFA15A",
           "#19d3f3",
           "#FF6692",
           "#B6E880",
           "#FF97FF",
           "#FECB52"
          ],
          "font": {
           "color": "#2a3f5f"
          },
          "geo": {
           "bgcolor": "white",
           "lakecolor": "white",
           "landcolor": "#E5ECF6",
           "showlakes": true,
           "showland": true,
           "subunitcolor": "white"
          },
          "hoverlabel": {
           "align": "left"
          },
          "hovermode": "closest",
          "mapbox": {
           "style": "light"
          },
          "paper_bgcolor": "white",
          "plot_bgcolor": "#E5ECF6",
          "polar": {
           "angularaxis": {
            "gridcolor": "white",
            "linecolor": "white",
            "ticks": ""
           },
           "bgcolor": "#E5ECF6",
           "radialaxis": {
            "gridcolor": "white",
            "linecolor": "white",
            "ticks": ""
           }
          },
          "scene": {
           "xaxis": {
            "backgroundcolor": "#E5ECF6",
            "gridcolor": "white",
            "gridwidth": 2,
            "linecolor": "white",
            "showbackground": true,
            "ticks": "",
            "zerolinecolor": "white"
           },
           "yaxis": {
            "backgroundcolor": "#E5ECF6",
            "gridcolor": "white",
            "gridwidth": 2,
            "linecolor": "white",
            "showbackground": true,
            "ticks": "",
            "zerolinecolor": "white"
           },
           "zaxis": {
            "backgroundcolor": "#E5ECF6",
            "gridcolor": "white",
            "gridwidth": 2,
            "linecolor": "white",
            "showbackground": true,
            "ticks": "",
            "zerolinecolor": "white"
           }
          },
          "shapedefaults": {
           "line": {
            "color": "#2a3f5f"
           }
          },
          "ternary": {
           "aaxis": {
            "gridcolor": "white",
            "linecolor": "white",
            "ticks": ""
           },
           "baxis": {
            "gridcolor": "white",
            "linecolor": "white",
            "ticks": ""
           },
           "bgcolor": "#E5ECF6",
           "caxis": {
            "gridcolor": "white",
            "linecolor": "white",
            "ticks": ""
           }
          },
          "title": {
           "x": 0.05
          },
          "xaxis": {
           "automargin": true,
           "gridcolor": "white",
           "linecolor": "white",
           "ticks": "",
           "title": {
            "standoff": 15
           },
           "zerolinecolor": "white",
           "zerolinewidth": 2
          },
          "yaxis": {
           "automargin": true,
           "gridcolor": "white",
           "linecolor": "white",
           "ticks": "",
           "title": {
            "standoff": 15
           },
           "zerolinecolor": "white",
           "zerolinewidth": 2
          }
         }
        },
        "width": 600
       }
      },
      "text/html": [
       "<div>                            <div id=\"d496b4bb-6303-4158-b0e6-c0e6beee0d5c\" class=\"plotly-graph-div\" style=\"height:600px; width:600px;\"></div>            <script type=\"text/javascript\">                require([\"plotly\"], function(Plotly) {                    window.PLOTLYENV=window.PLOTLYENV || {};                                    if (document.getElementById(\"d496b4bb-6303-4158-b0e6-c0e6beee0d5c\")) {                    Plotly.newPlot(                        \"d496b4bb-6303-4158-b0e6-c0e6beee0d5c\",                        [{\"customdata\":[[37.9],[42.2],[47.3],[54.8],[43.1],[32.1],[40.3],[46.7],[22.1],[41.4],[58.1],[39.3],[23.8],[34.3],[50.5],[70.1],[37.4],[42.3],[47.7],[29.3],[51.6],[24.6],[47.9],[38.8],[27.0],[56.2],[33.6],[47.0],[57.1],[22.1],[25.0],[34.2],[49.3],[55.1],[27.3],[22.9],[25.3],[47.7],[46.2],[15.9],[18.2],[34.7],[34.1],[53.9],[38.3],[42.0],[61.5],[13.4],[13.2],[44.2],[20.7],[27.0],[38.9],[51.7],[13.7],[41.9],[53.5],[22.6],[42.4],[21.3],[63.2],[27.7],[55.0],[25.3],[44.3],[50.7],[56.8],[36.2],[42.0],[59.0],[40.8],[36.3],[20.0],[54.4],[29.5],[36.8],[25.6],[29.8],[26.5],[40.3],[36.8],[48.1],[17.7],[43.7],[50.8],[27.0],[18.3],[48.0],[25.3],[45.4],[43.2],[21.8],[16.1],[41.0],[51.8],[59.5],[34.6],[51.0],[62.2],[38.2],[32.9],[54.4],[45.7],[30.5],[47.1],[26.6],[34.1],[28.4],[51.6],[39.4],[23.1],[7.6],[53.3],[46.4],[13.0],[30.6],[59.6],[31.3],[48.0],[32.5],[45.5],[57.4],[48.6],[62.9],[55.0],[60.7],[41.0],[37.5],[30.7],[37.5],[39.5],[42.2],[20.8],[46.8],[47.4],[43.5],[42.5],[51.4],[28.9],[37.5],[40.1],[28.4],[45.5],[52.2],[43.2],[45.1],[39.7],[48.5],[44.7],[28.9],[40.9],[20.7],[15.6],[18.3],[35.6],[39.4],[37.4],[57.8],[39.6],[11.6],[55.5],[55.2],[30.6],[43.4],[37.4],[23.5],[14.4],[58.8],[58.1],[35.1],[45.2],[36.5],[19.2],[42.0],[36.7],[42.6],[15.5],[55.9],[23.6],[18.8],[21.8],[21.5],[25.7],[22.0],[44.3],[20.5],[42.3],[37.8],[42.7],[49.3],[29.3],[34.6],[36.6],[48.2],[39.1],[31.6],[25.5],[45.9],[31.5],[46.1],[26.6],[21.4],[44.0],[34.2],[26.2],[40.9],[52.2],[43.5],[31.1],[58.0],[20.9],[48.1],[39.7],[40.8],[43.8],[40.2],[38.5],[48.5],[42.3],[46.0],[49.0],[12.8],[40.2],[46.6],[19.0],[33.4],[14.7],[17.4],[32.4],[23.9],[39.3],[61.9],[39.0],[40.6],[29.7],[28.8],[41.4],[33.4],[48.2],[21.7],[40.8],[40.6],[23.1],[22.3],[30.0],[13.8],[52.7],[25.9],[51.8],[26.5],[43.9],[63.3],[28.8],[30.7],[24.4],[53.0],[31.7],[40.6],[38.1],[23.7],[41.1],[40.1],[23.0],[26.5],[40.5],[29.3],[41.0],[49.7],[34.0],[27.7],[44.0],[31.1],[45.4],[44.8],[25.6],[23.5],[34.4],[55.3],[56.3],[32.9],[51.0],[44.5],[37.0],[54.4],[24.5],[42.5],[38.1],[21.8],[34.1],[28.5],[16.7],[46.1],[36.9],[35.7],[23.2],[38.4],[29.4],[55.0],[50.2],[24.7],[53.0],[19.1],[24.7],[42.2],[42.8],[41.6],[27.3],[42.0],[37.5],[49.8],[26.9],[18.6],[37.7],[33.1],[42.5],[31.3],[38.1],[62.1],[36.7],[23.6],[19.2],[12.8],[15.6],[39.6],[38.4],[22.8],[36.5],[35.6],[30.9],[36.3],[50.4],[42.9],[37.0],[53.5],[46.6],[41.2],[37.9],[30.8],[53.7],[47.0],[42.3],[28.6],[25.7],[31.3],[30.1],[60.7],[45.3],[44.9],[45.1],[24.7],[47.1],[63.3],[40.0],[48.0],[33.1],[29.5],[24.8],[20.9],[43.1],[22.8],[42.1],[51.7],[41.5],[52.2],[49.5],[23.8],[30.5],[56.8],[37.4],[69.7],[53.3],[47.3],[29.3],[40.3],[12.9],[46.6],[55.3],[25.6],[27.3],[67.7],[38.6],[31.3],[35.3],[40.3],[24.7],[42.5],[31.9],[32.2],[23.0],[37.3],[35.5],[27.7],[28.5],[39.7],[41.2],[37.2],[40.5],[22.3],[28.1],[15.4],[50.0],[40.6],[52.5],[63.9]],\"hovertemplate\":\"latitude=%{lat}<br>longitude=%{lon}<br>price_per_unit=%{marker.color}<extra></extra>\",\"lat\":[24.98298,24.98034,24.98746,24.98746,24.97937,24.96305,24.97933,24.98042,24.96731,24.97349,24.97433,24.96515,24.96108,24.99156,24.9824,24.97744,24.97544,24.9675,24.96772,24.96314,24.97528,24.95204,24.97528,24.97353,24.97542,24.98085,24.95593,24.97419,24.97563,24.94826,24.98281,24.97349,24.97841,24.98419,25.01459,24.96386,24.95204,24.97201,24.98203,24.94155,24.94297,24.96305,24.98748,24.97445,24.97015,24.9703,24.97563,24.94684,24.94925,24.974,24.95402,24.97419,24.96515,24.98203,24.94968,24.97254,24.95744,24.94925,24.95776,24.96365,24.97585,24.96303,24.97445,24.96305,24.97635,24.96571,24.96674,24.97964,24.98746,24.97433,24.97563,24.97587,24.94155,24.98343,24.95204,24.97723,24.96322,24.97598,24.95182,24.97445,24.96427,24.96725,24.96056,24.96735,24.96853,24.9512,24.94297,24.98573,24.94783,24.9748,24.98569,24.96108,24.9492,24.9663,24.96674,24.97433,24.97746,24.98203,24.97433,24.98872,24.97371,24.96571,24.95618,24.96398,24.97707,24.95204,24.9726,24.96299,24.96674,24.97701,24.96044,24.96172,24.98155,24.98092,24.93885,24.96622,24.98203,24.96515,24.96515,24.98199,24.9711,24.97528,24.96571,24.97838,24.98085,24.96674,24.98086,24.98092,24.96299,24.97433,24.9866,24.96604,24.96357,24.97937,24.96495,24.97843,24.96515,24.98203,24.97213,24.97017,24.96515,24.95204,24.97563,24.9711,24.97017,24.93293,24.97349,24.96719,24.98118,24.95204,24.95418,24.94297,24.94155,24.94883,24.97886,24.97937,24.97886,24.95836,24.97723,24.94297,24.96674,24.9711,24.97694,24.97408,24.96299,24.95468,24.94741,24.98085,24.97433,24.98326,24.9805,24.97005,24.94867,24.97697,24.99176,24.97493,24.94898,24.98489,24.96299,24.94155,24.95495,24.97285,24.96322,24.95464,24.97707,24.94297,24.97945,24.97371,24.9675,24.98246,24.93363,24.95425,24.981,24.96881,24.96628,24.96945,24.96305,24.98746,24.97559,24.98203,24.95182,24.97289,24.98343,24.97503,24.95204,24.97347,24.97937,24.9748,24.98672,24.97433,24.96731,24.972,24.97153,24.97838,24.96515,24.98102,24.98569,24.98123,24.98569,24.97814,24.96571,24.94155,24.98059,25.00115,24.9489,24.96299,24.94235,24.95032,24.98016,24.96007,24.96606,24.98322,24.97668,24.97668,24.96334,24.96412,24.96606,24.96357,24.98236,24.97213,24.97258,24.96412,24.96211,24.96357,24.97429,24.9496,24.97433,24.96464,24.98254,24.97519,24.97501,24.97744,24.96334,24.97073,24.95885,24.98203,24.96299,24.96968,24.97886,24.96731,24.97433,24.97937,24.96334,24.96945,24.96515,24.97371,24.97305,24.96772,24.95425,24.96322,24.95618,24.97026,24.96581,24.98118,24.9512,24.98674,24.96735,24.97509,24.97433,24.95425,24.97841,24.98203,24.97217,24.95744,24.95674,24.96735,24.9796,24.96299,24.99176,24.97003,24.94155,24.98178,24.96696,24.97229,24.95885,24.97161,24.96622,24.98203,24.97369,24.9546,24.98203,24.94883,24.95394,24.97425,24.96674,24.97201,24.9832,24.96606,24.97795,24.98343,24.95562,24.93885,24.98872,24.97388,24.97631,24.96412,24.97015,24.95744,24.97538,24.97003,24.93885,24.94935,24.94826,24.97577,24.96674,24.99006,24.96431,24.98407,24.96871,24.96867,24.98254,24.97281,24.97371,24.97433,24.98223,24.998,24.9711,24.96412,24.97585,24.96674,24.96515,24.96324,24.96143,24.96299,24.95204,24.98085,24.97417,24.96853,24.96571,24.95505,24.983,24.97345,24.98872,24.98182,24.97913,24.96182,24.95153,24.96464,24.97544,24.96322,24.98203,24.95591,24.96628,24.9748,24.97937,24.96165,24.96447,24.95836,24.97077,24.97744,24.98203,24.98298,24.93207,24.97845,24.94297,24.983,24.9711,24.96042,24.95957,24.96756,24.97151,24.95155,24.97927,24.98872,24.95544,24.974,24.97198,24.99156,24.96447,24.97371,24.97433,24.96305,24.97388,24.98353,24.98203,24.95663,24.97293,24.95505,24.9633,24.94155,24.97433,24.97923,24.96674,24.97433],\"legendgroup\":\"\",\"lon\":[121.54024,121.53951,121.54391,121.54391,121.54245,121.51254,121.53642,121.54228,121.51486,121.53372,121.5431,121.53737,121.51046,121.53406,121.54619,121.54458,121.53119,121.54451,121.54102,121.51151,121.54541,121.54842,121.54541,121.53885,121.51726,121.54391,121.53913,121.53797,121.54694,121.49587,121.53408,121.53451,121.54281,121.54243,121.51816,121.51458,121.54842,121.54722,121.54348,121.50381,121.50342,121.53758,121.54301,121.54765,121.54494,121.54458,121.53715,121.49578,121.49542,121.53842,121.55282,121.5175,121.53737,121.54348,121.53009,121.54059,121.53711,121.49542,121.53438,121.51471,121.54516,121.51254,121.54765,121.54915,121.54329,121.54089,121.54067,121.53805,121.54391,121.5431,121.53715,121.53913,121.50381,121.53762,121.54842,121.53767,121.51237,121.53381,121.54887,121.54765,121.53964,121.54252,121.50831,121.54464,121.54413,121.549,121.50342,121.52758,121.50243,121.53059,121.5276,121.51046,121.53076,121.54026,121.54067,121.5431,121.53299,121.54348,121.5431,121.53411,121.52984,121.54089,121.53844,121.5425,121.54308,121.54842,121.53561,121.51284,121.54067,121.54224,121.51462,121.53812,121.54142,121.54739,121.50383,121.51709,121.54348,121.53737,121.53737,121.54464,121.5317,121.54541,121.54089,121.53477,121.54391,121.54039,121.54162,121.53653,121.51284,121.53863,121.54082,121.54211,121.54951,121.54245,121.54277,121.52406,121.53737,121.54348,121.51627,121.54647,121.53737,121.54842,121.54694,121.5317,121.54494,121.51203,121.54245,121.54269,121.53788,121.54842,121.53713,121.50342,121.50381,121.52954,121.53464,121.54245,121.53464,121.53756,121.53767,121.50342,121.54067,121.5317,121.55391,121.54011,121.5432,121.55481,121.49628,121.54391,121.5431,121.5446,121.53778,121.53758,121.49507,121.54262,121.53456,121.5273,121.49621,121.54121,121.51284,121.50381,121.56174,121.5173,121.51237,121.56627,121.54312,121.50342,121.53642,121.54951,121.54069,121.54477,121.51158,121.5399,121.54713,121.54089,121.54196,121.5449,121.54915,121.54391,121.53713,121.54348,121.54887,121.51728,121.53762,121.53692,121.54842,121.54271,121.54245,121.53059,121.52091,121.5431,121.51486,121.54477,121.53559,121.54119,121.53737,121.53655,121.5276,121.53743,121.5276,121.5417,121.54089,121.50381,121.53986,121.51776,121.53095,121.51284,121.50357,121.49587,121.53932,121.51361,121.54297,121.53765,121.52518,121.52518,121.54767,121.5167,121.54297,121.51329,121.53923,121.51627,121.54814,121.54273,121.54928,121.54951,121.53917,121.53018,121.5431,121.51623,121.54395,121.53151,121.5273,121.54458,121.54767,121.517,121.51359,121.54348,121.51284,121.54522,121.53464,121.51486,121.53863,121.54245,121.54767,121.5449,121.53737,121.52984,121.53994,121.54102,121.5399,121.51237,121.53844,121.51642,121.54086,121.53788,121.549,121.51844,121.54464,121.53644,121.5431,121.5399,121.5428,121.54348,121.53471,121.53711,121.534,121.54464,121.5414,121.51252,121.53456,121.5458,121.50381,121.54059,121.53992,121.53445,121.51359,121.53423,121.51668,121.54348,121.52979,121.56627,121.54348,121.52954,121.55174,121.53814,121.54067,121.54722,121.51812,121.54297,121.53451,121.53762,121.53872,121.50383,121.53411,121.52981,121.54436,121.5167,121.54494,121.53711,121.54971,121.51696,121.50383,121.53046,121.49587,121.53475,121.54067,121.5346,121.54063,121.51748,121.54651,121.54331,121.54395,121.53265,121.54951,121.5431,121.53597,121.5155,121.5317,121.5167,121.54516,121.54067,121.53737,121.51241,121.50827,121.51284,121.54842,121.54391,121.52999,121.54413,121.54089,121.55964,121.54022,121.54093,121.53408,121.54086,121.53666,121.51222,121.55254,121.51531,121.53119,121.51237,121.54348,121.53956,121.54196,121.53059,121.54245,121.55011,121.51649,121.53756,121.54634,121.54458,121.54348,121.53981,121.51597,121.53889,121.50342,121.54026,121.5317,121.51462,121.51353,121.5423,121.5435,121.55387,121.53874,121.53408,121.4963,121.53842,121.55063,121.53406,121.51649,121.52984,121.53863,121.51254,121.52981,121.53966,121.54348,121.53765,121.54026,121.55964,121.51243,121.50381,121.5431,121.53986,121.54067,121.5431],\"marker\":{\"color\":[37.9,42.2,47.3,54.8,43.1,32.1,40.3,46.7,22.1,41.4,58.1,39.3,23.8,34.3,50.5,70.1,37.4,42.3,47.7,29.3,51.6,24.6,47.9,38.8,27.0,56.2,33.6,47.0,57.1,22.1,25.0,34.2,49.3,55.1,27.3,22.9,25.3,47.7,46.2,15.9,18.2,34.7,34.1,53.9,38.3,42.0,61.5,13.4,13.2,44.2,20.7,27.0,38.9,51.7,13.7,41.9,53.5,22.6,42.4,21.3,63.2,27.7,55.0,25.3,44.3,50.7,56.8,36.2,42.0,59.0,40.8,36.3,20.0,54.4,29.5,36.8,25.6,29.8,26.5,40.3,36.8,48.1,17.7,43.7,50.8,27.0,18.3,48.0,25.3,45.4,43.2,21.8,16.1,41.0,51.8,59.5,34.6,51.0,62.2,38.2,32.9,54.4,45.7,30.5,47.1,26.6,34.1,28.4,51.6,39.4,23.1,7.6,53.3,46.4,13.0,30.6,59.6,31.3,48.0,32.5,45.5,57.4,48.6,62.9,55.0,60.7,41.0,37.5,30.7,37.5,39.5,42.2,20.8,46.8,47.4,43.5,42.5,51.4,28.9,37.5,40.1,28.4,45.5,52.2,43.2,45.1,39.7,48.5,44.7,28.9,40.9,20.7,15.6,18.3,35.6,39.4,37.4,57.8,39.6,11.6,55.5,55.2,30.6,43.4,37.4,23.5,14.4,58.8,58.1,35.1,45.2,36.5,19.2,42.0,36.7,42.6,15.5,55.9,23.6,18.8,21.8,21.5,25.7,22.0,44.3,20.5,42.3,37.8,42.7,49.3,29.3,34.6,36.6,48.2,39.1,31.6,25.5,45.9,31.5,46.1,26.6,21.4,44.0,34.2,26.2,40.9,52.2,43.5,31.1,58.0,20.9,48.1,39.7,40.8,43.8,40.2,38.5,48.5,42.3,46.0,49.0,12.8,40.2,46.6,19.0,33.4,14.7,17.4,32.4,23.9,39.3,61.9,39.0,40.6,29.7,28.8,41.4,33.4,48.2,21.7,40.8,40.6,23.1,22.3,30.0,13.8,52.7,25.9,51.8,26.5,43.9,63.3,28.8,30.7,24.4,53.0,31.7,40.6,38.1,23.7,41.1,40.1,23.0,26.5,40.5,29.3,41.0,49.7,34.0,27.7,44.0,31.1,45.4,44.8,25.6,23.5,34.4,55.3,56.3,32.9,51.0,44.5,37.0,54.4,24.5,42.5,38.1,21.8,34.1,28.5,16.7,46.1,36.9,35.7,23.2,38.4,29.4,55.0,50.2,24.7,53.0,19.1,24.7,42.2,42.8,41.6,27.3,42.0,37.5,49.8,26.9,18.6,37.7,33.1,42.5,31.3,38.1,62.1,36.7,23.6,19.2,12.8,15.6,39.6,38.4,22.8,36.5,35.6,30.9,36.3,50.4,42.9,37.0,53.5,46.6,41.2,37.9,30.8,53.7,47.0,42.3,28.6,25.7,31.3,30.1,60.7,45.3,44.9,45.1,24.7,47.1,63.3,40.0,48.0,33.1,29.5,24.8,20.9,43.1,22.8,42.1,51.7,41.5,52.2,49.5,23.8,30.5,56.8,37.4,69.7,53.3,47.3,29.3,40.3,12.9,46.6,55.3,25.6,27.3,67.7,38.6,31.3,35.3,40.3,24.7,42.5,31.9,32.2,23.0,37.3,35.5,27.7,28.5,39.7,41.2,37.2,40.5,22.3,28.1,15.4,50.0,40.6,52.5,63.9],\"coloraxis\":\"coloraxis\"},\"mode\":\"markers\",\"name\":\"\",\"showlegend\":false,\"subplot\":\"mapbox\",\"type\":\"scattermapbox\"}],                        {\"template\":{\"data\":{\"histogram2dcontour\":[{\"type\":\"histogram2dcontour\",\"colorbar\":{\"outlinewidth\":0,\"ticks\":\"\"},\"colorscale\":[[0.0,\"#0d0887\"],[0.1111111111111111,\"#46039f\"],[0.2222222222222222,\"#7201a8\"],[0.3333333333333333,\"#9c179e\"],[0.4444444444444444,\"#bd3786\"],[0.5555555555555556,\"#d8576b\"],[0.6666666666666666,\"#ed7953\"],[0.7777777777777778,\"#fb9f3a\"],[0.8888888888888888,\"#fdca26\"],[1.0,\"#f0f921\"]]}],\"choropleth\":[{\"type\":\"choropleth\",\"colorbar\":{\"outlinewidth\":0,\"ticks\":\"\"}}],\"histogram2d\":[{\"type\":\"histogram2d\",\"colorbar\":{\"outlinewidth\":0,\"ticks\":\"\"},\"colorscale\":[[0.0,\"#0d0887\"],[0.1111111111111111,\"#46039f\"],[0.2222222222222222,\"#7201a8\"],[0.3333333333333333,\"#9c179e\"],[0.4444444444444444,\"#bd3786\"],[0.5555555555555556,\"#d8576b\"],[0.6666666666666666,\"#ed7953\"],[0.7777777777777778,\"#fb9f3a\"],[0.8888888888888888,\"#fdca26\"],[1.0,\"#f0f921\"]]}],\"heatmap\":[{\"type\":\"heatmap\",\"colorbar\":{\"outlinewidth\":0,\"ticks\":\"\"},\"colorscale\":[[0.0,\"#0d0887\"],[0.1111111111111111,\"#46039f\"],[0.2222222222222222,\"#7201a8\"],[0.3333333333333333,\"#9c179e\"],[0.4444444444444444,\"#bd3786\"],[0.5555555555555556,\"#d8576b\"],[0.6666666666666666,\"#ed7953\"],[0.7777777777777778,\"#fb9f3a\"],[0.8888888888888888,\"#fdca26\"],[1.0,\"#f0f921\"]]}],\"heatmapgl\":[{\"type\":\"heatmapgl\",\"colorbar\":{\"outlinewidth\":0,\"ticks\":\"\"},\"colorscale\":[[0.0,\"#0d0887\"],[0.1111111111111111,\"#46039f\"],[0.2222222222222222,\"#7201a8\"],[0.3333333333333333,\"#9c179e\"],[0.4444444444444444,\"#bd3786\"],[0.5555555555555556,\"#d8576b\"],[0.6666666666666666,\"#ed7953\"],[0.7777777777777778,\"#fb9f3a\"],[0.8888888888888888,\"#fdca26\"],[1.0,\"#f0f921\"]]}],\"contourcarpet\":[{\"type\":\"contourcarpet\",\"colorbar\":{\"outlinewidth\":0,\"ticks\":\"\"}}],\"contour\":[{\"type\":\"contour\",\"colorbar\":{\"outlinewidth\":0,\"ticks\":\"\"},\"colorscale\":[[0.0,\"#0d0887\"],[0.1111111111111111,\"#46039f\"],[0.2222222222222222,\"#7201a8\"],[0.3333333333333333,\"#9c179e\"],[0.4444444444444444,\"#bd3786\"],[0.5555555555555556,\"#d8576b\"],[0.6666666666666666,\"#ed7953\"],[0.7777777777777778,\"#fb9f3a\"],[0.8888888888888888,\"#fdca26\"],[1.0,\"#f0f921\"]]}],\"surface\":[{\"type\":\"surface\",\"colorbar\":{\"outlinewidth\":0,\"ticks\":\"\"},\"colorscale\":[[0.0,\"#0d0887\"],[0.1111111111111111,\"#46039f\"],[0.2222222222222222,\"#7201a8\"],[0.3333333333333333,\"#9c179e\"],[0.4444444444444444,\"#bd3786\"],[0.5555555555555556,\"#d8576b\"],[0.6666666666666666,\"#ed7953\"],[0.7777777777777778,\"#fb9f3a\"],[0.8888888888888888,\"#fdca26\"],[1.0,\"#f0f921\"]]}],\"mesh3d\":[{\"type\":\"mesh3d\",\"colorbar\":{\"outlinewidth\":0,\"ticks\":\"\"}}],\"scatter\":[{\"fillpattern\":{\"fillmode\":\"overlay\",\"size\":10,\"solidity\":0.2},\"type\":\"scatter\"}],\"parcoords\":[{\"type\":\"parcoords\",\"line\":{\"colorbar\":{\"outlinewidth\":0,\"ticks\":\"\"}}}],\"scatterpolargl\":[{\"type\":\"scatterpolargl\",\"marker\":{\"colorbar\":{\"outlinewidth\":0,\"ticks\":\"\"}}}],\"bar\":[{\"error_x\":{\"color\":\"#2a3f5f\"},\"error_y\":{\"color\":\"#2a3f5f\"},\"marker\":{\"line\":{\"color\":\"#E5ECF6\",\"width\":0.5},\"pattern\":{\"fillmode\":\"overlay\",\"size\":10,\"solidity\":0.2}},\"type\":\"bar\"}],\"scattergeo\":[{\"type\":\"scattergeo\",\"marker\":{\"colorbar\":{\"outlinewidth\":0,\"ticks\":\"\"}}}],\"scatterpolar\":[{\"type\":\"scatterpolar\",\"marker\":{\"colorbar\":{\"outlinewidth\":0,\"ticks\":\"\"}}}],\"histogram\":[{\"marker\":{\"pattern\":{\"fillmode\":\"overlay\",\"size\":10,\"solidity\":0.2}},\"type\":\"histogram\"}],\"scattergl\":[{\"type\":\"scattergl\",\"marker\":{\"colorbar\":{\"outlinewidth\":0,\"ticks\":\"\"}}}],\"scatter3d\":[{\"type\":\"scatter3d\",\"line\":{\"colorbar\":{\"outlinewidth\":0,\"ticks\":\"\"}},\"marker\":{\"colorbar\":{\"outlinewidth\":0,\"ticks\":\"\"}}}],\"scattermapbox\":[{\"type\":\"scattermapbox\",\"marker\":{\"colorbar\":{\"outlinewidth\":0,\"ticks\":\"\"}}}],\"scatterternary\":[{\"type\":\"scatterternary\",\"marker\":{\"colorbar\":{\"outlinewidth\":0,\"ticks\":\"\"}}}],\"scattercarpet\":[{\"type\":\"scattercarpet\",\"marker\":{\"colorbar\":{\"outlinewidth\":0,\"ticks\":\"\"}}}],\"carpet\":[{\"aaxis\":{\"endlinecolor\":\"#2a3f5f\",\"gridcolor\":\"white\",\"linecolor\":\"white\",\"minorgridcolor\":\"white\",\"startlinecolor\":\"#2a3f5f\"},\"baxis\":{\"endlinecolor\":\"#2a3f5f\",\"gridcolor\":\"white\",\"linecolor\":\"white\",\"minorgridcolor\":\"white\",\"startlinecolor\":\"#2a3f5f\"},\"type\":\"carpet\"}],\"table\":[{\"cells\":{\"fill\":{\"color\":\"#EBF0F8\"},\"line\":{\"color\":\"white\"}},\"header\":{\"fill\":{\"color\":\"#C8D4E3\"},\"line\":{\"color\":\"white\"}},\"type\":\"table\"}],\"barpolar\":[{\"marker\":{\"line\":{\"color\":\"#E5ECF6\",\"width\":0.5},\"pattern\":{\"fillmode\":\"overlay\",\"size\":10,\"solidity\":0.2}},\"type\":\"barpolar\"}],\"pie\":[{\"automargin\":true,\"type\":\"pie\"}]},\"layout\":{\"autotypenumbers\":\"strict\",\"colorway\":[\"#636efa\",\"#EF553B\",\"#00cc96\",\"#ab63fa\",\"#FFA15A\",\"#19d3f3\",\"#FF6692\",\"#B6E880\",\"#FF97FF\",\"#FECB52\"],\"font\":{\"color\":\"#2a3f5f\"},\"hovermode\":\"closest\",\"hoverlabel\":{\"align\":\"left\"},\"paper_bgcolor\":\"white\",\"plot_bgcolor\":\"#E5ECF6\",\"polar\":{\"bgcolor\":\"#E5ECF6\",\"angularaxis\":{\"gridcolor\":\"white\",\"linecolor\":\"white\",\"ticks\":\"\"},\"radialaxis\":{\"gridcolor\":\"white\",\"linecolor\":\"white\",\"ticks\":\"\"}},\"ternary\":{\"bgcolor\":\"#E5ECF6\",\"aaxis\":{\"gridcolor\":\"white\",\"linecolor\":\"white\",\"ticks\":\"\"},\"baxis\":{\"gridcolor\":\"white\",\"linecolor\":\"white\",\"ticks\":\"\"},\"caxis\":{\"gridcolor\":\"white\",\"linecolor\":\"white\",\"ticks\":\"\"}},\"coloraxis\":{\"colorbar\":{\"outlinewidth\":0,\"ticks\":\"\"}},\"colorscale\":{\"sequential\":[[0.0,\"#0d0887\"],[0.1111111111111111,\"#46039f\"],[0.2222222222222222,\"#7201a8\"],[0.3333333333333333,\"#9c179e\"],[0.4444444444444444,\"#bd3786\"],[0.5555555555555556,\"#d8576b\"],[0.6666666666666666,\"#ed7953\"],[0.7777777777777778,\"#fb9f3a\"],[0.8888888888888888,\"#fdca26\"],[1.0,\"#f0f921\"]],\"sequentialminus\":[[0.0,\"#0d0887\"],[0.1111111111111111,\"#46039f\"],[0.2222222222222222,\"#7201a8\"],[0.3333333333333333,\"#9c179e\"],[0.4444444444444444,\"#bd3786\"],[0.5555555555555556,\"#d8576b\"],[0.6666666666666666,\"#ed7953\"],[0.7777777777777778,\"#fb9f3a\"],[0.8888888888888888,\"#fdca26\"],[1.0,\"#f0f921\"]],\"diverging\":[[0,\"#8e0152\"],[0.1,\"#c51b7d\"],[0.2,\"#de77ae\"],[0.3,\"#f1b6da\"],[0.4,\"#fde0ef\"],[0.5,\"#f7f7f7\"],[0.6,\"#e6f5d0\"],[0.7,\"#b8e186\"],[0.8,\"#7fbc41\"],[0.9,\"#4d9221\"],[1,\"#276419\"]]},\"xaxis\":{\"gridcolor\":\"white\",\"linecolor\":\"white\",\"ticks\":\"\",\"title\":{\"standoff\":15},\"zerolinecolor\":\"white\",\"automargin\":true,\"zerolinewidth\":2},\"yaxis\":{\"gridcolor\":\"white\",\"linecolor\":\"white\",\"ticks\":\"\",\"title\":{\"standoff\":15},\"zerolinecolor\":\"white\",\"automargin\":true,\"zerolinewidth\":2},\"scene\":{\"xaxis\":{\"backgroundcolor\":\"#E5ECF6\",\"gridcolor\":\"white\",\"linecolor\":\"white\",\"showbackground\":true,\"ticks\":\"\",\"zerolinecolor\":\"white\",\"gridwidth\":2},\"yaxis\":{\"backgroundcolor\":\"#E5ECF6\",\"gridcolor\":\"white\",\"linecolor\":\"white\",\"showbackground\":true,\"ticks\":\"\",\"zerolinecolor\":\"white\",\"gridwidth\":2},\"zaxis\":{\"backgroundcolor\":\"#E5ECF6\",\"gridcolor\":\"white\",\"linecolor\":\"white\",\"showbackground\":true,\"ticks\":\"\",\"zerolinecolor\":\"white\",\"gridwidth\":2}},\"shapedefaults\":{\"line\":{\"color\":\"#2a3f5f\"}},\"annotationdefaults\":{\"arrowcolor\":\"#2a3f5f\",\"arrowhead\":0,\"arrowwidth\":1},\"geo\":{\"bgcolor\":\"white\",\"landcolor\":\"#E5ECF6\",\"subunitcolor\":\"white\",\"showland\":true,\"showlakes\":true,\"lakecolor\":\"white\"},\"title\":{\"x\":0.05},\"mapbox\":{\"style\":\"light\"}}},\"mapbox\":{\"domain\":{\"x\":[0.0,1.0],\"y\":[0.0,1.0]},\"center\":{\"lat\":24.969160792079194,\"lon\":121.5339402227724},\"zoom\":8,\"style\":\"open-street-map\"},\"coloraxis\":{\"colorbar\":{\"title\":{\"text\":\"price_per_unit\"}},\"colorscale\":[[0.0,\"#0d0887\"],[0.1111111111111111,\"#46039f\"],[0.2222222222222222,\"#7201a8\"],[0.3333333333333333,\"#9c179e\"],[0.4444444444444444,\"#bd3786\"],[0.5555555555555556,\"#d8576b\"],[0.6666666666666666,\"#ed7953\"],[0.7777777777777778,\"#fb9f3a\"],[0.8888888888888888,\"#fdca26\"],[1.0,\"#f0f921\"]]},\"legend\":{\"tracegroupgap\":0},\"margin\":{\"t\":60},\"height\":600,\"width\":600},                        {\"responsive\": true}                    ).then(function(){\n",
       "                            \n",
       "var gd = document.getElementById('d496b4bb-6303-4158-b0e6-c0e6beee0d5c');\n",
       "var x = new MutationObserver(function (mutations, observer) {{\n",
       "        var display = window.getComputedStyle(gd).display;\n",
       "        if (!display || display === 'none') {{\n",
       "            console.log([gd, 'removed!']);\n",
       "            Plotly.purge(gd);\n",
       "            observer.disconnect();\n",
       "        }}\n",
       "}});\n",
       "\n",
       "// Listen for the removal of the full notebook cells\n",
       "var notebookContainer = gd.closest('#notebook-container');\n",
       "if (notebookContainer) {{\n",
       "    x.observe(notebookContainer, {childList: true});\n",
       "}}\n",
       "\n",
       "// Listen for the clearing of the current output cell\n",
       "var outputEl = gd.closest('.output');\n",
       "if (outputEl) {{\n",
       "    x.observe(outputEl, {childList: true});\n",
       "}}\n",
       "\n",
       "                        })                };                });            </script>        </div>"
      ]
     },
     "metadata": {},
     "output_type": "display_data"
    }
   ],
   "source": [
    "fig = px.scatter_mapbox(\n",
    "    data,  # Our DataFrame\n",
    "    lat= \"latitude\",\n",
    "    lon= \"longitude\",\n",
    "    width=600,  # Width of map\n",
    "    height=600,  # Height of map\n",
    "    color= \"price_per_unit\",\n",
    "    hover_data=[\"price_per_unit\"],  # Display price when hovering mouse over house\n",
    ")\n",
    "\n",
    "fig.update_layout(mapbox_style=\"open-street-map\")\n",
    "\n",
    "fig.show()"
   ]
  },
  {
   "cell_type": "markdown",
   "id": "ee453a2d",
   "metadata": {},
   "source": [
    "We could also do a 3D representation since we have 3 features; longitude on y-axis, latitude on x-axis and price_per_unit on z-axis"
   ]
  },
  {
   "cell_type": "code",
   "execution_count": 644,
   "id": "3eb4f68d",
   "metadata": {},
   "outputs": [
    {
     "data": {
      "application/vnd.plotly.v1+json": {
       "config": {
        "plotlyServerURL": "https://plot.ly"
       },
       "data": [
        {
         "hovertemplate": "latitude=%{x}<br>longitude=%{y}<br>price=%{z}<extra></extra>",
         "legendgroup": "",
         "marker": {
          "color": "#636efa",
          "line": {
           "color": "DarkSlateGrey",
           "width": 2
          },
          "size": 4,
          "symbol": "circle"
         },
         "mode": "markers",
         "name": "",
         "scene": "scene",
         "showlegend": false,
         "type": "scatter3d",
         "x": [
          24.98298,
          24.98034,
          24.98746,
          24.98746,
          24.97937,
          24.96305,
          24.97933,
          24.98042,
          24.96731,
          24.97349,
          24.97433,
          24.96515,
          24.96108,
          24.99156,
          24.9824,
          24.97744,
          24.97544,
          24.9675,
          24.96772,
          24.96314,
          24.97528,
          24.95204,
          24.97528,
          24.97353,
          24.97542,
          24.98085,
          24.95593,
          24.97419,
          24.97563,
          24.94826,
          24.98281,
          24.97349,
          24.97841,
          24.98419,
          25.01459,
          24.96386,
          24.95204,
          24.97201,
          24.98203,
          24.94155,
          24.94297,
          24.96305,
          24.98748,
          24.97445,
          24.97015,
          24.9703,
          24.97563,
          24.94684,
          24.94925,
          24.974,
          24.95402,
          24.97419,
          24.96515,
          24.98203,
          24.94968,
          24.97254,
          24.95744,
          24.94925,
          24.95776,
          24.96365,
          24.97585,
          24.96303,
          24.97445,
          24.96305,
          24.97635,
          24.96571,
          24.96674,
          24.97964,
          24.98746,
          24.97433,
          24.97563,
          24.97587,
          24.94155,
          24.98343,
          24.95204,
          24.97723,
          24.96322,
          24.97598,
          24.95182,
          24.97445,
          24.96427,
          24.96725,
          24.96056,
          24.96735,
          24.96853,
          24.9512,
          24.94297,
          24.98573,
          24.94783,
          24.9748,
          24.98569,
          24.96108,
          24.9492,
          24.9663,
          24.96674,
          24.97433,
          24.97746,
          24.98203,
          24.97433,
          24.98872,
          24.97371,
          24.96571,
          24.95618,
          24.96398,
          24.97707,
          24.95204,
          24.9726,
          24.96299,
          24.96674,
          24.97701,
          24.96044,
          24.96172,
          24.98155,
          24.98092,
          24.93885,
          24.96622,
          24.98203,
          24.96515,
          24.96515,
          24.98199,
          24.9711,
          24.97528,
          24.96571,
          24.97838,
          24.98085,
          24.96674,
          24.98086,
          24.98092,
          24.96299,
          24.97433,
          24.9866,
          24.96604,
          24.96357,
          24.97937,
          24.96495,
          24.97843,
          24.96515,
          24.98203,
          24.97213,
          24.97017,
          24.96515,
          24.95204,
          24.97563,
          24.9711,
          24.97017,
          24.93293,
          24.97349,
          24.96719,
          24.98118,
          24.95204,
          24.95418,
          24.94297,
          24.94155,
          24.94883,
          24.97886,
          24.97937,
          24.97886,
          24.95836,
          24.97723,
          24.94297,
          24.96674,
          24.9711,
          24.97694,
          24.97408,
          24.96299,
          24.95468,
          24.94741,
          24.98085,
          24.97433,
          24.98326,
          24.9805,
          24.97005,
          24.94867,
          24.97697,
          24.99176,
          24.97493,
          24.94898,
          24.98489,
          24.96299,
          24.94155,
          24.95495,
          24.97285,
          24.96322,
          24.95464,
          24.97707,
          24.94297,
          24.97945,
          24.97371,
          24.9675,
          24.98246,
          24.93363,
          24.95425,
          24.981,
          24.96881,
          24.96628,
          24.96945,
          24.96305,
          24.98746,
          24.97559,
          24.98203,
          24.95182,
          24.97289,
          24.98343,
          24.97503,
          24.95204,
          24.97347,
          24.97937,
          24.9748,
          24.98672,
          24.97433,
          24.96731,
          24.972,
          24.97153,
          24.97838,
          24.96515,
          24.98102,
          24.98569,
          24.98123,
          24.98569,
          24.97814,
          24.96571,
          24.94155,
          24.98059,
          25.00115,
          24.9489,
          24.96299,
          24.94235,
          24.95032,
          24.98016,
          24.96007,
          24.96606,
          24.98322,
          24.97668,
          24.97668,
          24.96334,
          24.96412,
          24.96606,
          24.96357,
          24.98236,
          24.97213,
          24.97258,
          24.96412,
          24.96211,
          24.96357,
          24.97429,
          24.9496,
          24.97433,
          24.96464,
          24.98254,
          24.97519,
          24.97501,
          24.97744,
          24.96334,
          24.97073,
          24.95885,
          24.98203,
          24.96299,
          24.96968,
          24.97886,
          24.96731,
          24.97433,
          24.97937,
          24.96334,
          24.96945,
          24.96515,
          24.97371,
          24.97305,
          24.96772,
          24.95425,
          24.96322,
          24.95618,
          24.97026,
          24.96581,
          24.98118,
          24.9512,
          24.98674,
          24.96735,
          24.97509,
          24.97433,
          24.95425,
          24.97841,
          24.98203,
          24.97217,
          24.95744,
          24.95674,
          24.96735,
          24.9796,
          24.96299,
          24.99176,
          24.97003,
          24.94155,
          24.98178,
          24.96696,
          24.97229,
          24.95885,
          24.97161,
          24.96622,
          24.98203,
          24.97369,
          24.9546,
          24.98203,
          24.94883,
          24.95394,
          24.97425,
          24.96674,
          24.97201,
          24.9832,
          24.96606,
          24.97795,
          24.98343,
          24.95562,
          24.93885,
          24.98872,
          24.97388,
          24.97631,
          24.96412,
          24.97015,
          24.95744,
          24.97538,
          24.97003,
          24.93885,
          24.94935,
          24.94826,
          24.97577,
          24.96674,
          24.99006,
          24.96431,
          24.98407,
          24.96871,
          24.96867,
          24.98254,
          24.97281,
          24.97371,
          24.97433,
          24.98223,
          24.998,
          24.9711,
          24.96412,
          24.97585,
          24.96674,
          24.96515,
          24.96324,
          24.96143,
          24.96299,
          24.95204,
          24.98085,
          24.97417,
          24.96853,
          24.96571,
          24.95505,
          24.983,
          24.97345,
          24.98872,
          24.98182,
          24.97913,
          24.96182,
          24.95153,
          24.96464,
          24.97544,
          24.96322,
          24.98203,
          24.95591,
          24.96628,
          24.9748,
          24.97937,
          24.96165,
          24.96447,
          24.95836,
          24.97077,
          24.97744,
          24.98203,
          24.98298,
          24.93207,
          24.97845,
          24.94297,
          24.983,
          24.9711,
          24.96042,
          24.95957,
          24.96756,
          24.97151,
          24.95155,
          24.97927,
          24.98872,
          24.95544,
          24.974,
          24.97198,
          24.99156,
          24.96447,
          24.97371,
          24.97433,
          24.96305,
          24.97388,
          24.98353,
          24.98203,
          24.95663,
          24.97293,
          24.95505,
          24.9633,
          24.94155,
          24.97433,
          24.97923,
          24.96674,
          24.97433
         ],
         "y": [
          121.54024,
          121.53951,
          121.54391,
          121.54391,
          121.54245,
          121.51254,
          121.53642,
          121.54228,
          121.51486,
          121.53372,
          121.5431,
          121.53737,
          121.51046,
          121.53406,
          121.54619,
          121.54458,
          121.53119,
          121.54451,
          121.54102,
          121.51151,
          121.54541,
          121.54842,
          121.54541,
          121.53885,
          121.51726,
          121.54391,
          121.53913,
          121.53797,
          121.54694,
          121.49587,
          121.53408,
          121.53451,
          121.54281,
          121.54243,
          121.51816,
          121.51458,
          121.54842,
          121.54722,
          121.54348,
          121.50381,
          121.50342,
          121.53758,
          121.54301,
          121.54765,
          121.54494,
          121.54458,
          121.53715,
          121.49578,
          121.49542,
          121.53842,
          121.55282,
          121.5175,
          121.53737,
          121.54348,
          121.53009,
          121.54059,
          121.53711,
          121.49542,
          121.53438,
          121.51471,
          121.54516,
          121.51254,
          121.54765,
          121.54915,
          121.54329,
          121.54089,
          121.54067,
          121.53805,
          121.54391,
          121.5431,
          121.53715,
          121.53913,
          121.50381,
          121.53762,
          121.54842,
          121.53767,
          121.51237,
          121.53381,
          121.54887,
          121.54765,
          121.53964,
          121.54252,
          121.50831,
          121.54464,
          121.54413,
          121.549,
          121.50342,
          121.52758,
          121.50243,
          121.53059,
          121.5276,
          121.51046,
          121.53076,
          121.54026,
          121.54067,
          121.5431,
          121.53299,
          121.54348,
          121.5431,
          121.53411,
          121.52984,
          121.54089,
          121.53844,
          121.5425,
          121.54308,
          121.54842,
          121.53561,
          121.51284,
          121.54067,
          121.54224,
          121.51462,
          121.53812,
          121.54142,
          121.54739,
          121.50383,
          121.51709,
          121.54348,
          121.53737,
          121.53737,
          121.54464,
          121.5317,
          121.54541,
          121.54089,
          121.53477,
          121.54391,
          121.54039,
          121.54162,
          121.53653,
          121.51284,
          121.53863,
          121.54082,
          121.54211,
          121.54951,
          121.54245,
          121.54277,
          121.52406,
          121.53737,
          121.54348,
          121.51627,
          121.54647,
          121.53737,
          121.54842,
          121.54694,
          121.5317,
          121.54494,
          121.51203,
          121.54245,
          121.54269,
          121.53788,
          121.54842,
          121.53713,
          121.50342,
          121.50381,
          121.52954,
          121.53464,
          121.54245,
          121.53464,
          121.53756,
          121.53767,
          121.50342,
          121.54067,
          121.5317,
          121.55391,
          121.54011,
          121.5432,
          121.55481,
          121.49628,
          121.54391,
          121.5431,
          121.5446,
          121.53778,
          121.53758,
          121.49507,
          121.54262,
          121.53456,
          121.5273,
          121.49621,
          121.54121,
          121.51284,
          121.50381,
          121.56174,
          121.5173,
          121.51237,
          121.56627,
          121.54312,
          121.50342,
          121.53642,
          121.54951,
          121.54069,
          121.54477,
          121.51158,
          121.5399,
          121.54713,
          121.54089,
          121.54196,
          121.5449,
          121.54915,
          121.54391,
          121.53713,
          121.54348,
          121.54887,
          121.51728,
          121.53762,
          121.53692,
          121.54842,
          121.54271,
          121.54245,
          121.53059,
          121.52091,
          121.5431,
          121.51486,
          121.54477,
          121.53559,
          121.54119,
          121.53737,
          121.53655,
          121.5276,
          121.53743,
          121.5276,
          121.5417,
          121.54089,
          121.50381,
          121.53986,
          121.51776,
          121.53095,
          121.51284,
          121.50357,
          121.49587,
          121.53932,
          121.51361,
          121.54297,
          121.53765,
          121.52518,
          121.52518,
          121.54767,
          121.5167,
          121.54297,
          121.51329,
          121.53923,
          121.51627,
          121.54814,
          121.54273,
          121.54928,
          121.54951,
          121.53917,
          121.53018,
          121.5431,
          121.51623,
          121.54395,
          121.53151,
          121.5273,
          121.54458,
          121.54767,
          121.517,
          121.51359,
          121.54348,
          121.51284,
          121.54522,
          121.53464,
          121.51486,
          121.53863,
          121.54245,
          121.54767,
          121.5449,
          121.53737,
          121.52984,
          121.53994,
          121.54102,
          121.5399,
          121.51237,
          121.53844,
          121.51642,
          121.54086,
          121.53788,
          121.549,
          121.51844,
          121.54464,
          121.53644,
          121.5431,
          121.5399,
          121.5428,
          121.54348,
          121.53471,
          121.53711,
          121.534,
          121.54464,
          121.5414,
          121.51252,
          121.53456,
          121.5458,
          121.50381,
          121.54059,
          121.53992,
          121.53445,
          121.51359,
          121.53423,
          121.51668,
          121.54348,
          121.52979,
          121.56627,
          121.54348,
          121.52954,
          121.55174,
          121.53814,
          121.54067,
          121.54722,
          121.51812,
          121.54297,
          121.53451,
          121.53762,
          121.53872,
          121.50383,
          121.53411,
          121.52981,
          121.54436,
          121.5167,
          121.54494,
          121.53711,
          121.54971,
          121.51696,
          121.50383,
          121.53046,
          121.49587,
          121.53475,
          121.54067,
          121.5346,
          121.54063,
          121.51748,
          121.54651,
          121.54331,
          121.54395,
          121.53265,
          121.54951,
          121.5431,
          121.53597,
          121.5155,
          121.5317,
          121.5167,
          121.54516,
          121.54067,
          121.53737,
          121.51241,
          121.50827,
          121.51284,
          121.54842,
          121.54391,
          121.52999,
          121.54413,
          121.54089,
          121.55964,
          121.54022,
          121.54093,
          121.53408,
          121.54086,
          121.53666,
          121.51222,
          121.55254,
          121.51531,
          121.53119,
          121.51237,
          121.54348,
          121.53956,
          121.54196,
          121.53059,
          121.54245,
          121.55011,
          121.51649,
          121.53756,
          121.54634,
          121.54458,
          121.54348,
          121.53981,
          121.51597,
          121.53889,
          121.50342,
          121.54026,
          121.5317,
          121.51462,
          121.51353,
          121.5423,
          121.5435,
          121.55387,
          121.53874,
          121.53408,
          121.4963,
          121.53842,
          121.55063,
          121.53406,
          121.51649,
          121.52984,
          121.53863,
          121.51254,
          121.52981,
          121.53966,
          121.54348,
          121.53765,
          121.54026,
          121.55964,
          121.51243,
          121.50381,
          121.5431,
          121.53986,
          121.54067,
          121.5431
         ],
         "z": [
          37.9,
          42.2,
          47.3,
          54.8,
          43.1,
          32.1,
          40.3,
          46.7,
          22.1,
          41.4,
          58.1,
          39.3,
          23.8,
          34.3,
          50.5,
          70.1,
          37.4,
          42.3,
          47.7,
          29.3,
          51.6,
          24.6,
          47.9,
          38.8,
          27,
          56.2,
          33.6,
          47,
          57.1,
          22.1,
          25,
          34.2,
          49.3,
          55.1,
          27.3,
          22.9,
          25.3,
          47.7,
          46.2,
          15.9,
          18.2,
          34.7,
          34.1,
          53.9,
          38.3,
          42,
          61.5,
          13.4,
          13.2,
          44.2,
          20.7,
          27,
          38.9,
          51.7,
          13.7,
          41.9,
          53.5,
          22.6,
          42.4,
          21.3,
          63.2,
          27.7,
          55,
          25.3,
          44.3,
          50.7,
          56.8,
          36.2,
          42,
          59,
          40.8,
          36.3,
          20,
          54.4,
          29.5,
          36.8,
          25.6,
          29.8,
          26.5,
          40.3,
          36.8,
          48.1,
          17.7,
          43.7,
          50.8,
          27,
          18.3,
          48,
          25.3,
          45.4,
          43.2,
          21.8,
          16.1,
          41,
          51.8,
          59.5,
          34.6,
          51,
          62.2,
          38.2,
          32.9,
          54.4,
          45.7,
          30.5,
          47.1,
          26.6,
          34.1,
          28.4,
          51.6,
          39.4,
          23.1,
          7.6,
          53.3,
          46.4,
          13,
          30.6,
          59.6,
          31.3,
          48,
          32.5,
          45.5,
          57.4,
          48.6,
          62.9,
          55,
          60.7,
          41,
          37.5,
          30.7,
          37.5,
          39.5,
          42.2,
          20.8,
          46.8,
          47.4,
          43.5,
          42.5,
          51.4,
          28.9,
          37.5,
          40.1,
          28.4,
          45.5,
          52.2,
          43.2,
          45.1,
          39.7,
          48.5,
          44.7,
          28.9,
          40.9,
          20.7,
          15.6,
          18.3,
          35.6,
          39.4,
          37.4,
          57.8,
          39.6,
          11.6,
          55.5,
          55.2,
          30.6,
          43.4,
          37.4,
          23.5,
          14.4,
          58.8,
          58.1,
          35.1,
          45.2,
          36.5,
          19.2,
          42,
          36.7,
          42.6,
          15.5,
          55.9,
          23.6,
          18.8,
          21.8,
          21.5,
          25.7,
          22,
          44.3,
          20.5,
          42.3,
          37.8,
          42.7,
          49.3,
          29.3,
          34.6,
          36.6,
          48.2,
          39.1,
          31.6,
          25.5,
          45.9,
          31.5,
          46.1,
          26.6,
          21.4,
          44,
          34.2,
          26.2,
          40.9,
          52.2,
          43.5,
          31.1,
          58,
          20.9,
          48.1,
          39.7,
          40.8,
          43.8,
          40.2,
          38.5,
          48.5,
          42.3,
          46,
          49,
          12.8,
          40.2,
          46.6,
          19,
          33.4,
          14.7,
          17.4,
          32.4,
          23.9,
          39.3,
          61.9,
          39,
          40.6,
          29.7,
          28.8,
          41.4,
          33.4,
          48.2,
          21.7,
          40.8,
          40.6,
          23.1,
          22.3,
          30,
          13.8,
          52.7,
          25.9,
          51.8,
          26.5,
          43.9,
          63.3,
          28.8,
          30.7,
          24.4,
          53,
          31.7,
          40.6,
          38.1,
          23.7,
          41.1,
          40.1,
          23,
          26.5,
          40.5,
          29.3,
          41,
          49.7,
          34,
          27.7,
          44,
          31.1,
          45.4,
          44.8,
          25.6,
          23.5,
          34.4,
          55.3,
          56.3,
          32.9,
          51,
          44.5,
          37,
          54.4,
          24.5,
          42.5,
          38.1,
          21.8,
          34.1,
          28.5,
          16.7,
          46.1,
          36.9,
          35.7,
          23.2,
          38.4,
          29.4,
          55,
          50.2,
          24.7,
          53,
          19.1,
          24.7,
          42.2,
          42.8,
          41.6,
          27.3,
          42,
          37.5,
          49.8,
          26.9,
          18.6,
          37.7,
          33.1,
          42.5,
          31.3,
          38.1,
          62.1,
          36.7,
          23.6,
          19.2,
          12.8,
          15.6,
          39.6,
          38.4,
          22.8,
          36.5,
          35.6,
          30.9,
          36.3,
          50.4,
          42.9,
          37,
          53.5,
          46.6,
          41.2,
          37.9,
          30.8,
          53.7,
          47,
          42.3,
          28.6,
          25.7,
          31.3,
          30.1,
          60.7,
          45.3,
          44.9,
          45.1,
          24.7,
          47.1,
          63.3,
          40,
          48,
          33.1,
          29.5,
          24.8,
          20.9,
          43.1,
          22.8,
          42.1,
          51.7,
          41.5,
          52.2,
          49.5,
          23.8,
          30.5,
          56.8,
          37.4,
          69.7,
          53.3,
          47.3,
          29.3,
          40.3,
          12.9,
          46.6,
          55.3,
          25.6,
          27.3,
          67.7,
          38.6,
          31.3,
          35.3,
          40.3,
          24.7,
          42.5,
          31.9,
          32.2,
          23,
          37.3,
          35.5,
          27.7,
          28.5,
          39.7,
          41.2,
          37.2,
          40.5,
          22.3,
          28.1,
          15.4,
          50,
          40.6,
          52.5,
          63.9
         ]
        }
       ],
       "layout": {
        "height": 500,
        "legend": {
         "tracegroupgap": 0
        },
        "margin": {
         "t": 60
        },
        "scene": {
         "domain": {
          "x": [
           0,
           1
          ],
          "y": [
           0,
           1
          ]
         },
         "xaxis": {
          "title": {
           "text": "latitude"
          }
         },
         "yaxis": {
          "title": {
           "text": "longitude"
          }
         },
         "zaxis": {
          "title": {
           "text": "price"
          }
         }
        },
        "template": {
         "data": {
          "bar": [
           {
            "error_x": {
             "color": "#2a3f5f"
            },
            "error_y": {
             "color": "#2a3f5f"
            },
            "marker": {
             "line": {
              "color": "#E5ECF6",
              "width": 0.5
             },
             "pattern": {
              "fillmode": "overlay",
              "size": 10,
              "solidity": 0.2
             }
            },
            "type": "bar"
           }
          ],
          "barpolar": [
           {
            "marker": {
             "line": {
              "color": "#E5ECF6",
              "width": 0.5
             },
             "pattern": {
              "fillmode": "overlay",
              "size": 10,
              "solidity": 0.2
             }
            },
            "type": "barpolar"
           }
          ],
          "carpet": [
           {
            "aaxis": {
             "endlinecolor": "#2a3f5f",
             "gridcolor": "white",
             "linecolor": "white",
             "minorgridcolor": "white",
             "startlinecolor": "#2a3f5f"
            },
            "baxis": {
             "endlinecolor": "#2a3f5f",
             "gridcolor": "white",
             "linecolor": "white",
             "minorgridcolor": "white",
             "startlinecolor": "#2a3f5f"
            },
            "type": "carpet"
           }
          ],
          "choropleth": [
           {
            "colorbar": {
             "outlinewidth": 0,
             "ticks": ""
            },
            "type": "choropleth"
           }
          ],
          "contour": [
           {
            "colorbar": {
             "outlinewidth": 0,
             "ticks": ""
            },
            "colorscale": [
             [
              0,
              "#0d0887"
             ],
             [
              0.1111111111111111,
              "#46039f"
             ],
             [
              0.2222222222222222,
              "#7201a8"
             ],
             [
              0.3333333333333333,
              "#9c179e"
             ],
             [
              0.4444444444444444,
              "#bd3786"
             ],
             [
              0.5555555555555556,
              "#d8576b"
             ],
             [
              0.6666666666666666,
              "#ed7953"
             ],
             [
              0.7777777777777778,
              "#fb9f3a"
             ],
             [
              0.8888888888888888,
              "#fdca26"
             ],
             [
              1,
              "#f0f921"
             ]
            ],
            "type": "contour"
           }
          ],
          "contourcarpet": [
           {
            "colorbar": {
             "outlinewidth": 0,
             "ticks": ""
            },
            "type": "contourcarpet"
           }
          ],
          "heatmap": [
           {
            "colorbar": {
             "outlinewidth": 0,
             "ticks": ""
            },
            "colorscale": [
             [
              0,
              "#0d0887"
             ],
             [
              0.1111111111111111,
              "#46039f"
             ],
             [
              0.2222222222222222,
              "#7201a8"
             ],
             [
              0.3333333333333333,
              "#9c179e"
             ],
             [
              0.4444444444444444,
              "#bd3786"
             ],
             [
              0.5555555555555556,
              "#d8576b"
             ],
             [
              0.6666666666666666,
              "#ed7953"
             ],
             [
              0.7777777777777778,
              "#fb9f3a"
             ],
             [
              0.8888888888888888,
              "#fdca26"
             ],
             [
              1,
              "#f0f921"
             ]
            ],
            "type": "heatmap"
           }
          ],
          "heatmapgl": [
           {
            "colorbar": {
             "outlinewidth": 0,
             "ticks": ""
            },
            "colorscale": [
             [
              0,
              "#0d0887"
             ],
             [
              0.1111111111111111,
              "#46039f"
             ],
             [
              0.2222222222222222,
              "#7201a8"
             ],
             [
              0.3333333333333333,
              "#9c179e"
             ],
             [
              0.4444444444444444,
              "#bd3786"
             ],
             [
              0.5555555555555556,
              "#d8576b"
             ],
             [
              0.6666666666666666,
              "#ed7953"
             ],
             [
              0.7777777777777778,
              "#fb9f3a"
             ],
             [
              0.8888888888888888,
              "#fdca26"
             ],
             [
              1,
              "#f0f921"
             ]
            ],
            "type": "heatmapgl"
           }
          ],
          "histogram": [
           {
            "marker": {
             "pattern": {
              "fillmode": "overlay",
              "size": 10,
              "solidity": 0.2
             }
            },
            "type": "histogram"
           }
          ],
          "histogram2d": [
           {
            "colorbar": {
             "outlinewidth": 0,
             "ticks": ""
            },
            "colorscale": [
             [
              0,
              "#0d0887"
             ],
             [
              0.1111111111111111,
              "#46039f"
             ],
             [
              0.2222222222222222,
              "#7201a8"
             ],
             [
              0.3333333333333333,
              "#9c179e"
             ],
             [
              0.4444444444444444,
              "#bd3786"
             ],
             [
              0.5555555555555556,
              "#d8576b"
             ],
             [
              0.6666666666666666,
              "#ed7953"
             ],
             [
              0.7777777777777778,
              "#fb9f3a"
             ],
             [
              0.8888888888888888,
              "#fdca26"
             ],
             [
              1,
              "#f0f921"
             ]
            ],
            "type": "histogram2d"
           }
          ],
          "histogram2dcontour": [
           {
            "colorbar": {
             "outlinewidth": 0,
             "ticks": ""
            },
            "colorscale": [
             [
              0,
              "#0d0887"
             ],
             [
              0.1111111111111111,
              "#46039f"
             ],
             [
              0.2222222222222222,
              "#7201a8"
             ],
             [
              0.3333333333333333,
              "#9c179e"
             ],
             [
              0.4444444444444444,
              "#bd3786"
             ],
             [
              0.5555555555555556,
              "#d8576b"
             ],
             [
              0.6666666666666666,
              "#ed7953"
             ],
             [
              0.7777777777777778,
              "#fb9f3a"
             ],
             [
              0.8888888888888888,
              "#fdca26"
             ],
             [
              1,
              "#f0f921"
             ]
            ],
            "type": "histogram2dcontour"
           }
          ],
          "mesh3d": [
           {
            "colorbar": {
             "outlinewidth": 0,
             "ticks": ""
            },
            "type": "mesh3d"
           }
          ],
          "parcoords": [
           {
            "line": {
             "colorbar": {
              "outlinewidth": 0,
              "ticks": ""
             }
            },
            "type": "parcoords"
           }
          ],
          "pie": [
           {
            "automargin": true,
            "type": "pie"
           }
          ],
          "scatter": [
           {
            "fillpattern": {
             "fillmode": "overlay",
             "size": 10,
             "solidity": 0.2
            },
            "type": "scatter"
           }
          ],
          "scatter3d": [
           {
            "line": {
             "colorbar": {
              "outlinewidth": 0,
              "ticks": ""
             }
            },
            "marker": {
             "colorbar": {
              "outlinewidth": 0,
              "ticks": ""
             }
            },
            "type": "scatter3d"
           }
          ],
          "scattercarpet": [
           {
            "marker": {
             "colorbar": {
              "outlinewidth": 0,
              "ticks": ""
             }
            },
            "type": "scattercarpet"
           }
          ],
          "scattergeo": [
           {
            "marker": {
             "colorbar": {
              "outlinewidth": 0,
              "ticks": ""
             }
            },
            "type": "scattergeo"
           }
          ],
          "scattergl": [
           {
            "marker": {
             "colorbar": {
              "outlinewidth": 0,
              "ticks": ""
             }
            },
            "type": "scattergl"
           }
          ],
          "scattermapbox": [
           {
            "marker": {
             "colorbar": {
              "outlinewidth": 0,
              "ticks": ""
             }
            },
            "type": "scattermapbox"
           }
          ],
          "scatterpolar": [
           {
            "marker": {
             "colorbar": {
              "outlinewidth": 0,
              "ticks": ""
             }
            },
            "type": "scatterpolar"
           }
          ],
          "scatterpolargl": [
           {
            "marker": {
             "colorbar": {
              "outlinewidth": 0,
              "ticks": ""
             }
            },
            "type": "scatterpolargl"
           }
          ],
          "scatterternary": [
           {
            "marker": {
             "colorbar": {
              "outlinewidth": 0,
              "ticks": ""
             }
            },
            "type": "scatterternary"
           }
          ],
          "surface": [
           {
            "colorbar": {
             "outlinewidth": 0,
             "ticks": ""
            },
            "colorscale": [
             [
              0,
              "#0d0887"
             ],
             [
              0.1111111111111111,
              "#46039f"
             ],
             [
              0.2222222222222222,
              "#7201a8"
             ],
             [
              0.3333333333333333,
              "#9c179e"
             ],
             [
              0.4444444444444444,
              "#bd3786"
             ],
             [
              0.5555555555555556,
              "#d8576b"
             ],
             [
              0.6666666666666666,
              "#ed7953"
             ],
             [
              0.7777777777777778,
              "#fb9f3a"
             ],
             [
              0.8888888888888888,
              "#fdca26"
             ],
             [
              1,
              "#f0f921"
             ]
            ],
            "type": "surface"
           }
          ],
          "table": [
           {
            "cells": {
             "fill": {
              "color": "#EBF0F8"
             },
             "line": {
              "color": "white"
             }
            },
            "header": {
             "fill": {
              "color": "#C8D4E3"
             },
             "line": {
              "color": "white"
             }
            },
            "type": "table"
           }
          ]
         },
         "layout": {
          "annotationdefaults": {
           "arrowcolor": "#2a3f5f",
           "arrowhead": 0,
           "arrowwidth": 1
          },
          "autotypenumbers": "strict",
          "coloraxis": {
           "colorbar": {
            "outlinewidth": 0,
            "ticks": ""
           }
          },
          "colorscale": {
           "diverging": [
            [
             0,
             "#8e0152"
            ],
            [
             0.1,
             "#c51b7d"
            ],
            [
             0.2,
             "#de77ae"
            ],
            [
             0.3,
             "#f1b6da"
            ],
            [
             0.4,
             "#fde0ef"
            ],
            [
             0.5,
             "#f7f7f7"
            ],
            [
             0.6,
             "#e6f5d0"
            ],
            [
             0.7,
             "#b8e186"
            ],
            [
             0.8,
             "#7fbc41"
            ],
            [
             0.9,
             "#4d9221"
            ],
            [
             1,
             "#276419"
            ]
           ],
           "sequential": [
            [
             0,
             "#0d0887"
            ],
            [
             0.1111111111111111,
             "#46039f"
            ],
            [
             0.2222222222222222,
             "#7201a8"
            ],
            [
             0.3333333333333333,
             "#9c179e"
            ],
            [
             0.4444444444444444,
             "#bd3786"
            ],
            [
             0.5555555555555556,
             "#d8576b"
            ],
            [
             0.6666666666666666,
             "#ed7953"
            ],
            [
             0.7777777777777778,
             "#fb9f3a"
            ],
            [
             0.8888888888888888,
             "#fdca26"
            ],
            [
             1,
             "#f0f921"
            ]
           ],
           "sequentialminus": [
            [
             0,
             "#0d0887"
            ],
            [
             0.1111111111111111,
             "#46039f"
            ],
            [
             0.2222222222222222,
             "#7201a8"
            ],
            [
             0.3333333333333333,
             "#9c179e"
            ],
            [
             0.4444444444444444,
             "#bd3786"
            ],
            [
             0.5555555555555556,
             "#d8576b"
            ],
            [
             0.6666666666666666,
             "#ed7953"
            ],
            [
             0.7777777777777778,
             "#fb9f3a"
            ],
            [
             0.8888888888888888,
             "#fdca26"
            ],
            [
             1,
             "#f0f921"
            ]
           ]
          },
          "colorway": [
           "#636efa",
           "#EF553B",
           "#00cc96",
           "#ab63fa",
           "#FFA15A",
           "#19d3f3",
           "#FF6692",
           "#B6E880",
           "#FF97FF",
           "#FECB52"
          ],
          "font": {
           "color": "#2a3f5f"
          },
          "geo": {
           "bgcolor": "white",
           "lakecolor": "white",
           "landcolor": "#E5ECF6",
           "showlakes": true,
           "showland": true,
           "subunitcolor": "white"
          },
          "hoverlabel": {
           "align": "left"
          },
          "hovermode": "closest",
          "mapbox": {
           "style": "light"
          },
          "paper_bgcolor": "white",
          "plot_bgcolor": "#E5ECF6",
          "polar": {
           "angularaxis": {
            "gridcolor": "white",
            "linecolor": "white",
            "ticks": ""
           },
           "bgcolor": "#E5ECF6",
           "radialaxis": {
            "gridcolor": "white",
            "linecolor": "white",
            "ticks": ""
           }
          },
          "scene": {
           "xaxis": {
            "backgroundcolor": "#E5ECF6",
            "gridcolor": "white",
            "gridwidth": 2,
            "linecolor": "white",
            "showbackground": true,
            "ticks": "",
            "zerolinecolor": "white"
           },
           "yaxis": {
            "backgroundcolor": "#E5ECF6",
            "gridcolor": "white",
            "gridwidth": 2,
            "linecolor": "white",
            "showbackground": true,
            "ticks": "",
            "zerolinecolor": "white"
           },
           "zaxis": {
            "backgroundcolor": "#E5ECF6",
            "gridcolor": "white",
            "gridwidth": 2,
            "linecolor": "white",
            "showbackground": true,
            "ticks": "",
            "zerolinecolor": "white"
           }
          },
          "shapedefaults": {
           "line": {
            "color": "#2a3f5f"
           }
          },
          "ternary": {
           "aaxis": {
            "gridcolor": "white",
            "linecolor": "white",
            "ticks": ""
           },
           "baxis": {
            "gridcolor": "white",
            "linecolor": "white",
            "ticks": ""
           },
           "bgcolor": "#E5ECF6",
           "caxis": {
            "gridcolor": "white",
            "linecolor": "white",
            "ticks": ""
           }
          },
          "title": {
           "x": 0.05
          },
          "xaxis": {
           "automargin": true,
           "gridcolor": "white",
           "linecolor": "white",
           "ticks": "",
           "title": {
            "standoff": 15
           },
           "zerolinecolor": "white",
           "zerolinewidth": 2
          },
          "yaxis": {
           "automargin": true,
           "gridcolor": "white",
           "linecolor": "white",
           "ticks": "",
           "title": {
            "standoff": 15
           },
           "zerolinecolor": "white",
           "zerolinewidth": 2
          }
         }
        },
        "width": 600
       }
      },
      "text/html": [
       "<div>                            <div id=\"26e4cec7-be92-49cc-a565-80f53d14f3c8\" class=\"plotly-graph-div\" style=\"height:500px; width:600px;\"></div>            <script type=\"text/javascript\">                require([\"plotly\"], function(Plotly) {                    window.PLOTLYENV=window.PLOTLYENV || {};                                    if (document.getElementById(\"26e4cec7-be92-49cc-a565-80f53d14f3c8\")) {                    Plotly.newPlot(                        \"26e4cec7-be92-49cc-a565-80f53d14f3c8\",                        [{\"hovertemplate\":\"latitude=%{x}<br>longitude=%{y}<br>price=%{z}<extra></extra>\",\"legendgroup\":\"\",\"marker\":{\"color\":\"#636efa\",\"symbol\":\"circle\",\"line\":{\"color\":\"DarkSlateGrey\",\"width\":2},\"size\":4},\"mode\":\"markers\",\"name\":\"\",\"scene\":\"scene\",\"showlegend\":false,\"x\":[24.98298,24.98034,24.98746,24.98746,24.97937,24.96305,24.97933,24.98042,24.96731,24.97349,24.97433,24.96515,24.96108,24.99156,24.9824,24.97744,24.97544,24.9675,24.96772,24.96314,24.97528,24.95204,24.97528,24.97353,24.97542,24.98085,24.95593,24.97419,24.97563,24.94826,24.98281,24.97349,24.97841,24.98419,25.01459,24.96386,24.95204,24.97201,24.98203,24.94155,24.94297,24.96305,24.98748,24.97445,24.97015,24.9703,24.97563,24.94684,24.94925,24.974,24.95402,24.97419,24.96515,24.98203,24.94968,24.97254,24.95744,24.94925,24.95776,24.96365,24.97585,24.96303,24.97445,24.96305,24.97635,24.96571,24.96674,24.97964,24.98746,24.97433,24.97563,24.97587,24.94155,24.98343,24.95204,24.97723,24.96322,24.97598,24.95182,24.97445,24.96427,24.96725,24.96056,24.96735,24.96853,24.9512,24.94297,24.98573,24.94783,24.9748,24.98569,24.96108,24.9492,24.9663,24.96674,24.97433,24.97746,24.98203,24.97433,24.98872,24.97371,24.96571,24.95618,24.96398,24.97707,24.95204,24.9726,24.96299,24.96674,24.97701,24.96044,24.96172,24.98155,24.98092,24.93885,24.96622,24.98203,24.96515,24.96515,24.98199,24.9711,24.97528,24.96571,24.97838,24.98085,24.96674,24.98086,24.98092,24.96299,24.97433,24.9866,24.96604,24.96357,24.97937,24.96495,24.97843,24.96515,24.98203,24.97213,24.97017,24.96515,24.95204,24.97563,24.9711,24.97017,24.93293,24.97349,24.96719,24.98118,24.95204,24.95418,24.94297,24.94155,24.94883,24.97886,24.97937,24.97886,24.95836,24.97723,24.94297,24.96674,24.9711,24.97694,24.97408,24.96299,24.95468,24.94741,24.98085,24.97433,24.98326,24.9805,24.97005,24.94867,24.97697,24.99176,24.97493,24.94898,24.98489,24.96299,24.94155,24.95495,24.97285,24.96322,24.95464,24.97707,24.94297,24.97945,24.97371,24.9675,24.98246,24.93363,24.95425,24.981,24.96881,24.96628,24.96945,24.96305,24.98746,24.97559,24.98203,24.95182,24.97289,24.98343,24.97503,24.95204,24.97347,24.97937,24.9748,24.98672,24.97433,24.96731,24.972,24.97153,24.97838,24.96515,24.98102,24.98569,24.98123,24.98569,24.97814,24.96571,24.94155,24.98059,25.00115,24.9489,24.96299,24.94235,24.95032,24.98016,24.96007,24.96606,24.98322,24.97668,24.97668,24.96334,24.96412,24.96606,24.96357,24.98236,24.97213,24.97258,24.96412,24.96211,24.96357,24.97429,24.9496,24.97433,24.96464,24.98254,24.97519,24.97501,24.97744,24.96334,24.97073,24.95885,24.98203,24.96299,24.96968,24.97886,24.96731,24.97433,24.97937,24.96334,24.96945,24.96515,24.97371,24.97305,24.96772,24.95425,24.96322,24.95618,24.97026,24.96581,24.98118,24.9512,24.98674,24.96735,24.97509,24.97433,24.95425,24.97841,24.98203,24.97217,24.95744,24.95674,24.96735,24.9796,24.96299,24.99176,24.97003,24.94155,24.98178,24.96696,24.97229,24.95885,24.97161,24.96622,24.98203,24.97369,24.9546,24.98203,24.94883,24.95394,24.97425,24.96674,24.97201,24.9832,24.96606,24.97795,24.98343,24.95562,24.93885,24.98872,24.97388,24.97631,24.96412,24.97015,24.95744,24.97538,24.97003,24.93885,24.94935,24.94826,24.97577,24.96674,24.99006,24.96431,24.98407,24.96871,24.96867,24.98254,24.97281,24.97371,24.97433,24.98223,24.998,24.9711,24.96412,24.97585,24.96674,24.96515,24.96324,24.96143,24.96299,24.95204,24.98085,24.97417,24.96853,24.96571,24.95505,24.983,24.97345,24.98872,24.98182,24.97913,24.96182,24.95153,24.96464,24.97544,24.96322,24.98203,24.95591,24.96628,24.9748,24.97937,24.96165,24.96447,24.95836,24.97077,24.97744,24.98203,24.98298,24.93207,24.97845,24.94297,24.983,24.9711,24.96042,24.95957,24.96756,24.97151,24.95155,24.97927,24.98872,24.95544,24.974,24.97198,24.99156,24.96447,24.97371,24.97433,24.96305,24.97388,24.98353,24.98203,24.95663,24.97293,24.95505,24.9633,24.94155,24.97433,24.97923,24.96674,24.97433],\"y\":[121.54024,121.53951,121.54391,121.54391,121.54245,121.51254,121.53642,121.54228,121.51486,121.53372,121.5431,121.53737,121.51046,121.53406,121.54619,121.54458,121.53119,121.54451,121.54102,121.51151,121.54541,121.54842,121.54541,121.53885,121.51726,121.54391,121.53913,121.53797,121.54694,121.49587,121.53408,121.53451,121.54281,121.54243,121.51816,121.51458,121.54842,121.54722,121.54348,121.50381,121.50342,121.53758,121.54301,121.54765,121.54494,121.54458,121.53715,121.49578,121.49542,121.53842,121.55282,121.5175,121.53737,121.54348,121.53009,121.54059,121.53711,121.49542,121.53438,121.51471,121.54516,121.51254,121.54765,121.54915,121.54329,121.54089,121.54067,121.53805,121.54391,121.5431,121.53715,121.53913,121.50381,121.53762,121.54842,121.53767,121.51237,121.53381,121.54887,121.54765,121.53964,121.54252,121.50831,121.54464,121.54413,121.549,121.50342,121.52758,121.50243,121.53059,121.5276,121.51046,121.53076,121.54026,121.54067,121.5431,121.53299,121.54348,121.5431,121.53411,121.52984,121.54089,121.53844,121.5425,121.54308,121.54842,121.53561,121.51284,121.54067,121.54224,121.51462,121.53812,121.54142,121.54739,121.50383,121.51709,121.54348,121.53737,121.53737,121.54464,121.5317,121.54541,121.54089,121.53477,121.54391,121.54039,121.54162,121.53653,121.51284,121.53863,121.54082,121.54211,121.54951,121.54245,121.54277,121.52406,121.53737,121.54348,121.51627,121.54647,121.53737,121.54842,121.54694,121.5317,121.54494,121.51203,121.54245,121.54269,121.53788,121.54842,121.53713,121.50342,121.50381,121.52954,121.53464,121.54245,121.53464,121.53756,121.53767,121.50342,121.54067,121.5317,121.55391,121.54011,121.5432,121.55481,121.49628,121.54391,121.5431,121.5446,121.53778,121.53758,121.49507,121.54262,121.53456,121.5273,121.49621,121.54121,121.51284,121.50381,121.56174,121.5173,121.51237,121.56627,121.54312,121.50342,121.53642,121.54951,121.54069,121.54477,121.51158,121.5399,121.54713,121.54089,121.54196,121.5449,121.54915,121.54391,121.53713,121.54348,121.54887,121.51728,121.53762,121.53692,121.54842,121.54271,121.54245,121.53059,121.52091,121.5431,121.51486,121.54477,121.53559,121.54119,121.53737,121.53655,121.5276,121.53743,121.5276,121.5417,121.54089,121.50381,121.53986,121.51776,121.53095,121.51284,121.50357,121.49587,121.53932,121.51361,121.54297,121.53765,121.52518,121.52518,121.54767,121.5167,121.54297,121.51329,121.53923,121.51627,121.54814,121.54273,121.54928,121.54951,121.53917,121.53018,121.5431,121.51623,121.54395,121.53151,121.5273,121.54458,121.54767,121.517,121.51359,121.54348,121.51284,121.54522,121.53464,121.51486,121.53863,121.54245,121.54767,121.5449,121.53737,121.52984,121.53994,121.54102,121.5399,121.51237,121.53844,121.51642,121.54086,121.53788,121.549,121.51844,121.54464,121.53644,121.5431,121.5399,121.5428,121.54348,121.53471,121.53711,121.534,121.54464,121.5414,121.51252,121.53456,121.5458,121.50381,121.54059,121.53992,121.53445,121.51359,121.53423,121.51668,121.54348,121.52979,121.56627,121.54348,121.52954,121.55174,121.53814,121.54067,121.54722,121.51812,121.54297,121.53451,121.53762,121.53872,121.50383,121.53411,121.52981,121.54436,121.5167,121.54494,121.53711,121.54971,121.51696,121.50383,121.53046,121.49587,121.53475,121.54067,121.5346,121.54063,121.51748,121.54651,121.54331,121.54395,121.53265,121.54951,121.5431,121.53597,121.5155,121.5317,121.5167,121.54516,121.54067,121.53737,121.51241,121.50827,121.51284,121.54842,121.54391,121.52999,121.54413,121.54089,121.55964,121.54022,121.54093,121.53408,121.54086,121.53666,121.51222,121.55254,121.51531,121.53119,121.51237,121.54348,121.53956,121.54196,121.53059,121.54245,121.55011,121.51649,121.53756,121.54634,121.54458,121.54348,121.53981,121.51597,121.53889,121.50342,121.54026,121.5317,121.51462,121.51353,121.5423,121.5435,121.55387,121.53874,121.53408,121.4963,121.53842,121.55063,121.53406,121.51649,121.52984,121.53863,121.51254,121.52981,121.53966,121.54348,121.53765,121.54026,121.55964,121.51243,121.50381,121.5431,121.53986,121.54067,121.5431],\"z\":[37.9,42.2,47.3,54.8,43.1,32.1,40.3,46.7,22.1,41.4,58.1,39.3,23.8,34.3,50.5,70.1,37.4,42.3,47.7,29.3,51.6,24.6,47.9,38.8,27.0,56.2,33.6,47.0,57.1,22.1,25.0,34.2,49.3,55.1,27.3,22.9,25.3,47.7,46.2,15.9,18.2,34.7,34.1,53.9,38.3,42.0,61.5,13.4,13.2,44.2,20.7,27.0,38.9,51.7,13.7,41.9,53.5,22.6,42.4,21.3,63.2,27.7,55.0,25.3,44.3,50.7,56.8,36.2,42.0,59.0,40.8,36.3,20.0,54.4,29.5,36.8,25.6,29.8,26.5,40.3,36.8,48.1,17.7,43.7,50.8,27.0,18.3,48.0,25.3,45.4,43.2,21.8,16.1,41.0,51.8,59.5,34.6,51.0,62.2,38.2,32.9,54.4,45.7,30.5,47.1,26.6,34.1,28.4,51.6,39.4,23.1,7.6,53.3,46.4,13.0,30.6,59.6,31.3,48.0,32.5,45.5,57.4,48.6,62.9,55.0,60.7,41.0,37.5,30.7,37.5,39.5,42.2,20.8,46.8,47.4,43.5,42.5,51.4,28.9,37.5,40.1,28.4,45.5,52.2,43.2,45.1,39.7,48.5,44.7,28.9,40.9,20.7,15.6,18.3,35.6,39.4,37.4,57.8,39.6,11.6,55.5,55.2,30.6,43.4,37.4,23.5,14.4,58.8,58.1,35.1,45.2,36.5,19.2,42.0,36.7,42.6,15.5,55.9,23.6,18.8,21.8,21.5,25.7,22.0,44.3,20.5,42.3,37.8,42.7,49.3,29.3,34.6,36.6,48.2,39.1,31.6,25.5,45.9,31.5,46.1,26.6,21.4,44.0,34.2,26.2,40.9,52.2,43.5,31.1,58.0,20.9,48.1,39.7,40.8,43.8,40.2,38.5,48.5,42.3,46.0,49.0,12.8,40.2,46.6,19.0,33.4,14.7,17.4,32.4,23.9,39.3,61.9,39.0,40.6,29.7,28.8,41.4,33.4,48.2,21.7,40.8,40.6,23.1,22.3,30.0,13.8,52.7,25.9,51.8,26.5,43.9,63.3,28.8,30.7,24.4,53.0,31.7,40.6,38.1,23.7,41.1,40.1,23.0,26.5,40.5,29.3,41.0,49.7,34.0,27.7,44.0,31.1,45.4,44.8,25.6,23.5,34.4,55.3,56.3,32.9,51.0,44.5,37.0,54.4,24.5,42.5,38.1,21.8,34.1,28.5,16.7,46.1,36.9,35.7,23.2,38.4,29.4,55.0,50.2,24.7,53.0,19.1,24.7,42.2,42.8,41.6,27.3,42.0,37.5,49.8,26.9,18.6,37.7,33.1,42.5,31.3,38.1,62.1,36.7,23.6,19.2,12.8,15.6,39.6,38.4,22.8,36.5,35.6,30.9,36.3,50.4,42.9,37.0,53.5,46.6,41.2,37.9,30.8,53.7,47.0,42.3,28.6,25.7,31.3,30.1,60.7,45.3,44.9,45.1,24.7,47.1,63.3,40.0,48.0,33.1,29.5,24.8,20.9,43.1,22.8,42.1,51.7,41.5,52.2,49.5,23.8,30.5,56.8,37.4,69.7,53.3,47.3,29.3,40.3,12.9,46.6,55.3,25.6,27.3,67.7,38.6,31.3,35.3,40.3,24.7,42.5,31.9,32.2,23.0,37.3,35.5,27.7,28.5,39.7,41.2,37.2,40.5,22.3,28.1,15.4,50.0,40.6,52.5,63.9],\"type\":\"scatter3d\"}],                        {\"template\":{\"data\":{\"histogram2dcontour\":[{\"type\":\"histogram2dcontour\",\"colorbar\":{\"outlinewidth\":0,\"ticks\":\"\"},\"colorscale\":[[0.0,\"#0d0887\"],[0.1111111111111111,\"#46039f\"],[0.2222222222222222,\"#7201a8\"],[0.3333333333333333,\"#9c179e\"],[0.4444444444444444,\"#bd3786\"],[0.5555555555555556,\"#d8576b\"],[0.6666666666666666,\"#ed7953\"],[0.7777777777777778,\"#fb9f3a\"],[0.8888888888888888,\"#fdca26\"],[1.0,\"#f0f921\"]]}],\"choropleth\":[{\"type\":\"choropleth\",\"colorbar\":{\"outlinewidth\":0,\"ticks\":\"\"}}],\"histogram2d\":[{\"type\":\"histogram2d\",\"colorbar\":{\"outlinewidth\":0,\"ticks\":\"\"},\"colorscale\":[[0.0,\"#0d0887\"],[0.1111111111111111,\"#46039f\"],[0.2222222222222222,\"#7201a8\"],[0.3333333333333333,\"#9c179e\"],[0.4444444444444444,\"#bd3786\"],[0.5555555555555556,\"#d8576b\"],[0.6666666666666666,\"#ed7953\"],[0.7777777777777778,\"#fb9f3a\"],[0.8888888888888888,\"#fdca26\"],[1.0,\"#f0f921\"]]}],\"heatmap\":[{\"type\":\"heatmap\",\"colorbar\":{\"outlinewidth\":0,\"ticks\":\"\"},\"colorscale\":[[0.0,\"#0d0887\"],[0.1111111111111111,\"#46039f\"],[0.2222222222222222,\"#7201a8\"],[0.3333333333333333,\"#9c179e\"],[0.4444444444444444,\"#bd3786\"],[0.5555555555555556,\"#d8576b\"],[0.6666666666666666,\"#ed7953\"],[0.7777777777777778,\"#fb9f3a\"],[0.8888888888888888,\"#fdca26\"],[1.0,\"#f0f921\"]]}],\"heatmapgl\":[{\"type\":\"heatmapgl\",\"colorbar\":{\"outlinewidth\":0,\"ticks\":\"\"},\"colorscale\":[[0.0,\"#0d0887\"],[0.1111111111111111,\"#46039f\"],[0.2222222222222222,\"#7201a8\"],[0.3333333333333333,\"#9c179e\"],[0.4444444444444444,\"#bd3786\"],[0.5555555555555556,\"#d8576b\"],[0.6666666666666666,\"#ed7953\"],[0.7777777777777778,\"#fb9f3a\"],[0.8888888888888888,\"#fdca26\"],[1.0,\"#f0f921\"]]}],\"contourcarpet\":[{\"type\":\"contourcarpet\",\"colorbar\":{\"outlinewidth\":0,\"ticks\":\"\"}}],\"contour\":[{\"type\":\"contour\",\"colorbar\":{\"outlinewidth\":0,\"ticks\":\"\"},\"colorscale\":[[0.0,\"#0d0887\"],[0.1111111111111111,\"#46039f\"],[0.2222222222222222,\"#7201a8\"],[0.3333333333333333,\"#9c179e\"],[0.4444444444444444,\"#bd3786\"],[0.5555555555555556,\"#d8576b\"],[0.6666666666666666,\"#ed7953\"],[0.7777777777777778,\"#fb9f3a\"],[0.8888888888888888,\"#fdca26\"],[1.0,\"#f0f921\"]]}],\"surface\":[{\"type\":\"surface\",\"colorbar\":{\"outlinewidth\":0,\"ticks\":\"\"},\"colorscale\":[[0.0,\"#0d0887\"],[0.1111111111111111,\"#46039f\"],[0.2222222222222222,\"#7201a8\"],[0.3333333333333333,\"#9c179e\"],[0.4444444444444444,\"#bd3786\"],[0.5555555555555556,\"#d8576b\"],[0.6666666666666666,\"#ed7953\"],[0.7777777777777778,\"#fb9f3a\"],[0.8888888888888888,\"#fdca26\"],[1.0,\"#f0f921\"]]}],\"mesh3d\":[{\"type\":\"mesh3d\",\"colorbar\":{\"outlinewidth\":0,\"ticks\":\"\"}}],\"scatter\":[{\"fillpattern\":{\"fillmode\":\"overlay\",\"size\":10,\"solidity\":0.2},\"type\":\"scatter\"}],\"parcoords\":[{\"type\":\"parcoords\",\"line\":{\"colorbar\":{\"outlinewidth\":0,\"ticks\":\"\"}}}],\"scatterpolargl\":[{\"type\":\"scatterpolargl\",\"marker\":{\"colorbar\":{\"outlinewidth\":0,\"ticks\":\"\"}}}],\"bar\":[{\"error_x\":{\"color\":\"#2a3f5f\"},\"error_y\":{\"color\":\"#2a3f5f\"},\"marker\":{\"line\":{\"color\":\"#E5ECF6\",\"width\":0.5},\"pattern\":{\"fillmode\":\"overlay\",\"size\":10,\"solidity\":0.2}},\"type\":\"bar\"}],\"scattergeo\":[{\"type\":\"scattergeo\",\"marker\":{\"colorbar\":{\"outlinewidth\":0,\"ticks\":\"\"}}}],\"scatterpolar\":[{\"type\":\"scatterpolar\",\"marker\":{\"colorbar\":{\"outlinewidth\":0,\"ticks\":\"\"}}}],\"histogram\":[{\"marker\":{\"pattern\":{\"fillmode\":\"overlay\",\"size\":10,\"solidity\":0.2}},\"type\":\"histogram\"}],\"scattergl\":[{\"type\":\"scattergl\",\"marker\":{\"colorbar\":{\"outlinewidth\":0,\"ticks\":\"\"}}}],\"scatter3d\":[{\"type\":\"scatter3d\",\"line\":{\"colorbar\":{\"outlinewidth\":0,\"ticks\":\"\"}},\"marker\":{\"colorbar\":{\"outlinewidth\":0,\"ticks\":\"\"}}}],\"scattermapbox\":[{\"type\":\"scattermapbox\",\"marker\":{\"colorbar\":{\"outlinewidth\":0,\"ticks\":\"\"}}}],\"scatterternary\":[{\"type\":\"scatterternary\",\"marker\":{\"colorbar\":{\"outlinewidth\":0,\"ticks\":\"\"}}}],\"scattercarpet\":[{\"type\":\"scattercarpet\",\"marker\":{\"colorbar\":{\"outlinewidth\":0,\"ticks\":\"\"}}}],\"carpet\":[{\"aaxis\":{\"endlinecolor\":\"#2a3f5f\",\"gridcolor\":\"white\",\"linecolor\":\"white\",\"minorgridcolor\":\"white\",\"startlinecolor\":\"#2a3f5f\"},\"baxis\":{\"endlinecolor\":\"#2a3f5f\",\"gridcolor\":\"white\",\"linecolor\":\"white\",\"minorgridcolor\":\"white\",\"startlinecolor\":\"#2a3f5f\"},\"type\":\"carpet\"}],\"table\":[{\"cells\":{\"fill\":{\"color\":\"#EBF0F8\"},\"line\":{\"color\":\"white\"}},\"header\":{\"fill\":{\"color\":\"#C8D4E3\"},\"line\":{\"color\":\"white\"}},\"type\":\"table\"}],\"barpolar\":[{\"marker\":{\"line\":{\"color\":\"#E5ECF6\",\"width\":0.5},\"pattern\":{\"fillmode\":\"overlay\",\"size\":10,\"solidity\":0.2}},\"type\":\"barpolar\"}],\"pie\":[{\"automargin\":true,\"type\":\"pie\"}]},\"layout\":{\"autotypenumbers\":\"strict\",\"colorway\":[\"#636efa\",\"#EF553B\",\"#00cc96\",\"#ab63fa\",\"#FFA15A\",\"#19d3f3\",\"#FF6692\",\"#B6E880\",\"#FF97FF\",\"#FECB52\"],\"font\":{\"color\":\"#2a3f5f\"},\"hovermode\":\"closest\",\"hoverlabel\":{\"align\":\"left\"},\"paper_bgcolor\":\"white\",\"plot_bgcolor\":\"#E5ECF6\",\"polar\":{\"bgcolor\":\"#E5ECF6\",\"angularaxis\":{\"gridcolor\":\"white\",\"linecolor\":\"white\",\"ticks\":\"\"},\"radialaxis\":{\"gridcolor\":\"white\",\"linecolor\":\"white\",\"ticks\":\"\"}},\"ternary\":{\"bgcolor\":\"#E5ECF6\",\"aaxis\":{\"gridcolor\":\"white\",\"linecolor\":\"white\",\"ticks\":\"\"},\"baxis\":{\"gridcolor\":\"white\",\"linecolor\":\"white\",\"ticks\":\"\"},\"caxis\":{\"gridcolor\":\"white\",\"linecolor\":\"white\",\"ticks\":\"\"}},\"coloraxis\":{\"colorbar\":{\"outlinewidth\":0,\"ticks\":\"\"}},\"colorscale\":{\"sequential\":[[0.0,\"#0d0887\"],[0.1111111111111111,\"#46039f\"],[0.2222222222222222,\"#7201a8\"],[0.3333333333333333,\"#9c179e\"],[0.4444444444444444,\"#bd3786\"],[0.5555555555555556,\"#d8576b\"],[0.6666666666666666,\"#ed7953\"],[0.7777777777777778,\"#fb9f3a\"],[0.8888888888888888,\"#fdca26\"],[1.0,\"#f0f921\"]],\"sequentialminus\":[[0.0,\"#0d0887\"],[0.1111111111111111,\"#46039f\"],[0.2222222222222222,\"#7201a8\"],[0.3333333333333333,\"#9c179e\"],[0.4444444444444444,\"#bd3786\"],[0.5555555555555556,\"#d8576b\"],[0.6666666666666666,\"#ed7953\"],[0.7777777777777778,\"#fb9f3a\"],[0.8888888888888888,\"#fdca26\"],[1.0,\"#f0f921\"]],\"diverging\":[[0,\"#8e0152\"],[0.1,\"#c51b7d\"],[0.2,\"#de77ae\"],[0.3,\"#f1b6da\"],[0.4,\"#fde0ef\"],[0.5,\"#f7f7f7\"],[0.6,\"#e6f5d0\"],[0.7,\"#b8e186\"],[0.8,\"#7fbc41\"],[0.9,\"#4d9221\"],[1,\"#276419\"]]},\"xaxis\":{\"gridcolor\":\"white\",\"linecolor\":\"white\",\"ticks\":\"\",\"title\":{\"standoff\":15},\"zerolinecolor\":\"white\",\"automargin\":true,\"zerolinewidth\":2},\"yaxis\":{\"gridcolor\":\"white\",\"linecolor\":\"white\",\"ticks\":\"\",\"title\":{\"standoff\":15},\"zerolinecolor\":\"white\",\"automargin\":true,\"zerolinewidth\":2},\"scene\":{\"xaxis\":{\"backgroundcolor\":\"#E5ECF6\",\"gridcolor\":\"white\",\"linecolor\":\"white\",\"showbackground\":true,\"ticks\":\"\",\"zerolinecolor\":\"white\",\"gridwidth\":2},\"yaxis\":{\"backgroundcolor\":\"#E5ECF6\",\"gridcolor\":\"white\",\"linecolor\":\"white\",\"showbackground\":true,\"ticks\":\"\",\"zerolinecolor\":\"white\",\"gridwidth\":2},\"zaxis\":{\"backgroundcolor\":\"#E5ECF6\",\"gridcolor\":\"white\",\"linecolor\":\"white\",\"showbackground\":true,\"ticks\":\"\",\"zerolinecolor\":\"white\",\"gridwidth\":2}},\"shapedefaults\":{\"line\":{\"color\":\"#2a3f5f\"}},\"annotationdefaults\":{\"arrowcolor\":\"#2a3f5f\",\"arrowhead\":0,\"arrowwidth\":1},\"geo\":{\"bgcolor\":\"white\",\"landcolor\":\"#E5ECF6\",\"subunitcolor\":\"white\",\"showland\":true,\"showlakes\":true,\"lakecolor\":\"white\"},\"title\":{\"x\":0.05},\"mapbox\":{\"style\":\"light\"}}},\"scene\":{\"domain\":{\"x\":[0.0,1.0],\"y\":[0.0,1.0]},\"xaxis\":{\"title\":{\"text\":\"latitude\"}},\"yaxis\":{\"title\":{\"text\":\"longitude\"}},\"zaxis\":{\"title\":{\"text\":\"price\"}}},\"legend\":{\"tracegroupgap\":0},\"margin\":{\"t\":60},\"height\":500,\"width\":600},                        {\"responsive\": true}                    ).then(function(){\n",
       "                            \n",
       "var gd = document.getElementById('26e4cec7-be92-49cc-a565-80f53d14f3c8');\n",
       "var x = new MutationObserver(function (mutations, observer) {{\n",
       "        var display = window.getComputedStyle(gd).display;\n",
       "        if (!display || display === 'none') {{\n",
       "            console.log([gd, 'removed!']);\n",
       "            Plotly.purge(gd);\n",
       "            observer.disconnect();\n",
       "        }}\n",
       "}});\n",
       "\n",
       "// Listen for the removal of the full notebook cells\n",
       "var notebookContainer = gd.closest('#notebook-container');\n",
       "if (notebookContainer) {{\n",
       "    x.observe(notebookContainer, {childList: true});\n",
       "}}\n",
       "\n",
       "// Listen for the clearing of the current output cell\n",
       "var outputEl = gd.closest('.output');\n",
       "if (outputEl) {{\n",
       "    x.observe(outputEl, {childList: true});\n",
       "}}\n",
       "\n",
       "                        })                };                });            </script>        </div>"
      ]
     },
     "metadata": {},
     "output_type": "display_data"
    }
   ],
   "source": [
    "# Create 3D scatter plot\n",
    "fig = px.scatter_3d(\n",
    "    data,\n",
    "    x= \"latitude\",\n",
    "    y= \"longitude\",\n",
    "    z= \"price_per_unit\",\n",
    "    labels={\"longitude\": \"longitude\", \"latitude\": \"latitude\", \"price_per_unit\": \"price\"},\n",
    "    width=600,\n",
    "    height=500,\n",
    ")\n",
    "\n",
    "# Refine formatting\n",
    "fig.update_traces(\n",
    "    marker={\"size\": 4, \"line\": {\"width\": 2, \"color\": \"DarkSlateGrey\"}},\n",
    "    selector={\"mode\": \"markers\"},\n",
    ")\n",
    "\n",
    "# Display figure\n",
    "fig.show()"
   ]
  },
  {
   "cell_type": "markdown",
   "id": "2c6018f2",
   "metadata": {},
   "source": [
    "## Price and Local Stores"
   ]
  },
  {
   "cell_type": "markdown",
   "id": "7a74a853",
   "metadata": {},
   "source": [
    "Lets Visualize price and the local stores features"
   ]
  },
  {
   "cell_type": "code",
   "execution_count": 645,
   "id": "c7538cf0",
   "metadata": {},
   "outputs": [
    {
     "data": {
      "image/png": "[encoded data removed]",
      "text/plain": [
       "<Figure size 640x480 with 1 Axes>"
      ]
     },
     "metadata": {},
     "output_type": "display_data"
    }
   ],
   "source": [
    "plt.scatter(x = data[\"local_convenience_stores\"], y = data[\"price_per_unit\"])\n",
    "plt.xlabel(\"Number of Stores\")\n",
    "plt.ylabel(\"Price per Unit\")\n",
    "plt.title(\"Price Vs. Local Stores\");"
   ]
  },
  {
   "cell_type": "markdown",
   "id": "adeab3bd",
   "metadata": {},
   "source": [
    "## Price and Transit Distance "
   ]
  },
  {
   "cell_type": "markdown",
   "id": "464fc4e0",
   "metadata": {},
   "source": [
    "Lets Visualize price per unit and the transit distance"
   ]
  },
  {
   "cell_type": "code",
   "execution_count": 646,
   "id": "c543b189",
   "metadata": {},
   "outputs": [
    {
     "data": {
      "image/png": "[encoded data removed]",
      "text/plain": [
       "<Figure size 640x480 with 1 Axes>"
      ]
     },
     "metadata": {},
     "output_type": "display_data"
    }
   ],
   "source": [
    "plt.scatter(x = data[\"transit_distance\"], y = data[\"price_per_unit\"])\n",
    "plt.xlabel(\"Transit Distance\")\n",
    "plt.ylabel(\"Price per Unit\")\n",
    "plt.title(\"Price Vs. Transit Distance\");"
   ]
  },
  {
   "cell_type": "markdown",
   "id": "e1b0b762",
   "metadata": {},
   "source": [
    "## Data Preprocessing"
   ]
  },
  {
   "cell_type": "code",
   "execution_count": 647,
   "id": "c76494ac",
   "metadata": {},
   "outputs": [
    {
     "data": {
      "text/html": [
       "<div>\n",
       "<style scoped>\n",
       "    .dataframe tbody tr th:only-of-type {\n",
       "        vertical-align: middle;\n",
       "    }\n",
       "\n",
       "    .dataframe tbody tr th {\n",
       "        vertical-align: top;\n",
       "    }\n",
       "\n",
       "    .dataframe thead th {\n",
       "        text-align: right;\n",
       "    }\n",
       "</style>\n",
       "<table border=\"1\" class=\"dataframe\">\n",
       "  <thead>\n",
       "    <tr style=\"text-align: right;\">\n",
       "      <th></th>\n",
       "      <th>house_age</th>\n",
       "      <th>transit_distance</th>\n",
       "      <th>local_convenience_stores</th>\n",
       "      <th>latitude</th>\n",
       "      <th>longitude</th>\n",
       "      <th>price_per_unit</th>\n",
       "    </tr>\n",
       "  </thead>\n",
       "  <tbody>\n",
       "    <tr>\n",
       "      <th>count</th>\n",
       "      <td>404.000000</td>\n",
       "      <td>404.000000</td>\n",
       "      <td>404.000000</td>\n",
       "      <td>404.000000</td>\n",
       "      <td>404.000000</td>\n",
       "      <td>404.000000</td>\n",
       "    </tr>\n",
       "    <tr>\n",
       "      <th>mean</th>\n",
       "      <td>17.624010</td>\n",
       "      <td>1032.600310</td>\n",
       "      <td>4.106436</td>\n",
       "      <td>24.969161</td>\n",
       "      <td>121.533940</td>\n",
       "      <td>37.700000</td>\n",
       "    </tr>\n",
       "    <tr>\n",
       "      <th>std</th>\n",
       "      <td>11.323341</td>\n",
       "      <td>1146.323406</td>\n",
       "      <td>2.934531</td>\n",
       "      <td>0.012383</td>\n",
       "      <td>0.014268</td>\n",
       "      <td>12.385315</td>\n",
       "    </tr>\n",
       "    <tr>\n",
       "      <th>min</th>\n",
       "      <td>0.000000</td>\n",
       "      <td>23.382840</td>\n",
       "      <td>0.000000</td>\n",
       "      <td>24.932070</td>\n",
       "      <td>121.495070</td>\n",
       "      <td>7.600000</td>\n",
       "    </tr>\n",
       "    <tr>\n",
       "      <th>25%</th>\n",
       "      <td>8.975000</td>\n",
       "      <td>289.324800</td>\n",
       "      <td>1.000000</td>\n",
       "      <td>24.963050</td>\n",
       "      <td>121.529728</td>\n",
       "      <td>28.000000</td>\n",
       "    </tr>\n",
       "    <tr>\n",
       "      <th>50%</th>\n",
       "      <td>16.050000</td>\n",
       "      <td>492.231300</td>\n",
       "      <td>4.000000</td>\n",
       "      <td>24.971100</td>\n",
       "      <td>121.538675</td>\n",
       "      <td>38.450000</td>\n",
       "    </tr>\n",
       "    <tr>\n",
       "      <th>75%</th>\n",
       "      <td>27.525000</td>\n",
       "      <td>1440.755750</td>\n",
       "      <td>6.000000</td>\n",
       "      <td>24.978200</td>\n",
       "      <td>121.543352</td>\n",
       "      <td>46.250000</td>\n",
       "    </tr>\n",
       "    <tr>\n",
       "      <th>max</th>\n",
       "      <td>43.800000</td>\n",
       "      <td>4605.749000</td>\n",
       "      <td>10.000000</td>\n",
       "      <td>25.014590</td>\n",
       "      <td>121.566270</td>\n",
       "      <td>70.100000</td>\n",
       "    </tr>\n",
       "  </tbody>\n",
       "</table>\n",
       "</div>"
      ],
      "text/plain": [
       "        house_age  transit_distance  local_convenience_stores    latitude  \\\n",
       "count  404.000000        404.000000                404.000000  404.000000   \n",
       "mean    17.624010       1032.600310                  4.106436   24.969161   \n",
       "std     11.323341       1146.323406                  2.934531    0.012383   \n",
       "min      0.000000         23.382840                  0.000000   24.932070   \n",
       "25%      8.975000        289.324800                  1.000000   24.963050   \n",
       "50%     16.050000        492.231300                  4.000000   24.971100   \n",
       "75%     27.525000       1440.755750                  6.000000   24.978200   \n",
       "max     43.800000       4605.749000                 10.000000   25.014590   \n",
       "\n",
       "        longitude  price_per_unit  \n",
       "count  404.000000      404.000000  \n",
       "mean   121.533940       37.700000  \n",
       "std      0.014268       12.385315  \n",
       "min    121.495070        7.600000  \n",
       "25%    121.529728       28.000000  \n",
       "50%    121.538675       38.450000  \n",
       "75%    121.543352       46.250000  \n",
       "max    121.566270       70.100000  "
      ]
     },
     "execution_count": 647,
     "metadata": {},
     "output_type": "execute_result"
    }
   ],
   "source": [
    "data.describe()"
   ]
  },
  {
   "cell_type": "code",
   "execution_count": 648,
   "id": "565b6a2e",
   "metadata": {},
   "outputs": [
    {
     "name": "stdout",
     "output_type": "stream",
     "text": [
      "<class 'pandas.core.frame.DataFrame'>\n",
      "Int64Index: 404 entries, 0 to 413\n",
      "Data columns (total 7 columns):\n",
      " #   Column                    Non-Null Count  Dtype  \n",
      "---  ------                    --------------  -----  \n",
      " 0   transactionDate           404 non-null    object \n",
      " 1   house_age                 404 non-null    float64\n",
      " 2   transit_distance          404 non-null    float64\n",
      " 3   local_convenience_stores  404 non-null    int64  \n",
      " 4   latitude                  404 non-null    float64\n",
      " 5   longitude                 404 non-null    float64\n",
      " 6   price_per_unit            404 non-null    float64\n",
      "dtypes: float64(5), int64(1), object(1)\n",
      "memory usage: 25.2+ KB\n"
     ]
    }
   ],
   "source": [
    "data.info()"
   ]
  },
  {
   "cell_type": "markdown",
   "id": "6f7f14ae",
   "metadata": {},
   "source": [
    "We see in our data that the features are not in similar scale. e.g the transit distance and local stores"
   ]
  },
  {
   "cell_type": "code",
   "execution_count": 649,
   "id": "e2fa03f1",
   "metadata": {},
   "outputs": [],
   "source": [
    "# Define preprocessing for numeric columns (scale them)\n",
    "numeric_features = [0, 1, 2, 3, 4]\n",
    "numeric_transformer = Pipeline(steps=[\n",
    "    ('scaler', StandardScaler())])\n",
    "\n",
    "\n",
    "# Create Preprocessor step\n",
    "preprocessor = ColumnTransformer(\n",
    "    transformers=[\n",
    "        (\"num\", numeric_transformer, numeric_features)\n",
    "    ])\n",
    "\n",
    "# Create Preprocessing and training pipeline\n",
    "pipeline = Pipeline(steps= [\n",
    "    (\"preprocessor\", preprocessor),\n",
    "    (\"regressor\", LinearRegression())\n",
    "     ])"
   ]
  },
  {
   "cell_type": "markdown",
   "id": "6a65922f",
   "metadata": {},
   "source": [
    "## Split Data "
   ]
  },
  {
   "cell_type": "markdown",
   "id": "e259fb70",
   "metadata": {},
   "source": [
    "Lets create the feature matrix \"X_train\" and target vector \"y_train\" which is \"price_per_unit\""
   ]
  },
  {
   "cell_type": "code",
   "execution_count": 650,
   "id": "fd0e99db",
   "metadata": {},
   "outputs": [],
   "source": [
    "target = \"price_per_unit\"\n",
    "features_location = [\"house_age\", \"transit_distance\", \"latitude\", \"longitude\", \"local_convenience_stores\"]\n",
    "X = data[features_location]\n",
    "y = data[target]"
   ]
  },
  {
   "cell_type": "code",
   "execution_count": 651,
   "id": "d7c5ca58",
   "metadata": {},
   "outputs": [
    {
     "name": "stdout",
     "output_type": "stream",
     "text": [
      "Training Set: 282 rows\n",
      "Test Set: 122 rows\n"
     ]
    }
   ],
   "source": [
    "# Split data into train and tests\n",
    "X_train, X_test, y_train, y_test = train_test_split(X, y, train_size=0.7, random_state= 0)\n",
    "print ('Training Set: %d rows\\nTest Set: %d rows' % (X_train.shape[0], X_test.shape[0]))"
   ]
  },
  {
   "cell_type": "markdown",
   "id": "08172b87",
   "metadata": {},
   "source": [
    "## Build Models"
   ]
  },
  {
   "cell_type": "markdown",
   "id": "ea1f005a",
   "metadata": {},
   "source": [
    "Let's try a couple of models to determine the optimal model. We start with Linear Regression:"
   ]
  },
  {
   "cell_type": "markdown",
   "id": "6f2fcc1b",
   "metadata": {},
   "source": [
    "### Linear Regression "
   ]
  },
  {
   "cell_type": "code",
   "execution_count": 652,
   "id": "ec3f9083",
   "metadata": {},
   "outputs": [
    {
     "data": {
      "text/plain": [
       "Pipeline(steps=[('preprocessor',\n",
       "                 ColumnTransformer(transformers=[('num',\n",
       "                                                  Pipeline(steps=[('scaler',\n",
       "                                                                   StandardScaler())]),\n",
       "                                                  [0, 1, 2, 3, 4])])),\n",
       "                ('regressor', LinearRegression())])"
      ]
     },
     "execution_count": 652,
     "metadata": {},
     "output_type": "execute_result"
    }
   ],
   "source": [
    "# Train the model\n",
    "model = Pipeline(steps= [\n",
    "    (\"preprocessor\", preprocessor),\n",
    "    (\"regressor\", LinearRegression())\n",
    "     ])\n",
    "\n",
    "model.fit(X_train, y_train)"
   ]
  },
  {
   "cell_type": "code",
   "execution_count": 653,
   "id": "c7c6bc4e",
   "metadata": {},
   "outputs": [
    {
     "name": "stdout",
     "output_type": "stream",
     "text": [
      "Predicted Lables:  [51.14516814 44.92708594 47.76744229 44.52988892 42.74705781 45.46279806\n",
      " 44.43200293 44.1036652  40.1166659  44.35161591]\n",
      "Actual Lables:  410    50.0\n",
      "243    48.2\n",
      "61     63.2\n",
      "235    39.3\n",
      "137    47.4\n",
      "305    55.0\n",
      "316    42.0\n",
      "268    40.1\n",
      "311    42.2\n",
      "103    45.7\n",
      "Name: price_per_unit, dtype: float64\n"
     ]
    }
   ],
   "source": [
    "# Evaluate the model\n",
    "predictions = model.predict(X_test)\n",
    "print(\"Predicted Lables: \", predictions[:10])\n",
    "print(\"Actual Lables: \", y_test[:10])"
   ]
  },
  {
   "cell_type": "markdown",
   "id": "18f06025",
   "metadata": {},
   "source": [
    "## Evaluate Models "
   ]
  },
  {
   "cell_type": "markdown",
   "id": "84916047",
   "metadata": {},
   "source": [
    "To better compare the predicted and actual values, lets visualize the points with a scatter plot"
   ]
  },
  {
   "cell_type": "code",
   "execution_count": 654,
   "id": "55d1ca0f",
   "metadata": {},
   "outputs": [
    {
     "data": {
      "image/png": "[encoded data removed]",
      "text/plain": [
       "<Figure size 640x480 with 1 Axes>"
      ]
     },
     "metadata": {},
     "output_type": "display_data"
    }
   ],
   "source": [
    "# Creating a scatter plot \n",
    "plt.scatter(y_test, predictions)\n",
    "plt.xlabel('Actual Labels')\n",
    "plt.ylabel('Predicted Labels')\n",
    "plt.title('Real Estate Price Predictions (Linear)')\n",
    "# overlay the regression line\n",
    "z = np.polyfit(y_test, predictions, 1)\n",
    "p = np.poly1d(z)\n",
    "plt.plot(y_test,p(y_test), color='magenta')\n",
    "plt.show()"
   ]
  },
  {
   "cell_type": "code",
   "execution_count": 655,
   "id": "e6e8407a",
   "metadata": {},
   "outputs": [
    {
     "name": "stdout",
     "output_type": "stream",
     "text": [
      "MSE: 51.57183338793226\n",
      "RMSE: 7.181353172483043\n",
      "R2: 0.609168074414183\n"
     ]
    }
   ],
   "source": [
    "mse = mean_squared_error(y_test, predictions)\n",
    "print(\"MSE:\", mse)\n",
    "\n",
    "rmse = np.sqrt(mse)\n",
    "print(\"RMSE:\", rmse)\n",
    "\n",
    "r2 = r2_score(y_test, predictions)\n",
    "print(\"R2:\", r2)"
   ]
  },
  {
   "cell_type": "markdown",
   "id": "a62b6bf0",
   "metadata": {},
   "source": [
    "The RMSE is at 7.18 which is still above our target of 7. Lets try another type of linear regression model"
   ]
  },
  {
   "cell_type": "markdown",
   "id": "ccb6c9ea",
   "metadata": {},
   "source": [
    "### Lasso algorithm"
   ]
  },
  {
   "cell_type": "code",
   "execution_count": 656,
   "id": "0f52e70f",
   "metadata": {},
   "outputs": [
    {
     "name": "stdout",
     "output_type": "stream",
     "text": [
      "Pipeline(steps=[('preprocessor',\n",
      "                 ColumnTransformer(transformers=[('num',\n",
      "                                                  Pipeline(steps=[('scaler',\n",
      "                                                                   StandardScaler())]),\n",
      "                                                  [0, 1, 2, 3, 4])])),\n",
      "                ('regressor', Lasso())])\n"
     ]
    }
   ],
   "source": [
    "# Train the model\n",
    "model_lasso = Pipeline(steps= [\n",
    "    (\"preprocessor\", preprocessor),\n",
    "    (\"regressor\", Lasso())\n",
    "     ])\n",
    "\n",
    "model_lasso.fit(X_train, y_train)\n",
    "print(model_lasso)"
   ]
  },
  {
   "cell_type": "code",
   "execution_count": 657,
   "id": "575e44c6",
   "metadata": {},
   "outputs": [
    {
     "name": "stdout",
     "output_type": "stream",
     "text": [
      "Predicted Lables:  [48.53418543 44.69868201 45.65853373 43.43151591 41.97892115 44.27704304\n",
      " 43.37092802 43.16931232 40.07091521 42.75689752]\n",
      "Actual Lables:  410    50.0\n",
      "243    48.2\n",
      "61     63.2\n",
      "235    39.3\n",
      "137    47.4\n",
      "305    55.0\n",
      "316    42.0\n",
      "268    40.1\n",
      "311    42.2\n",
      "103    45.7\n",
      "Name: price_per_unit, dtype: float64\n"
     ]
    }
   ],
   "source": [
    "# Evaluate the model\n",
    "predictions_lasso = model_lasso.predict(X_test)\n",
    "print(\"Predicted Lables: \", predictions_lasso[:10])\n",
    "print(\"Actual Lables: \", y_test[:10])"
   ]
  },
  {
   "cell_type": "code",
   "execution_count": 658,
   "id": "a41e548c",
   "metadata": {},
   "outputs": [
    {
     "data": {
      "image/png": "[encoded data removed]",
      "text/plain": [
       "<Figure size 640x480 with 1 Axes>"
      ]
     },
     "metadata": {},
     "output_type": "display_data"
    }
   ],
   "source": [
    "# Creating a scatter plot \n",
    "plt.scatter(y_test, predictions_lasso)\n",
    "plt.xlabel('Actual Labels')\n",
    "plt.ylabel('Predicted Labels')\n",
    "plt.title('Real Estate Price Predictions (Lasso)')\n",
    "# overlay the regression line\n",
    "z = np.polyfit(y_test, predictions_lasso, 1)\n",
    "p = np.poly1d(z)\n",
    "plt.plot(y_test,p(y_test), color='magenta')\n",
    "plt.show()"
   ]
  },
  {
   "cell_type": "code",
   "execution_count": 659,
   "id": "e869e13c",
   "metadata": {},
   "outputs": [
    {
     "name": "stdout",
     "output_type": "stream",
     "text": [
      "MSE: 55.26871325714076\n",
      "RMSE: 7.4342930569853625\n",
      "R2: 0.5811516440679176\n"
     ]
    }
   ],
   "source": [
    "mse = mean_squared_error(y_test, predictions_lasso)\n",
    "print(\"MSE:\", mse)\n",
    "\n",
    "rmse = np.sqrt(mse)\n",
    "print(\"RMSE:\", rmse)\n",
    "\n",
    "r2 = r2_score(y_test, predictions_lasso)\n",
    "print(\"R2:\", r2)"
   ]
  },
  {
   "cell_type": "markdown",
   "id": "a2154c9a",
   "metadata": {},
   "source": [
    "The Linear regression model performed better than the Lasso. Can we try out more algorithms?"
   ]
  },
  {
   "cell_type": "markdown",
   "id": "7f517b80",
   "metadata": {},
   "source": [
    "### Decision Tree"
   ]
  },
  {
   "cell_type": "code",
   "execution_count": 660,
   "id": "d543c2f0",
   "metadata": {},
   "outputs": [
    {
     "name": "stdout",
     "output_type": "stream",
     "text": [
      "Pipeline(steps=[('preprocessor',\n",
      "                 ColumnTransformer(transformers=[('num',\n",
      "                                                  Pipeline(steps=[('scaler',\n",
      "                                                                   StandardScaler())]),\n",
      "                                                  [0, 1, 2, 3, 4])])),\n",
      "                ('regressor', DecisionTreeRegressor())]) \n",
      "\n"
     ]
    }
   ],
   "source": [
    "# Train the model\n",
    "model_DT = Pipeline(steps= [\n",
    "    (\"preprocessor\", preprocessor),\n",
    "    (\"regressor\", DecisionTreeRegressor())\n",
    "     ])\n",
    "\n",
    "model_DT.fit(X_train, y_train)\n",
    "print(model_DT, \"\\n\")\n",
    "\n",
    "# Visualize the model tree\n",
    "# tree = export_text(model_DT)\n",
    "# print(tree)"
   ]
  },
  {
   "cell_type": "code",
   "execution_count": 661,
   "id": "33270380",
   "metadata": {},
   "outputs": [
    {
     "name": "stdout",
     "output_type": "stream",
     "text": [
      "Predicted Lables:  [48.53418543 44.69868201 45.65853373 43.43151591 41.97892115 44.27704304\n",
      " 43.37092802 43.16931232 40.07091521 42.75689752]\n",
      "Actual Lables:  410    50.0\n",
      "243    48.2\n",
      "61     63.2\n",
      "235    39.3\n",
      "137    47.4\n",
      "305    55.0\n",
      "316    42.0\n",
      "268    40.1\n",
      "311    42.2\n",
      "103    45.7\n",
      "Name: price_per_unit, dtype: float64\n"
     ]
    }
   ],
   "source": [
    "# Evaluate the model\n",
    "predictions_DT = model_DT.predict(X_test)\n",
    "print(\"Predicted Lables: \", predictions_lasso[:10])\n",
    "print(\"Actual Lables: \", y_test[:10])"
   ]
  },
  {
   "cell_type": "code",
   "execution_count": 662,
   "id": "4bacc1f2",
   "metadata": {},
   "outputs": [
    {
     "data": {
      "image/png": "[encoded data removed]",
      "text/plain": [
       "<Figure size 640x480 with 1 Axes>"
      ]
     },
     "metadata": {},
     "output_type": "display_data"
    }
   ],
   "source": [
    "# Creating a scatter plot \n",
    "plt.scatter(y_test, predictions_DT)\n",
    "plt.xlabel('Actual Labels')\n",
    "plt.ylabel('Predicted Labels')\n",
    "plt.title('Real Estate Price Predictions (Decision Tree)')\n",
    "# overlay the regression line\n",
    "z = np.polyfit(y_test, predictions_DT, 1)\n",
    "p = np.poly1d(z)\n",
    "plt.plot(y_test,p(y_test), color='magenta')\n",
    "plt.show()"
   ]
  },
  {
   "cell_type": "code",
   "execution_count": 663,
   "id": "9093984b",
   "metadata": {},
   "outputs": [
    {
     "name": "stdout",
     "output_type": "stream",
     "text": [
      "MSE: 54.534446721311475\n",
      "RMSE: 7.384744187939855\n",
      "R2: 0.5867162087777411\n"
     ]
    }
   ],
   "source": [
    "mse = mean_squared_error(y_test, predictions_DT)\n",
    "print(\"MSE:\", mse)\n",
    "\n",
    "rmse = np.sqrt(mse)\n",
    "print(\"RMSE:\", rmse)\n",
    "\n",
    "r2 = r2_score(y_test, predictions_DT)\n",
    "print(\"R2:\", r2)"
   ]
  },
  {
   "cell_type": "markdown",
   "id": "345d22dd",
   "metadata": {},
   "source": [
    "The Decision tree seem to perform worse than the Linear Regression but better than lasso. Lets try an esemble algorithm (bagging) that works on base model (trees) to produce an optimized model"
   ]
  },
  {
   "cell_type": "markdown",
   "id": "c4c4eea6",
   "metadata": {},
   "source": [
    "### Random Forest"
   ]
  },
  {
   "cell_type": "code",
   "execution_count": 664,
   "id": "e0617dd8",
   "metadata": {},
   "outputs": [
    {
     "name": "stdout",
     "output_type": "stream",
     "text": [
      "Pipeline(steps=[('preprocessor',\n",
      "                 ColumnTransformer(transformers=[('num',\n",
      "                                                  Pipeline(steps=[('scaler',\n",
      "                                                                   StandardScaler())]),\n",
      "                                                  [0, 1, 2, 3, 4])])),\n",
      "                ('regressor', RandomForestRegressor())]) \n",
      "\n"
     ]
    }
   ],
   "source": [
    "# Train the model\n",
    "model_RF = Pipeline(steps= [\n",
    "    (\"preprocessor\", preprocessor),\n",
    "    (\"regressor\", RandomForestRegressor())\n",
    "     ])\n",
    "\n",
    "model_RF.fit(X_train, y_train)\n",
    "print(model_RF, \"\\n\")"
   ]
  },
  {
   "cell_type": "code",
   "execution_count": 665,
   "id": "277925c5",
   "metadata": {},
   "outputs": [
    {
     "name": "stdout",
     "output_type": "stream",
     "text": [
      "Predicted Lables:  [54.0186     40.94       54.5506     42.7605     45.40375    49.1018\n",
      " 42.1395     42.184      43.254      46.48823333]\n",
      "Actual Lables:  410    50.0\n",
      "243    48.2\n",
      "61     63.2\n",
      "235    39.3\n",
      "137    47.4\n",
      "305    55.0\n",
      "316    42.0\n",
      "268    40.1\n",
      "311    42.2\n",
      "103    45.7\n",
      "Name: price_per_unit, dtype: float64\n"
     ]
    }
   ],
   "source": [
    "# Evaluate the model\n",
    "predictions_RF = model_RF.predict(X_test)\n",
    "print(\"Predicted Lables: \", predictions_RF[:10])\n",
    "print(\"Actual Lables: \", y_test[:10])"
   ]
  },
  {
   "cell_type": "code",
   "execution_count": 666,
   "id": "7258eb3b",
   "metadata": {},
   "outputs": [
    {
     "data": {
      "image/png": "[encoded data removed]",
      "text/plain": [
       "<Figure size 640x480 with 1 Axes>"
      ]
     },
     "metadata": {},
     "output_type": "display_data"
    }
   ],
   "source": [
    "# Creating a scatter plot \n",
    "plt.scatter(y_test, predictions_RF)\n",
    "plt.xlabel('Actual Labels')\n",
    "plt.ylabel('Predicted Labels')\n",
    "plt.title('Real Estate Price Predictions (Random Forest)')\n",
    "# overlay the regression line\n",
    "z = np.polyfit(y_test, predictions_RF, 1)\n",
    "p = np.poly1d(z)\n",
    "plt.plot(y_test,p(y_test), color='magenta')\n",
    "plt.show()"
   ]
  },
  {
   "cell_type": "code",
   "execution_count": 667,
   "id": "c5ac1d3f",
   "metadata": {},
   "outputs": [
    {
     "name": "stdout",
     "output_type": "stream",
     "text": [
      "MSE: 33.95056386934179\n",
      "RMSE: 5.826711239570895\n",
      "R2: 0.7427090840077823\n"
     ]
    }
   ],
   "source": [
    "mse = mean_squared_error(y_test, predictions_RF)\n",
    "print(\"MSE:\", mse)\n",
    "\n",
    "rmse = np.sqrt(mse)\n",
    "print(\"RMSE:\", rmse)\n",
    "\n",
    "r2 = r2_score(y_test, predictions_RF)\n",
    "print(\"R2:\", r2)"
   ]
  },
  {
   "cell_type": "markdown",
   "id": "0e19d1fd",
   "metadata": {},
   "source": [
    "The Random Forest performed better than all previous models with a better R-squared value as well as lower RMSE (5.86) which is really lower than our target RMSE. Let's try another ensemble algorithm (boosting)"
   ]
  },
  {
   "cell_type": "markdown",
   "id": "a3bd9abc",
   "metadata": {},
   "source": [
    "### Gradient Boosting "
   ]
  },
  {
   "cell_type": "code",
   "execution_count": 668,
   "id": "d50d6294",
   "metadata": {},
   "outputs": [
    {
     "name": "stdout",
     "output_type": "stream",
     "text": [
      "Pipeline(steps=[('preprocessor',\n",
      "                 ColumnTransformer(transformers=[('num',\n",
      "                                                  Pipeline(steps=[('scaler',\n",
      "                                                                   StandardScaler())]),\n",
      "                                                  [0, 1, 2, 3, 4])])),\n",
      "                ('regressor', GradientBoostingRegressor())]) \n",
      "\n"
     ]
    }
   ],
   "source": [
    "# Train the model\n",
    "model_GB = Pipeline(steps= [\n",
    "    (\"preprocessor\", preprocessor),\n",
    "    (\"regressor\", GradientBoostingRegressor())\n",
    "     ])\n",
    "\n",
    "model_GB.fit(X_train, y_train)\n",
    "print(model_GB, \"\\n\")"
   ]
  },
  {
   "cell_type": "code",
   "execution_count": 669,
   "id": "154da5c8",
   "metadata": {},
   "outputs": [
    {
     "name": "stdout",
     "output_type": "stream",
     "text": [
      "Predicted Lables:  [56.10775544 41.43057609 53.3166352  45.87646432 46.77636179 48.9993081\n",
      " 45.87646432 42.09038018 40.31435782 46.08957936]\n",
      "Actual Lables:  410    50.0\n",
      "243    48.2\n",
      "61     63.2\n",
      "235    39.3\n",
      "137    47.4\n",
      "305    55.0\n",
      "316    42.0\n",
      "268    40.1\n",
      "311    42.2\n",
      "103    45.7\n",
      "Name: price_per_unit, dtype: float64\n"
     ]
    }
   ],
   "source": [
    "# Evaluate the model\n",
    "predictions_GB = model_GB.predict(X_test)\n",
    "print(\"Predicted Lables: \", predictions_GB[:10])\n",
    "print(\"Actual Lables: \", y_test[:10])"
   ]
  },
  {
   "cell_type": "code",
   "execution_count": 670,
   "id": "3e3f204f",
   "metadata": {},
   "outputs": [
    {
     "data": {
      "image/png": "[encoded data removed]",
      "text/plain": [
       "<Figure size 640x480 with 1 Axes>"
      ]
     },
     "metadata": {},
     "output_type": "display_data"
    }
   ],
   "source": [
    "# Creating a scatter plot \n",
    "plt.scatter(y_test, predictions_GB)\n",
    "plt.xlabel('Actual Labels')\n",
    "plt.ylabel('Predicted Labels')\n",
    "plt.title('Real Estate Price Predictions (Gradient Boosting)')\n",
    "# overlay the regression line\n",
    "z = np.polyfit(y_test, predictions_GB, 1)\n",
    "p = np.poly1d(z)\n",
    "plt.plot(y_test,p(y_test), color='magenta')\n",
    "plt.show()"
   ]
  },
  {
   "cell_type": "code",
   "execution_count": 671,
   "id": "a792feeb",
   "metadata": {},
   "outputs": [
    {
     "name": "stdout",
     "output_type": "stream",
     "text": [
      "MSE: 32.29933715102162\n",
      "RMSE: 5.683250579643802\n",
      "R2: 0.755222738758921\n"
     ]
    }
   ],
   "source": [
    "mse = mean_squared_error(y_test, predictions_GB)\n",
    "print(\"MSE:\", mse)\n",
    "\n",
    "rmse = np.sqrt(mse)\n",
    "print(\"RMSE:\", rmse)\n",
    "\n",
    "r2 = r2_score(y_test, predictions_GB)\n",
    "print(\"R2:\", r2)"
   ]
  },
  {
   "cell_type": "markdown",
   "id": "a6338a2d",
   "metadata": {},
   "source": [
    "The gradient boosting perfomed better than all previous algorithms with an impressive RMSE 5.69 and R2 of 0.75. So, can we improve the ensemble algorithms score by tuning hyperparameters?"
   ]
  },
  {
   "cell_type": "code",
   "execution_count": 672,
   "id": "a3dd9333",
   "metadata": {},
   "outputs": [
    {
     "data": {
      "text/plain": [
       "Pipeline(steps=[('preprocessor',\n",
       "                 ColumnTransformer(transformers=[('num',\n",
       "                                                  Pipeline(steps=[('scaler',\n",
       "                                                                   StandardScaler())]),\n",
       "                                                  [0, 1, 2, 3, 4])]))])"
      ]
     },
     "execution_count": 672,
     "metadata": {},
     "output_type": "execute_result"
    }
   ],
   "source": [
    "model_tuning = Pipeline(steps= [\n",
    "    (\"preprocessor\", preprocessor)\n",
    "     ])\n",
    "\n",
    "model_tuning.fit(X_train, y_train)"
   ]
  },
  {
   "cell_type": "code",
   "execution_count": 673,
   "id": "1b0b18d2",
   "metadata": {},
   "outputs": [],
   "source": [
    "X_train_tuning = StandardScaler().fit_transform(X_train)\n",
    "                                                \n",
    "X_test_tuning = StandardScaler().fit_transform(X_test)"
   ]
  },
  {
   "cell_type": "code",
   "execution_count": 674,
   "id": "cf2a7b34",
   "metadata": {},
   "outputs": [
    {
     "name": "stdout",
     "output_type": "stream",
     "text": [
      "Best parameter combination: {'learning_rate': 0.15, 'n_estimators': 50} \n",
      "\n",
      "GradientBoostingRegressor(learning_rate=0.15, n_estimators=50) \n",
      "\n",
      "MSE: 38.30271665970506\n",
      "RMSE: 6.1889188603265\n",
      "R2: 0.7097267340745068\n"
     ]
    },
    {
     "data": {
      "text/plain": [
       "[<matplotlib.lines.Line2D at 0x21590747610>]"
      ]
     },
     "execution_count": 674,
     "metadata": {},
     "output_type": "execute_result"
    },
    {
     "data": {
      "image/png": "[encoded data removed]",
      "text/plain": [
       "<Figure size 640x480 with 1 Axes>"
      ]
     },
     "metadata": {},
     "output_type": "display_data"
    }
   ],
   "source": [
    "# Optimize HyperParameters\n",
    "\n",
    "# Use a Gradient Boosting algorithm\n",
    "alg = GradientBoostingRegressor()\n",
    "\n",
    "\n",
    "# Try these hyperparameter values\n",
    "params = {\n",
    " 'learning_rate': [0.1, 0.15, 0.5, 1.0],\n",
    " 'n_estimators' : [50, 100, 150, 200]\n",
    " }\n",
    "\n",
    "# Find the best hyperparameter combination to optimize the R2 metric\n",
    "score = make_scorer(r2_score)\n",
    "gridsearch = GridSearchCV(alg, params, scoring=score, cv=3, return_train_score=True)\n",
    "gridsearch.fit(X_train_tuning, y_train)\n",
    "print(\"Best parameter combination:\", gridsearch.best_params_, \"\\n\")\n",
    "\n",
    "# Get the best model\n",
    "model_optimal_gb=gridsearch.best_estimator_\n",
    "print(model_optimal_gb, \"\\n\")\n",
    "\n",
    "# Evaluate the model using the test data\n",
    "predictions_optimal_gb = model_optimal_gb.predict(X_test_tuning)\n",
    "mse = mean_squared_error(y_test, predictions_optimal_gb)\n",
    "print(\"MSE:\", mse)\n",
    "rmse = np.sqrt(mse)\n",
    "print(\"RMSE:\", rmse)\n",
    "r2 = r2_score(y_test, predictions_optimal_gb)\n",
    "print(\"R2:\", r2)\n",
    "\n",
    "# Plot predicted vs actual\n",
    "plt.scatter(y_test, predictions_optimal_gb)\n",
    "plt.xlabel('Actual Labels')\n",
    "plt.ylabel('Predicted Labels')\n",
    "plt.title('Real Estate Price Predictions (Gradient Boosting_tuning)')\n",
    "# overlay the regression line\n",
    "z = np.polyfit(y_test, predictions_optimal_gb, 1)\n",
    "p = np.poly1d(z)\n",
    "plt.plot(y_test,p(y_test), color='magenta')"
   ]
  },
  {
   "cell_type": "code",
   "execution_count": 675,
   "id": "672ed437",
   "metadata": {},
   "outputs": [
    {
     "name": "stdout",
     "output_type": "stream",
     "text": [
      "Fitting 5 folds for each of 100 candidates, totalling 500 fits\n",
      "Best parameter combination: {'n_estimators': 100, 'min_samples_split': 2, 'min_samples_leaf': 1, 'max_features': 'sqrt', 'max_depth': 120, 'bootstrap': True} \n",
      "\n",
      "RandomForestRegressor(max_depth=120, max_features='sqrt') \n",
      "\n",
      "MSE: 34.314317602060285\n",
      "RMSE: 5.857842401606609\n",
      "R2: 0.7399524131186946\n"
     ]
    },
    {
     "data": {
      "text/plain": [
       "[<matplotlib.lines.Line2D at 0x2158f26b190>]"
      ]
     },
     "execution_count": 675,
     "metadata": {},
     "output_type": "execute_result"
    },
    {
     "data": {
      "image/png": "[encoded data removed]",
      "text/plain": [
       "<Figure size 640x480 with 1 Axes>"
      ]
     },
     "metadata": {},
     "output_type": "display_data"
    }
   ],
   "source": [
    "# Optimize HyperParameters\n",
    "\n",
    "# Use a RandomForest algorithm\n",
    "alg = RandomForestRegressor()\n",
    "\n",
    "# Try these hyperparameter values\n",
    "\n",
    "n_estimators = [5,20,50,100] # number of trees in the random forest\n",
    "max_features = ['auto', 'sqrt'] # number of features in consideration at every split\n",
    "max_depth = [int(x) for x in np.linspace(10, 120, num = 12)] # maximum number of levels allowed in each decision tree\n",
    "min_samples_split = [2, 6, 10] # minimum sample number to split a node\n",
    "min_samples_leaf = [1, 3, 4] # minimum sample number that can be stored in a leaf node\n",
    "bootstrap = [True, False] # method used to sample data points\n",
    "\n",
    "# Find the best hyperparameter combination to optimize the R2 metric\n",
    "random_grid = {'n_estimators': n_estimators,\n",
    "               'max_features': max_features,\n",
    "               'max_depth': max_depth,\n",
    "               'min_samples_split': min_samples_split,\n",
    "               'min_samples_leaf': min_samples_leaf,\n",
    "               'bootstrap': bootstrap}\n",
    "\n",
    "rf_random = RandomizedSearchCV(estimator = alg,\n",
    "                               param_distributions = random_grid,\n",
    "                               n_iter = 100, \n",
    "                               cv = 5, \n",
    "                               verbose=2, \n",
    "                               random_state=35, \n",
    "                               n_jobs = -1)\n",
    "\n",
    "rf_random.fit(X_train_tuning, y_train)\n",
    "\n",
    "print(\"Best parameter combination:\", rf_random.best_params_, \"\\n\")\n",
    "\n",
    "# Get the best model\n",
    "model_optimal_rf = rf_random.best_estimator_\n",
    "print(model_optimal_rf, \"\\n\")\n",
    "\n",
    "# Evaluate the model using the test data\n",
    "predictions_optimal_rf = model_optimal_rf.predict(X_test_tuning)\n",
    "mse = mean_squared_error(y_test, predictions_optimal_rf)\n",
    "print(\"MSE:\", mse)\n",
    "rmse = np.sqrt(mse)\n",
    "print(\"RMSE:\", rmse)\n",
    "r2 = r2_score(y_test, predictions_optimal_rf)\n",
    "print(\"R2:\", r2)\n",
    "\n",
    "# Plot predicted vs actual\n",
    "plt.scatter(y_test, predictions_optimal_rf)\n",
    "plt.xlabel('Actual Labels')\n",
    "plt.ylabel('Predicted Labels')\n",
    "plt.title('Real Estate Price Predictions (Random Forest_tuning)')\n",
    "# overlay the regression line\n",
    "z = np.polyfit(y_test, predictions_optimal_rf, 1)\n",
    "p = np.poly1d(z)\n",
    "plt.plot(y_test,p(y_test), color='magenta')"
   ]
  },
  {
   "cell_type": "markdown",
   "id": "80066524",
   "metadata": {},
   "source": [
    "With a RMSE of 5.69 and R-Squared of 0.75, the Gradient Boost model produces the best model."
   ]
  },
  {
   "cell_type": "markdown",
   "id": "21b2075a",
   "metadata": {},
   "source": [
    "## Save Job"
   ]
  },
  {
   "cell_type": "code",
   "execution_count": 676,
   "id": "057b3446",
   "metadata": {},
   "outputs": [
    {
     "data": {
      "text/plain": [
       "['./rentals.pkl']"
      ]
     },
     "execution_count": 676,
     "metadata": {},
     "output_type": "execute_result"
    }
   ],
   "source": [
    "# Save the model as a pickle file\n",
    "filename = './rentals.pkl'\n",
    "joblib.dump(model_GB, filename)"
   ]
  },
  {
   "cell_type": "code",
   "execution_count": 677,
   "id": "a47a1330",
   "metadata": {},
   "outputs": [
    {
     "name": "stdout",
     "output_type": "stream",
     "text": [
      "New sample: [16.2, 289.3248, 5.0, 24.98203, 121.54348]\n",
      "Prediction: 40 rentals\n"
     ]
    }
   ],
   "source": [
    "# Load the model from the file\n",
    "loaded_model = joblib.load(filename)\n",
    "\n",
    "# Create a numpy array containing a new observation (for example tomorrow's seasonal and weather forecast information)\n",
    "X_new = np.array([[16.2,289.3248,5,24.98203,121.54348],\n",
    "                  [13.6,4082.015,0,24.94155,121.5038]])\n",
    "\n",
    "print ('New sample: {}'.format(list(X_new[0])))\n",
    "\n",
    "# Use the model to predict tomorrow's rentals\n",
    "result = loaded_model.predict(X_new)\n",
    "print('Prediction: {:.0f} rentals'.format(np.round(result[0])))"
   ]
  },
  {
   "cell_type": "markdown",
   "id": "2bfef0f0",
   "metadata": {},
   "source": [
    "OR BUILD A FUNCTION TO MAKE PREDICTION"
   ]
  },
  {
   "cell_type": "code",
   "execution_count": 678,
   "id": "3b2f7aa0",
   "metadata": {},
   "outputs": [],
   "source": [
    "def make_prediction(transaction_date, house_age, transit_distance, local_convenience_stores, latitude, longitude):\n",
    "    \n",
    "    data = {\n",
    "        \"transaction_date\": transaction_date,\n",
    "        \"house_age\": house_age,\n",
    "        \"transit_distance\": transit_distance,\n",
    "        \"local_convenience_stores\": local_convenience_stores,\n",
    "        \"latitude\": latitude,\n",
    "        \"longitude\": longitude}\n",
    "    \n",
    "    df = np.array([[house_age, transit_distance, local_convenience_stores, latitude, longitude]]).astype('float64')\n",
    "#     df = pd.DataFrame(data, index = [0]).drop(\"transaction_date\", axis = 1, inplace = True)\n",
    "    prediction = model_GB.predict(df).round(2)[0]\n",
    "    return f\"Predicted apartment price: ${prediction}\""
   ]
  },
  {
   "cell_type": "code",
   "execution_count": 679,
   "id": "3443eaff",
   "metadata": {},
   "outputs": [
    {
     "data": {
      "text/plain": [
       "'Predicted apartment price: $40.19'"
      ]
     },
     "execution_count": 679,
     "metadata": {},
     "output_type": "execute_result"
    }
   ],
   "source": [
    "make_prediction(2013.167, 16.2, 289.3248, 5, 24.98203, 121.54348)"
   ]
  }
 ],
 "metadata": {
  "kernelspec": {
   "display_name": "Python 3 (ipykernel)",
   "language": "python",
   "name": "python3"
  },
  "language_info": {
   "codemirror_mode": {
    "name": "ipython",
    "version": 3
   },
   "file_extension": ".py",
   "mimetype": "text/x-python",
   "name": "python",
   "nbconvert_exporter": "python",
   "pygments_lexer": "ipython3",
   "version": "3.9.13"
  }
 },
 "nbformat": 4,
 "nbformat_minor": 5
}
